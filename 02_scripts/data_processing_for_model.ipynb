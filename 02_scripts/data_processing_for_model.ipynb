{
 "cells": [
  {
   "attachments": {},
   "cell_type": "markdown",
   "metadata": {},
   "source": [
    "# Impact of factors on retention"
   ]
  },
  {
   "attachments": {},
   "cell_type": "markdown",
   "metadata": {},
   "source": [
    "## Import libraries"
   ]
  },
  {
   "cell_type": "code",
   "execution_count": 115,
   "metadata": {},
   "outputs": [],
   "source": [
    "import numpy as np\n",
    "import pandas as pd\n",
    "import matplotlib.pyplot as plt\n",
    "import statsmodels.api as sm\n",
    "import seaborn as sns\n",
    "#import geopandas as gpd"
   ]
  },
  {
   "attachments": {},
   "cell_type": "markdown",
   "metadata": {},
   "source": [
    "Read turnover data from csv into a dataframe."
   ]
  },
  {
   "cell_type": "code",
   "execution_count": 170,
   "metadata": {},
   "outputs": [
    {
     "name": "stdout",
     "output_type": "stream",
     "text": [
      "<class 'pandas.core.frame.DataFrame'>\n",
      "RangeIndex: 145156 entries, 0 to 145155\n",
      "Data columns (total 11 columns):\n",
      " #   Column       Non-Null Count   Dtype         \n",
      "---  ------       --------------   -----         \n",
      " 0   org_code     145156 non-null  object        \n",
      " 1   region_name  145156 non-null  object        \n",
      " 2   org_type     145156 non-null  object        \n",
      " 3   staff_group  145156 non-null  object        \n",
      " 4   month_year   145156 non-null  datetime64[ns]\n",
      " 5   join_HC      108508 non-null  float64       \n",
      " 6   join_FTE     108508 non-null  float64       \n",
      " 7   leave_HC     108678 non-null  float64       \n",
      " 8   leave_FTE    108678 non-null  float64       \n",
      " 9   denom_HC     144909 non-null  float64       \n",
      " 10  denom_FTE    144909 non-null  float64       \n",
      "dtypes: datetime64[ns](1), float64(6), object(4)\n",
      "memory usage: 12.2+ MB\n"
     ]
    }
   ],
   "source": [
    "#month = \"february\"\n",
    "#year = \"2023\"\n",
    "url = f'../01_data/processed_monthly_turnover.csv'\n",
    "df = pd.read_csv(url, parse_dates=['month_year'])\n",
    "#df = df.sort_values(by='Date')\n",
    "df = df.drop(['n'],axis=1)\n",
    "df.info()\n"
   ]
  },
  {
   "cell_type": "markdown",
   "metadata": {},
   "source": [
    "Calculate a leaver and joiner rate, drop FTE and HC columns"
   ]
  },
  {
   "cell_type": "code",
   "execution_count": 171,
   "metadata": {},
   "outputs": [],
   "source": [
    "df['leaver_rate'] = df['leave_FTE']/df['denom_FTE']\n",
    "df['joiner_rate'] = df['join_FTE']/df['denom_FTE']\n",
    "\n",
    "df.replace([np.inf, -np.inf], np.nan, inplace=True)\n",
    "\n",
    "df['leaver_rate'].fillna(0, inplace=True)\n",
    "df['joiner_rate'].fillna(0, inplace=True)\n",
    "\n",
    "df = df.drop(['join_HC','leave_HC'],axis=1)\n"
   ]
  },
  {
   "cell_type": "code",
   "execution_count": 173,
   "metadata": {},
   "outputs": [],
   "source": [
    "#df['staff_group'].unique()"
   ]
  },
  {
   "cell_type": "markdown",
   "metadata": {},
   "source": [
    "Calculate a total staff in post (SIP; all staff) FTE column for each organisation by month."
   ]
  },
  {
   "cell_type": "code",
   "execution_count": 174,
   "metadata": {},
   "outputs": [],
   "source": [
    "# Set the 'total_sip_FTE' value to be equal to the 'FTE' value for 'All staff groups' \n",
    "allstaff_fte = df.loc[df['staff_group'] == 'All staff groups',\n",
    "                      ['month_year', 'org_code', 'denom_FTE']].groupby(['month_year', 'org_code'])['denom_FTE'].sum().reset_index()\n",
    "\n",
    "allstaff_fte.rename(columns={'denom_FTE':'total_sip_FTE'},inplace=True)\n",
    "\n",
    "\n",
    "df = pd.merge(df, allstaff_fte, on=['month_year', 'org_code'], how='left')\n",
    "#drop denom HC\n",
    "df = df.drop(['denom_HC'],axis=1)\n",
    "df.head()"
   ]
  },
  {
   "attachments": {},
   "cell_type": "markdown",
   "metadata": {},
   "source": [
    "The data show the full time equivalent (FTE) number of leavers by organisation and staff group for the previous 12-month period from the date. It also shows the number of staff in post (SIP) FTE averaged over the 12-month period to date."
   ]
  },
  {
   "attachments": {},
   "cell_type": "markdown",
   "metadata": {},
   "source": [
    "Load data about local unemployment so we can use it as a regressor"
   ]
  },
  {
   "cell_type": "code",
   "execution_count": 177,
   "metadata": {},
   "outputs": [
    {
     "data": {
      "text/html": [
       "<div>\n",
       "<style scoped>\n",
       "    .dataframe tbody tr th:only-of-type {\n",
       "        vertical-align: middle;\n",
       "    }\n",
       "\n",
       "    .dataframe tbody tr th {\n",
       "        vertical-align: top;\n",
       "    }\n",
       "\n",
       "    .dataframe thead th {\n",
       "        text-align: right;\n",
       "    }\n",
       "</style>\n",
       "<table border=\"1\" class=\"dataframe\">\n",
       "  <thead>\n",
       "    <tr style=\"text-align: right;\">\n",
       "      <th></th>\n",
       "      <th>Date</th>\n",
       "      <th>Region</th>\n",
       "      <th>NHSE region name</th>\n",
       "      <th>%</th>\n",
       "      <th>thousands</th>\n",
       "    </tr>\n",
       "  </thead>\n",
       "  <tbody>\n",
       "    <tr>\n",
       "      <th>3343</th>\n",
       "      <td>2023-03-01</td>\n",
       "      <td>North West</td>\n",
       "      <td>North West</td>\n",
       "      <td>0.030</td>\n",
       "      <td>107</td>\n",
       "    </tr>\n",
       "    <tr>\n",
       "      <th>3344</th>\n",
       "      <td>2023-03-01</td>\n",
       "      <td>South East</td>\n",
       "      <td>South East</td>\n",
       "      <td>0.037</td>\n",
       "      <td>177</td>\n",
       "    </tr>\n",
       "    <tr>\n",
       "      <th>3345</th>\n",
       "      <td>2023-03-01</td>\n",
       "      <td>South West</td>\n",
       "      <td>South West</td>\n",
       "      <td>0.031</td>\n",
       "      <td>89</td>\n",
       "    </tr>\n",
       "    <tr>\n",
       "      <th>3346</th>\n",
       "      <td>2023-03-01</td>\n",
       "      <td>West Midlands</td>\n",
       "      <td>Midlands</td>\n",
       "      <td>0.048</td>\n",
       "      <td>147</td>\n",
       "    </tr>\n",
       "    <tr>\n",
       "      <th>3347</th>\n",
       "      <td>2023-03-01</td>\n",
       "      <td>York &amp; the Humber</td>\n",
       "      <td>North East and Yorkshire</td>\n",
       "      <td>0.038</td>\n",
       "      <td>104</td>\n",
       "    </tr>\n",
       "  </tbody>\n",
       "</table>\n",
       "</div>"
      ],
      "text/plain": [
       "           Date             Region          NHSE region name      %  thousands\n",
       "3343 2023-03-01         North West                North West  0.030        107\n",
       "3344 2023-03-01         South East                South East  0.037        177\n",
       "3345 2023-03-01         South West                South West  0.031         89\n",
       "3346 2023-03-01      West Midlands                  Midlands  0.048        147\n",
       "3347 2023-03-01  York & the Humber  North East and Yorkshire  0.038        104"
      ]
     },
     "execution_count": 177,
     "metadata": {},
     "output_type": "execute_result"
    }
   ],
   "source": [
    "url_r1 = '../01_data/ONS_localunemployment_monthly.csv'\n",
    "df_r1 = pd.read_csv(url_r1, parse_dates=['Date'])\n",
    "\n",
    "df_r1.tail()"
   ]
  },
  {
   "cell_type": "code",
   "execution_count": 178,
   "metadata": {},
   "outputs": [
    {
     "name": "stdout",
     "output_type": "stream",
     "text": [
      "<class 'pandas.core.frame.DataFrame'>\n",
      "Index: 3348 entries, 0 to 3347\n",
      "Data columns (total 3 columns):\n",
      " #   Column              Non-Null Count  Dtype         \n",
      "---  ------              --------------  -----         \n",
      " 0   month_year          3348 non-null   datetime64[ns]\n",
      " 1   region_name         3348 non-null   object        \n",
      " 2   local_unemployment  3348 non-null   float64       \n",
      "dtypes: datetime64[ns](1), float64(1), object(1)\n",
      "memory usage: 104.6+ KB\n"
     ]
    }
   ],
   "source": [
    "df_r1.drop(['Region','thousands'],axis=1,inplace=True)\n",
    "df_r1.rename(columns={'%':'local_unemployment','Date':'month_year',\n",
    "                      'NHSE region name':'region_name'},inplace=True)\n",
    "df_r1 = df_r1.sort_values('month_year')\n",
    "df_r1.info()"
   ]
  },
  {
   "attachments": {},
   "cell_type": "markdown",
   "metadata": {},
   "source": [
    "Add data about local unemployment at the regional level to the main dataframe"
   ]
  },
  {
   "cell_type": "code",
   "execution_count": 179,
   "metadata": {},
   "outputs": [
    {
     "name": "stdout",
     "output_type": "stream",
     "text": [
      "<class 'pandas.core.frame.DataFrame'>\n",
      "RangeIndex: 166685 entries, 0 to 166684\n",
      "Data columns (total 12 columns):\n",
      " #   Column              Non-Null Count   Dtype         \n",
      "---  ------              --------------   -----         \n",
      " 0   org_code            166685 non-null  object        \n",
      " 1   region_name         166685 non-null  object        \n",
      " 2   org_type            166685 non-null  object        \n",
      " 3   staff_group         166685 non-null  object        \n",
      " 4   month_year          166685 non-null  datetime64[ns]\n",
      " 5   join_FTE            124537 non-null  float64       \n",
      " 6   leave_FTE           124682 non-null  float64       \n",
      " 7   denom_FTE           166405 non-null  float64       \n",
      " 8   leaver_rate         166685 non-null  float64       \n",
      " 9   joiner_rate         166685 non-null  float64       \n",
      " 10  total_sip_FTE       166685 non-null  float64       \n",
      " 11  local_unemployment  139168 non-null  float64       \n",
      "dtypes: datetime64[ns](1), float64(7), object(4)\n",
      "memory usage: 15.3+ MB\n"
     ]
    }
   ],
   "source": [
    "df_leaver_r1 = pd.merge(df, df_r1, on=['month_year', 'region_name'],how='left')\n",
    "#df_leaver_r1 = df_leaver_r1.dropna()\n",
    "df_leaver_r1.info()"
   ]
  },
  {
   "cell_type": "code",
   "execution_count": 180,
   "metadata": {},
   "outputs": [
    {
     "data": {
      "text/html": [
       "<div>\n",
       "<style scoped>\n",
       "    .dataframe tbody tr th:only-of-type {\n",
       "        vertical-align: middle;\n",
       "    }\n",
       "\n",
       "    .dataframe tbody tr th {\n",
       "        vertical-align: top;\n",
       "    }\n",
       "\n",
       "    .dataframe thead th {\n",
       "        text-align: right;\n",
       "    }\n",
       "</style>\n",
       "<table border=\"1\" class=\"dataframe\">\n",
       "  <thead>\n",
       "    <tr style=\"text-align: right;\">\n",
       "      <th></th>\n",
       "      <th>org_code</th>\n",
       "      <th>region_name</th>\n",
       "      <th>org_type</th>\n",
       "      <th>staff_group</th>\n",
       "      <th>month_year</th>\n",
       "      <th>join_FTE</th>\n",
       "      <th>leave_FTE</th>\n",
       "      <th>denom_FTE</th>\n",
       "      <th>leaver_rate</th>\n",
       "      <th>joiner_rate</th>\n",
       "      <th>total_sip_FTE</th>\n",
       "      <th>local_unemployment</th>\n",
       "    </tr>\n",
       "  </thead>\n",
       "  <tbody>\n",
       "    <tr>\n",
       "      <th>25222</th>\n",
       "      <td>RCF</td>\n",
       "      <td>North East and Yorkshire</td>\n",
       "      <td>Acute - Small</td>\n",
       "      <td>Central functions</td>\n",
       "      <td>2024-02-01</td>\n",
       "      <td>NaN</td>\n",
       "      <td>NaN</td>\n",
       "      <td>231.51455</td>\n",
       "      <td>0.0</td>\n",
       "      <td>0.0</td>\n",
       "      <td>3025.58627</td>\n",
       "      <td>NaN</td>\n",
       "    </tr>\n",
       "    <tr>\n",
       "      <th>103597</th>\n",
       "      <td>RTH</td>\n",
       "      <td>South East</td>\n",
       "      <td>Acute - Teaching</td>\n",
       "      <td>Midwives</td>\n",
       "      <td>2024-02-01</td>\n",
       "      <td>NaN</td>\n",
       "      <td>NaN</td>\n",
       "      <td>284.91058</td>\n",
       "      <td>0.0</td>\n",
       "      <td>0.0</td>\n",
       "      <td>11593.99306</td>\n",
       "      <td>NaN</td>\n",
       "    </tr>\n",
       "    <tr>\n",
       "      <th>25166</th>\n",
       "      <td>RCF</td>\n",
       "      <td>North East and Yorkshire</td>\n",
       "      <td>Acute - Small</td>\n",
       "      <td>Ambulance staff</td>\n",
       "      <td>2024-02-01</td>\n",
       "      <td>NaN</td>\n",
       "      <td>NaN</td>\n",
       "      <td>8.00000</td>\n",
       "      <td>0.0</td>\n",
       "      <td>0.0</td>\n",
       "      <td>3025.58627</td>\n",
       "      <td>NaN</td>\n",
       "    </tr>\n",
       "    <tr>\n",
       "      <th>104561</th>\n",
       "      <td>RTK</td>\n",
       "      <td>South East</td>\n",
       "      <td>Acute - Medium</td>\n",
       "      <td>Senior managers</td>\n",
       "      <td>2024-02-01</td>\n",
       "      <td>NaN</td>\n",
       "      <td>NaN</td>\n",
       "      <td>48.46000</td>\n",
       "      <td>0.0</td>\n",
       "      <td>0.0</td>\n",
       "      <td>3919.26900</td>\n",
       "      <td>NaN</td>\n",
       "    </tr>\n",
       "    <tr>\n",
       "      <th>166684</th>\n",
       "      <td>TAJ</td>\n",
       "      <td>Midlands</td>\n",
       "      <td>Mental Health and Learning Disability</td>\n",
       "      <td>Support to doctors, nurses &amp; midwives</td>\n",
       "      <td>2024-02-01</td>\n",
       "      <td>NaN</td>\n",
       "      <td>NaN</td>\n",
       "      <td>871.02637</td>\n",
       "      <td>0.0</td>\n",
       "      <td>0.0</td>\n",
       "      <td>3434.33954</td>\n",
       "      <td>NaN</td>\n",
       "    </tr>\n",
       "  </tbody>\n",
       "</table>\n",
       "</div>"
      ],
      "text/plain": [
       "       org_code               region_name  \\\n",
       "25222       RCF  North East and Yorkshire   \n",
       "103597      RTH                South East   \n",
       "25166       RCF  North East and Yorkshire   \n",
       "104561      RTK                South East   \n",
       "166684      TAJ                  Midlands   \n",
       "\n",
       "                                     org_type  \\\n",
       "25222                           Acute - Small   \n",
       "103597                       Acute - Teaching   \n",
       "25166                           Acute - Small   \n",
       "104561                         Acute - Medium   \n",
       "166684  Mental Health and Learning Disability   \n",
       "\n",
       "                                  staff_group month_year  join_FTE  leave_FTE  \\\n",
       "25222                       Central functions 2024-02-01       NaN        NaN   \n",
       "103597                               Midwives 2024-02-01       NaN        NaN   \n",
       "25166                         Ambulance staff 2024-02-01       NaN        NaN   \n",
       "104561                        Senior managers 2024-02-01       NaN        NaN   \n",
       "166684  Support to doctors, nurses & midwives 2024-02-01       NaN        NaN   \n",
       "\n",
       "        denom_FTE  leaver_rate  joiner_rate  total_sip_FTE  local_unemployment  \n",
       "25222   231.51455          0.0          0.0     3025.58627                 NaN  \n",
       "103597  284.91058          0.0          0.0    11593.99306                 NaN  \n",
       "25166     8.00000          0.0          0.0     3025.58627                 NaN  \n",
       "104561   48.46000          0.0          0.0     3919.26900                 NaN  \n",
       "166684  871.02637          0.0          0.0     3434.33954                 NaN  "
      ]
     },
     "execution_count": 180,
     "metadata": {},
     "output_type": "execute_result"
    }
   ],
   "source": [
    "df_leaver_r1 = df_leaver_r1.sort_values('month_year')\n",
    "df_leaver_r1.tail()"
   ]
  },
  {
   "attachments": {},
   "cell_type": "markdown",
   "metadata": {},
   "source": [
    "Load data about sickness absence to use as second regressor"
   ]
  },
  {
   "cell_type": "code",
   "execution_count": 181,
   "metadata": {},
   "outputs": [
    {
     "name": "stdout",
     "output_type": "stream",
     "text": [
      "<class 'pandas.core.frame.DataFrame'>\n",
      "RangeIndex: 238743 entries, 0 to 238742\n",
      "Data columns (total 6 columns):\n",
      " #   Column              Non-Null Count   Dtype         \n",
      "---  ------              --------------   -----         \n",
      " 0   month_year          238743 non-null  datetime64[ns]\n",
      " 1   org_code            238743 non-null  object        \n",
      " 2   region_name         238743 non-null  object        \n",
      " 3   staff_group         238743 non-null  object        \n",
      " 4   FTE days lost       238743 non-null  float64       \n",
      " 5   FTE days available  238743 non-null  float64       \n",
      "dtypes: datetime64[ns](1), float64(2), object(3)\n",
      "memory usage: 10.9+ MB\n"
     ]
    }
   ],
   "source": [
    "url_r2 = '../01_data/sickness_absence.csv'\n",
    "df_r2 = pd.read_csv(url_r2, parse_dates=['Date'])\n",
    "trust_types_todrop = ['Clinical Commissioning Group','Integrated Care Board']\n",
    "df_r2 = df_r2[~df_r2['Cluster group'].isin(trust_types_todrop)]\n",
    "df_r2 = df_r2.drop(['Benchmark group','Org name',\n",
    "                    'NHSE region code','Cluster group'],axis=1)\n",
    "df_r2.rename(columns={'Org code':'org_code','Date':'month_year',\n",
    "                      'NHSE region name':'region_name','Staff group':'staff_group'},inplace=True)\n",
    "df_r2 = df_r2.reset_index(drop=True)\n",
    "df_r2.info()"
   ]
  },
  {
   "cell_type": "code",
   "execution_count": 182,
   "metadata": {},
   "outputs": [
    {
     "data": {
      "text/html": [
       "<div>\n",
       "<style scoped>\n",
       "    .dataframe tbody tr th:only-of-type {\n",
       "        vertical-align: middle;\n",
       "    }\n",
       "\n",
       "    .dataframe tbody tr th {\n",
       "        vertical-align: top;\n",
       "    }\n",
       "\n",
       "    .dataframe thead th {\n",
       "        text-align: right;\n",
       "    }\n",
       "</style>\n",
       "<table border=\"1\" class=\"dataframe\">\n",
       "  <thead>\n",
       "    <tr style=\"text-align: right;\">\n",
       "      <th></th>\n",
       "      <th>month_year</th>\n",
       "      <th>org_code</th>\n",
       "      <th>region_name</th>\n",
       "      <th>staff_group</th>\n",
       "      <th>FTE days lost</th>\n",
       "      <th>FTE days available</th>\n",
       "    </tr>\n",
       "  </thead>\n",
       "  <tbody>\n",
       "    <tr>\n",
       "      <th>238738</th>\n",
       "      <td>2022-06-01</td>\n",
       "      <td>RRF</td>\n",
       "      <td>North West</td>\n",
       "      <td>Support to ST&amp;T staff</td>\n",
       "      <td>436.00301</td>\n",
       "      <td>6546.33419</td>\n",
       "    </tr>\n",
       "    <tr>\n",
       "      <th>238739</th>\n",
       "      <td>2022-06-01</td>\n",
       "      <td>RVY</td>\n",
       "      <td>North West</td>\n",
       "      <td>Hotel, property &amp; estates</td>\n",
       "      <td>577.86664</td>\n",
       "      <td>8158.65161</td>\n",
       "    </tr>\n",
       "    <tr>\n",
       "      <th>238740</th>\n",
       "      <td>2022-06-01</td>\n",
       "      <td>RWE</td>\n",
       "      <td>Midlands</td>\n",
       "      <td>Support to doctors, nurses &amp; midwives</td>\n",
       "      <td>7081.34638</td>\n",
       "      <td>112685.24840</td>\n",
       "    </tr>\n",
       "    <tr>\n",
       "      <th>238741</th>\n",
       "      <td>2022-06-01</td>\n",
       "      <td>RWP</td>\n",
       "      <td>Midlands</td>\n",
       "      <td>Midwives</td>\n",
       "      <td>531.53824</td>\n",
       "      <td>6310.98954</td>\n",
       "    </tr>\n",
       "    <tr>\n",
       "      <th>238742</th>\n",
       "      <td>2022-06-01</td>\n",
       "      <td>RWK</td>\n",
       "      <td>London</td>\n",
       "      <td>Senior managers</td>\n",
       "      <td>38.00000</td>\n",
       "      <td>4882.41354</td>\n",
       "    </tr>\n",
       "  </tbody>\n",
       "</table>\n",
       "</div>"
      ],
      "text/plain": [
       "       month_year org_code region_name                            staff_group  \\\n",
       "238738 2022-06-01      RRF  North West                  Support to ST&T staff   \n",
       "238739 2022-06-01      RVY  North West              Hotel, property & estates   \n",
       "238740 2022-06-01      RWE    Midlands  Support to doctors, nurses & midwives   \n",
       "238741 2022-06-01      RWP    Midlands                               Midwives   \n",
       "238742 2022-06-01      RWK      London                        Senior managers   \n",
       "\n",
       "        FTE days lost  FTE days available  \n",
       "238738      436.00301          6546.33419  \n",
       "238739      577.86664          8158.65161  \n",
       "238740     7081.34638        112685.24840  \n",
       "238741      531.53824          6310.98954  \n",
       "238742       38.00000          4882.41354  "
      ]
     },
     "execution_count": 182,
     "metadata": {},
     "output_type": "execute_result"
    }
   ],
   "source": [
    "df_r2.tail()"
   ]
  },
  {
   "attachments": {},
   "cell_type": "markdown",
   "metadata": {},
   "source": [
    "Add sickness absence data to the main dataframe"
   ]
  },
  {
   "cell_type": "code",
   "execution_count": 185,
   "metadata": {},
   "outputs": [
    {
     "name": "stdout",
     "output_type": "stream",
     "text": [
      "<class 'pandas.core.frame.DataFrame'>\n",
      "RangeIndex: 217802 entries, 0 to 217801\n",
      "Data columns (total 14 columns):\n",
      " #   Column              Non-Null Count   Dtype         \n",
      "---  ------              --------------   -----         \n",
      " 0   org_code            217802 non-null  object        \n",
      " 1   region_name         217802 non-null  object        \n",
      " 2   org_type            217802 non-null  object        \n",
      " 3   staff_group         217802 non-null  object        \n",
      " 4   month_year          217802 non-null  datetime64[ns]\n",
      " 5   join_FTE            167591 non-null  float64       \n",
      " 6   leave_FTE           168167 non-null  float64       \n",
      " 7   denom_FTE           217498 non-null  float64       \n",
      " 8   leaver_rate         217802 non-null  float64       \n",
      " 9   joiner_rate         217802 non-null  float64       \n",
      " 10  total_sip_FTE       217802 non-null  float64       \n",
      " 11  local_unemployment  190285 non-null  float64       \n",
      " 12  fte_days_lost       168130 non-null  float64       \n",
      " 13  sickness_absence    167883 non-null  float64       \n",
      "dtypes: datetime64[ns](1), float64(9), object(4)\n",
      "memory usage: 23.3+ MB\n"
     ]
    }
   ],
   "source": [
    "merge_cols = ['month_year', 'org_code','region_name','staff_group']\n",
    "df_leaver_r2 = pd.merge(df_leaver_r1, df_r2, on=merge_cols,how='left')\n",
    "#df_leaver_r2 = df_leaver_r2.dropna()\n",
    "df_leaver_r2.drop_duplicates(subset=merge_cols)\n",
    "df_leaver_r2.rename(columns={'FTE days lost':'fte_days_lost','FTE days available':'fte_days_available'},inplace=True)\n",
    "df_leaver_r2['sickness_absence'] = df_leaver_r2['fte_days_lost']/df_leaver_r2['fte_days_available']\n",
    "df_leaver_r2 = df_leaver_r2.drop(['fte_days_available'],axis=1)\n",
    "df_leaver_r2.info()"
   ]
  },
  {
   "cell_type": "markdown",
   "metadata": {},
   "source": [
    "Add data about reasons for sickness absence"
   ]
  },
  {
   "cell_type": "code",
   "execution_count": 187,
   "metadata": {},
   "outputs": [
    {
     "name": "stdout",
     "output_type": "stream",
     "text": [
      "<class 'pandas.core.frame.DataFrame'>\n",
      "RangeIndex: 1361 entries, 0 to 1360\n",
      "Data columns (total 13 columns):\n",
      " #   Column             Non-Null Count  Dtype         \n",
      "---  ------             --------------  -----         \n",
      " 0   month_year         1361 non-null   datetime64[ns]\n",
      " 1   staff_group        1361 non-null   object        \n",
      " 2   anxiety_stress     1361 non-null   float64       \n",
      " 3   back_problems      1361 non-null   float64       \n",
      " 4   gastro             1361 non-null   float64       \n",
      " 5   gynaecological     1361 non-null   float64       \n",
      " 6   headache_mig       1361 non-null   float64       \n",
      " 7   infectious_dis     1361 non-null   float64       \n",
      " 8   other              1361 non-null   float64       \n",
      " 9   other_msk          1361 non-null   float64       \n",
      " 10  pregnancy_related  1361 non-null   float64       \n",
      " 11  respiratory        1361 non-null   float64       \n",
      " 12  unknown            1361 non-null   float64       \n",
      "dtypes: datetime64[ns](1), float64(11), object(1)\n",
      "memory usage: 138.4+ KB\n"
     ]
    }
   ],
   "source": [
    "url_r3 = '../01_data/sickness_absence_reason_pivot.csv'\n",
    "df_r3 = pd.read_csv(url_r3, parse_dates=['Date'])\n",
    "#df_r3 = df_r3.drop(['FTE days lost'],axis=1)\n",
    "df_r3.rename(columns={'Date':'month_year','Staff group':'staff_group'},inplace=True)\n",
    "#df_r2 = df_r2.reset_index(drop=True)\n",
    "\n",
    "# drop least frequent reasons for absence\n",
    "df_r3 = df_r3.drop(['substance_abus','asthma',\n",
    "                    'dental','blood_disorder','endocrine',\n",
    "                    'eye','skin_disorders','nervous_system'],axis=1)\n",
    "\n",
    "\n",
    "# Replace NaN values with 0 \n",
    "df_r3 = df_r3.fillna(0)\n",
    "df_r3.info()"
   ]
  },
  {
   "cell_type": "markdown",
   "metadata": {},
   "source": [
    "Add sickness absence reason data to main dataframe"
   ]
  },
  {
   "cell_type": "code",
   "execution_count": 188,
   "metadata": {},
   "outputs": [
    {
     "name": "stdout",
     "output_type": "stream",
     "text": [
      "<class 'pandas.core.frame.DataFrame'>\n",
      "RangeIndex: 217802 entries, 0 to 217801\n",
      "Data columns (total 25 columns):\n",
      " #   Column              Non-Null Count   Dtype         \n",
      "---  ------              --------------   -----         \n",
      " 0   org_code            217802 non-null  object        \n",
      " 1   region_name         217802 non-null  object        \n",
      " 2   org_type            217802 non-null  object        \n",
      " 3   staff_group         217802 non-null  object        \n",
      " 4   month_year          217802 non-null  datetime64[ns]\n",
      " 5   join_FTE            167591 non-null  float64       \n",
      " 6   leave_FTE           168167 non-null  float64       \n",
      " 7   denom_FTE           217498 non-null  float64       \n",
      " 8   leaver_rate         217802 non-null  float64       \n",
      " 9   joiner_rate         217802 non-null  float64       \n",
      " 10  total_sip_FTE       217802 non-null  float64       \n",
      " 11  local_unemployment  190285 non-null  float64       \n",
      " 12  fte_days_lost       168130 non-null  float64       \n",
      " 13  sickness_absence    167883 non-null  float64       \n",
      " 14  anxiety_stress      184518 non-null  float64       \n",
      " 15  back_problems       184518 non-null  float64       \n",
      " 16  gastro              184518 non-null  float64       \n",
      " 17  gynaecological      184518 non-null  float64       \n",
      " 18  headache_mig        184518 non-null  float64       \n",
      " 19  infectious_dis      184518 non-null  float64       \n",
      " 20  other               184518 non-null  float64       \n",
      " 21  other_msk           184518 non-null  float64       \n",
      " 22  pregnancy_related   184518 non-null  float64       \n",
      " 23  respiratory         184518 non-null  float64       \n",
      " 24  unknown             184518 non-null  float64       \n",
      "dtypes: datetime64[ns](1), float64(20), object(4)\n",
      "memory usage: 41.5+ MB\n"
     ]
    }
   ],
   "source": [
    "merge_cols = ['month_year','staff_group']\n",
    "df_leaver_r3 = pd.merge(df_leaver_r2, df_r3, on=merge_cols,how='left')\n",
    "#df_leaver_r2 = df_leaver_r2.dropna()\n",
    "#df_leaver_r3.drop_duplicates(subset=merge_cols)\n",
    "df_leaver_r3.info()"
   ]
  },
  {
   "cell_type": "code",
   "execution_count": 189,
   "metadata": {},
   "outputs": [
    {
     "data": {
      "text/plain": [
       "Timestamp('2024-02-01 00:00:00')"
      ]
     },
     "execution_count": 189,
     "metadata": {},
     "output_type": "execute_result"
    }
   ],
   "source": [
    "df_leaver_r3['month_year'].max()\n",
    "#date_max = df['Date'].max()"
   ]
  },
  {
   "cell_type": "markdown",
   "metadata": {},
   "source": [
    "Need to cut to latest date of all available data"
   ]
  },
  {
   "cell_type": "code",
   "execution_count": 190,
   "metadata": {},
   "outputs": [],
   "source": [
    "max_date = '2023-02-01'\n",
    "df_leaver_r3 = df_leaver_r3[df_leaver_r3['month_year'] <= max_date]"
   ]
  },
  {
   "cell_type": "code",
   "execution_count": 133,
   "metadata": {},
   "outputs": [],
   "source": [
    "#url = 'REF_SICK_ABSENCE_REASONS.csv'\n",
    "#df_ref_reason = pd.read_csv(url)\n",
    "\n",
    "#reason_short = sorted(df_ref_reason['reason_short'].unique())"
   ]
  },
  {
   "cell_type": "code",
   "execution_count": 191,
   "metadata": {},
   "outputs": [
    {
     "data": {
      "text/html": [
       "<div>\n",
       "<style scoped>\n",
       "    .dataframe tbody tr th:only-of-type {\n",
       "        vertical-align: middle;\n",
       "    }\n",
       "\n",
       "    .dataframe tbody tr th {\n",
       "        vertical-align: top;\n",
       "    }\n",
       "\n",
       "    .dataframe thead th {\n",
       "        text-align: right;\n",
       "    }\n",
       "</style>\n",
       "<table border=\"1\" class=\"dataframe\">\n",
       "  <thead>\n",
       "    <tr style=\"text-align: right;\">\n",
       "      <th></th>\n",
       "      <th>org_code</th>\n",
       "      <th>region_name</th>\n",
       "      <th>org_type</th>\n",
       "      <th>staff_group</th>\n",
       "      <th>month_year</th>\n",
       "      <th>join_FTE</th>\n",
       "      <th>leave_FTE</th>\n",
       "      <th>denom_FTE</th>\n",
       "      <th>leaver_rate</th>\n",
       "      <th>joiner_rate</th>\n",
       "      <th>...</th>\n",
       "      <th>back_problems</th>\n",
       "      <th>gastro</th>\n",
       "      <th>gynaecological</th>\n",
       "      <th>headache_mig</th>\n",
       "      <th>infectious_dis</th>\n",
       "      <th>other</th>\n",
       "      <th>other_msk</th>\n",
       "      <th>pregnancy_related</th>\n",
       "      <th>respiratory</th>\n",
       "      <th>unknown</th>\n",
       "    </tr>\n",
       "  </thead>\n",
       "  <tbody>\n",
       "    <tr>\n",
       "      <th>0</th>\n",
       "      <td>R0A</td>\n",
       "      <td>North West</td>\n",
       "      <td>Acute - Teaching</td>\n",
       "      <td>All staff groups</td>\n",
       "      <td>2019-07-01</td>\n",
       "      <td>214.415</td>\n",
       "      <td>225.3881</td>\n",
       "      <td>17710.16849</td>\n",
       "      <td>0.012726</td>\n",
       "      <td>0.012107</td>\n",
       "      <td>...</td>\n",
       "      <td>0.068083</td>\n",
       "      <td>0.106523</td>\n",
       "      <td>0.047566</td>\n",
       "      <td>0.028534</td>\n",
       "      <td>0.007154</td>\n",
       "      <td>0.096771</td>\n",
       "      <td>0.132680</td>\n",
       "      <td>0.033153</td>\n",
       "      <td>0.029796</td>\n",
       "      <td>0.061364</td>\n",
       "    </tr>\n",
       "    <tr>\n",
       "      <th>1</th>\n",
       "      <td>R0A</td>\n",
       "      <td>North West</td>\n",
       "      <td>Acute - Teaching</td>\n",
       "      <td>All staff groups</td>\n",
       "      <td>2019-07-01</td>\n",
       "      <td>214.415</td>\n",
       "      <td>225.3881</td>\n",
       "      <td>17710.16849</td>\n",
       "      <td>0.012726</td>\n",
       "      <td>0.012107</td>\n",
       "      <td>...</td>\n",
       "      <td>0.068083</td>\n",
       "      <td>0.106523</td>\n",
       "      <td>0.047566</td>\n",
       "      <td>0.028534</td>\n",
       "      <td>0.007154</td>\n",
       "      <td>0.096771</td>\n",
       "      <td>0.132680</td>\n",
       "      <td>0.033153</td>\n",
       "      <td>0.029796</td>\n",
       "      <td>0.061364</td>\n",
       "    </tr>\n",
       "    <tr>\n",
       "      <th>2</th>\n",
       "      <td>RYF</td>\n",
       "      <td>South West</td>\n",
       "      <td>Ambulance Trust</td>\n",
       "      <td>HCHS doctors (exc. junior Drs)</td>\n",
       "      <td>2019-07-01</td>\n",
       "      <td>0.000</td>\n",
       "      <td>0.0000</td>\n",
       "      <td>0.40000</td>\n",
       "      <td>0.000000</td>\n",
       "      <td>0.000000</td>\n",
       "      <td>...</td>\n",
       "      <td>0.047676</td>\n",
       "      <td>0.116017</td>\n",
       "      <td>0.023949</td>\n",
       "      <td>0.025534</td>\n",
       "      <td>0.010035</td>\n",
       "      <td>0.141891</td>\n",
       "      <td>0.078136</td>\n",
       "      <td>0.030772</td>\n",
       "      <td>0.020613</td>\n",
       "      <td>0.165389</td>\n",
       "    </tr>\n",
       "    <tr>\n",
       "      <th>3</th>\n",
       "      <td>RJ1</td>\n",
       "      <td>London</td>\n",
       "      <td>Acute - Teaching</td>\n",
       "      <td>Support to ST&amp;T staff</td>\n",
       "      <td>2019-07-01</td>\n",
       "      <td>8.800</td>\n",
       "      <td>9.0000</td>\n",
       "      <td>352.39297</td>\n",
       "      <td>0.025540</td>\n",
       "      <td>0.024972</td>\n",
       "      <td>...</td>\n",
       "      <td>0.070096</td>\n",
       "      <td>0.120107</td>\n",
       "      <td>0.047466</td>\n",
       "      <td>0.036262</td>\n",
       "      <td>0.008085</td>\n",
       "      <td>0.087104</td>\n",
       "      <td>0.140422</td>\n",
       "      <td>0.028749</td>\n",
       "      <td>0.033503</td>\n",
       "      <td>0.045798</td>\n",
       "    </tr>\n",
       "    <tr>\n",
       "      <th>4</th>\n",
       "      <td>RJ1</td>\n",
       "      <td>London</td>\n",
       "      <td>Acute - Teaching</td>\n",
       "      <td>Support to ST&amp;T staff</td>\n",
       "      <td>2019-07-01</td>\n",
       "      <td>8.800</td>\n",
       "      <td>9.0000</td>\n",
       "      <td>352.39297</td>\n",
       "      <td>0.025540</td>\n",
       "      <td>0.024972</td>\n",
       "      <td>...</td>\n",
       "      <td>0.070096</td>\n",
       "      <td>0.120107</td>\n",
       "      <td>0.047466</td>\n",
       "      <td>0.036262</td>\n",
       "      <td>0.008085</td>\n",
       "      <td>0.087104</td>\n",
       "      <td>0.140422</td>\n",
       "      <td>0.028749</td>\n",
       "      <td>0.033503</td>\n",
       "      <td>0.045798</td>\n",
       "    </tr>\n",
       "  </tbody>\n",
       "</table>\n",
       "<p>5 rows × 25 columns</p>\n",
       "</div>"
      ],
      "text/plain": [
       "  org_code region_name          org_type                     staff_group  \\\n",
       "0      R0A  North West  Acute - Teaching                All staff groups   \n",
       "1      R0A  North West  Acute - Teaching                All staff groups   \n",
       "2      RYF  South West   Ambulance Trust  HCHS doctors (exc. junior Drs)   \n",
       "3      RJ1      London  Acute - Teaching           Support to ST&T staff   \n",
       "4      RJ1      London  Acute - Teaching           Support to ST&T staff   \n",
       "\n",
       "  month_year  join_FTE  leave_FTE    denom_FTE  leaver_rate  joiner_rate  ...  \\\n",
       "0 2019-07-01   214.415   225.3881  17710.16849     0.012726     0.012107  ...   \n",
       "1 2019-07-01   214.415   225.3881  17710.16849     0.012726     0.012107  ...   \n",
       "2 2019-07-01     0.000     0.0000      0.40000     0.000000     0.000000  ...   \n",
       "3 2019-07-01     8.800     9.0000    352.39297     0.025540     0.024972  ...   \n",
       "4 2019-07-01     8.800     9.0000    352.39297     0.025540     0.024972  ...   \n",
       "\n",
       "   back_problems    gastro  gynaecological  headache_mig  infectious_dis  \\\n",
       "0       0.068083  0.106523        0.047566      0.028534        0.007154   \n",
       "1       0.068083  0.106523        0.047566      0.028534        0.007154   \n",
       "2       0.047676  0.116017        0.023949      0.025534        0.010035   \n",
       "3       0.070096  0.120107        0.047466      0.036262        0.008085   \n",
       "4       0.070096  0.120107        0.047466      0.036262        0.008085   \n",
       "\n",
       "      other  other_msk  pregnancy_related  respiratory   unknown  \n",
       "0  0.096771   0.132680           0.033153     0.029796  0.061364  \n",
       "1  0.096771   0.132680           0.033153     0.029796  0.061364  \n",
       "2  0.141891   0.078136           0.030772     0.020613  0.165389  \n",
       "3  0.087104   0.140422           0.028749     0.033503  0.045798  \n",
       "4  0.087104   0.140422           0.028749     0.033503  0.045798  \n",
       "\n",
       "[5 rows x 25 columns]"
      ]
     },
     "execution_count": 191,
     "metadata": {},
     "output_type": "execute_result"
    }
   ],
   "source": [
    "# List of columns to replace NaN values with 0\n",
    "#cols = ['local_unemployment','sickness_absence','leaver_rate','joiner_rate']\n",
    "\n",
    "# Replace NaN values with 0 in the specified columns\n",
    "#df_leaver_r3[cols] = df_leaver_r3[cols].fillna(0)\n",
    "#Replace all NaN with 0\n",
    "df_leaver_r3 = df_leaver_r3.fillna(0)\n",
    "\n",
    "\n",
    "df_leaver_r3.reset_index(drop=True)\n",
    "df_leaver_r3.head()"
   ]
  },
  {
   "cell_type": "code",
   "execution_count": 135,
   "metadata": {},
   "outputs": [],
   "source": [
    "#df_check = df_leaver_r2[['joiner_rate']]\n",
    "#mask = np.isinf(df_check) | np.isnan(df_check)\n",
    "#check = df_check[mask.any(axis=1)]"
   ]
  },
  {
   "cell_type": "markdown",
   "metadata": {},
   "source": [
    "Add month of year as a variable"
   ]
  },
  {
   "cell_type": "code",
   "execution_count": 192,
   "metadata": {},
   "outputs": [],
   "source": [
    "# Extract the month from the 'Date' column and create a new column\n",
    "df_leaver_r3['month'] = df_leaver_r3['month_year'].dt.month"
   ]
  },
  {
   "cell_type": "code",
   "execution_count": 193,
   "metadata": {},
   "outputs": [],
   "source": [
    "# Extract the month from the 'Date' column and create a new column\n",
    "df_leaver_r3['year'] = df_leaver_r3['month_year'].dt.year"
   ]
  },
  {
   "attachments": {},
   "cell_type": "markdown",
   "metadata": {},
   "source": [
    "Explore independent and dependent variables"
   ]
  },
  {
   "cell_type": "code",
   "execution_count": 194,
   "metadata": {},
   "outputs": [
    {
     "data": {
      "image/png": "[encoded data removed]",
      "text/plain": [
       "<Figure size 640x480 with 2 Axes>"
      ]
     },
     "metadata": {},
     "output_type": "display_data"
    }
   ],
   "source": [
    "corr_cols = ['leaver_rate', 'sickness_absence',\n",
    "                                   'local_unemployment','joiner_rate','total_sip_FTE','anxiety_stress']\n",
    "correlation_matrix = df_leaver_r3[corr_cols].corr()\n",
    "# Create correlation matrix heatmap using Seaborn\n",
    "sns.heatmap(correlation_matrix, annot=True, cmap='coolwarm', vmin=-1, vmax=1)\n",
    "plt.title('Correlation Matrix')\n",
    "plt.show()"
   ]
  },
  {
   "attachments": {},
   "cell_type": "markdown",
   "metadata": {},
   "source": [
    "Create a staff group level dataframe - specify which staff group you want from list below in variable staff_group"
   ]
  },
  {
   "cell_type": "code",
   "execution_count": 195,
   "metadata": {},
   "outputs": [
    {
     "data": {
      "text/plain": [
       "['All staff groups',\n",
       " 'Ambulance staff',\n",
       " 'Central functions',\n",
       " 'HCHS doctors (exc. junior Drs)',\n",
       " 'Hotel, property & estates',\n",
       " 'Managers',\n",
       " 'Midwives',\n",
       " 'Nurses & health visitors',\n",
       " 'Other staff or those with unknown classification',\n",
       " 'Scientific, therapeutic & technical staff',\n",
       " 'Senior managers',\n",
       " 'Support to ST&T staff',\n",
       " 'Support to ambulance staff',\n",
       " 'Support to doctors, nurses & midwives']"
      ]
     },
     "execution_count": 195,
     "metadata": {},
     "output_type": "execute_result"
    }
   ],
   "source": [
    "sorted(df_leaver_r3['staff_group'].unique())"
   ]
  },
  {
   "cell_type": "code",
   "execution_count": 196,
   "metadata": {},
   "outputs": [],
   "source": [
    "staff_group = 'Nurses & health visitors'\n",
    "df_sg = df_leaver_r3[df_leaver_r3['staff_group'] == staff_group].copy()\n",
    "\n",
    "#df_sg['sickness_absence_rate'] = df_sg['FTE days lost']/df_sg['FTE days available']\n",
    "#df_sg['leaver_rate'] = df_sg['leave_FTE']/df_sg['denom_FTE']"
   ]
  },
  {
   "cell_type": "code",
   "execution_count": 197,
   "metadata": {},
   "outputs": [
    {
     "data": {
      "image/png": "[encoded data removed]",
      "text/plain": [
       "<Figure size 640x480 with 2 Axes>"
      ]
     },
     "metadata": {},
     "output_type": "display_data"
    }
   ],
   "source": [
    "correlation_matrix = df_sg[corr_cols].corr()\n",
    "# Create correlation matrix heatmap using Seaborn\n",
    "sns.heatmap(correlation_matrix, annot=True, cmap='coolwarm', vmin=-1, vmax=1)\n",
    "plt.title('Correlation Matrix')\n",
    "plt.show()"
   ]
  },
  {
   "attachments": {},
   "cell_type": "markdown",
   "metadata": {},
   "source": [
    "(Optional) Create dummy variables for categorical independent variables"
   ]
  },
  {
   "cell_type": "code",
   "execution_count": 141,
   "metadata": {},
   "outputs": [],
   "source": [
    "#ivs_cat = ['region_name','staff_group']\n",
    "#df_with_dummies = pd.get_dummies(df_m, columns=ivs_cat, drop_first=True)\n",
    "#df_with_dummies.head()"
   ]
  },
  {
   "cell_type": "code",
   "execution_count": 198,
   "metadata": {},
   "outputs": [],
   "source": [
    "df_leaver_r3.to_csv(f'modelling_data_to_check.csv', index=False)"
   ]
  },
  {
   "cell_type": "code",
   "execution_count": 199,
   "metadata": {},
   "outputs": [],
   "source": [
    "df_sg.to_csv(f'sg_modelling_data_to_check.csv', index=False)\n"
   ]
  },
  {
   "attachments": {},
   "cell_type": "markdown",
   "metadata": {},
   "source": [
    "Specify the dependent variable (dv) and independent variables (ivs). All other fields to be dropped. "
   ]
  },
  {
   "cell_type": "code",
   "execution_count": 205,
   "metadata": {},
   "outputs": [],
   "source": [
    "dv = 'leaver_rate'\n",
    "#ivs = ['local_unemployment','sickness_absence_rate','joiner_rate','sip_FTE']\n",
    "to_drop = ['month_year','org_code','region_name','org_type','staff_group','joiner_rate',\n",
    "           'local_unemployment','join_FTE','leave_FTE','denom_FTE','fte_days_lost', dv]"
   ]
  },
  {
   "attachments": {},
   "cell_type": "markdown",
   "metadata": {},
   "source": [
    "Define the design matrix (X) and the dependent variable (y)\n"
   ]
  },
  {
   "cell_type": "code",
   "execution_count": 206,
   "metadata": {},
   "outputs": [
    {
     "data": {
      "text/plain": [
       "12    0.015831\n",
       "13    0.015831\n",
       "26    0.000000\n",
       "76    0.012377\n",
       "77    0.012377\n",
       "Name: leaver_rate, dtype: float64"
      ]
     },
     "execution_count": 206,
     "metadata": {},
     "output_type": "execute_result"
    }
   ],
   "source": [
    "df_leaver_r3.reset_index(drop = True)\n",
    "X = df_sg.drop(to_drop, axis=1)\n",
    "y = df_sg[dv]\n",
    "\n",
    "#y = y.dropna()\n",
    "\n",
    "y.head()\n"
   ]
  },
  {
   "cell_type": "code",
   "execution_count": 207,
   "metadata": {},
   "outputs": [
    {
     "data": {
      "text/html": [
       "<div>\n",
       "<style scoped>\n",
       "    .dataframe tbody tr th:only-of-type {\n",
       "        vertical-align: middle;\n",
       "    }\n",
       "\n",
       "    .dataframe tbody tr th {\n",
       "        vertical-align: top;\n",
       "    }\n",
       "\n",
       "    .dataframe thead th {\n",
       "        text-align: right;\n",
       "    }\n",
       "</style>\n",
       "<table border=\"1\" class=\"dataframe\">\n",
       "  <thead>\n",
       "    <tr style=\"text-align: right;\">\n",
       "      <th></th>\n",
       "      <th>const</th>\n",
       "      <th>total_sip_FTE</th>\n",
       "      <th>sickness_absence</th>\n",
       "      <th>anxiety_stress</th>\n",
       "      <th>back_problems</th>\n",
       "      <th>gastro</th>\n",
       "      <th>gynaecological</th>\n",
       "      <th>headache_mig</th>\n",
       "      <th>infectious_dis</th>\n",
       "      <th>other</th>\n",
       "      <th>other_msk</th>\n",
       "      <th>pregnancy_related</th>\n",
       "      <th>respiratory</th>\n",
       "      <th>unknown</th>\n",
       "      <th>month</th>\n",
       "      <th>year</th>\n",
       "    </tr>\n",
       "  </thead>\n",
       "  <tbody>\n",
       "    <tr>\n",
       "      <th>187236</th>\n",
       "      <td>1.0</td>\n",
       "      <td>14708.28982</td>\n",
       "      <td>0.051755</td>\n",
       "      <td>0.306213</td>\n",
       "      <td>0.046656</td>\n",
       "      <td>0.090479</td>\n",
       "      <td>0.045689</td>\n",
       "      <td>0.030042</td>\n",
       "      <td>0.073173</td>\n",
       "      <td>0.081025</td>\n",
       "      <td>0.102775</td>\n",
       "      <td>0.065145</td>\n",
       "      <td>0.076815</td>\n",
       "      <td>0.032989</td>\n",
       "      <td>2</td>\n",
       "      <td>2023</td>\n",
       "    </tr>\n",
       "    <tr>\n",
       "      <th>187244</th>\n",
       "      <td>1.0</td>\n",
       "      <td>9236.53334</td>\n",
       "      <td>0.049130</td>\n",
       "      <td>0.306213</td>\n",
       "      <td>0.046656</td>\n",
       "      <td>0.090479</td>\n",
       "      <td>0.045689</td>\n",
       "      <td>0.030042</td>\n",
       "      <td>0.073173</td>\n",
       "      <td>0.081025</td>\n",
       "      <td>0.102775</td>\n",
       "      <td>0.065145</td>\n",
       "      <td>0.076815</td>\n",
       "      <td>0.032989</td>\n",
       "      <td>2</td>\n",
       "      <td>2023</td>\n",
       "    </tr>\n",
       "    <tr>\n",
       "      <th>187248</th>\n",
       "      <td>1.0</td>\n",
       "      <td>11575.53280</td>\n",
       "      <td>0.042407</td>\n",
       "      <td>0.306213</td>\n",
       "      <td>0.046656</td>\n",
       "      <td>0.090479</td>\n",
       "      <td>0.045689</td>\n",
       "      <td>0.030042</td>\n",
       "      <td>0.073173</td>\n",
       "      <td>0.081025</td>\n",
       "      <td>0.102775</td>\n",
       "      <td>0.065145</td>\n",
       "      <td>0.076815</td>\n",
       "      <td>0.032989</td>\n",
       "      <td>2</td>\n",
       "      <td>2023</td>\n",
       "    </tr>\n",
       "    <tr>\n",
       "      <th>187261</th>\n",
       "      <td>1.0</td>\n",
       "      <td>9236.53334</td>\n",
       "      <td>0.049130</td>\n",
       "      <td>0.306213</td>\n",
       "      <td>0.046656</td>\n",
       "      <td>0.090479</td>\n",
       "      <td>0.045689</td>\n",
       "      <td>0.030042</td>\n",
       "      <td>0.073173</td>\n",
       "      <td>0.081025</td>\n",
       "      <td>0.102775</td>\n",
       "      <td>0.065145</td>\n",
       "      <td>0.076815</td>\n",
       "      <td>0.032989</td>\n",
       "      <td>2</td>\n",
       "      <td>2023</td>\n",
       "    </tr>\n",
       "    <tr>\n",
       "      <th>187289</th>\n",
       "      <td>1.0</td>\n",
       "      <td>16471.71801</td>\n",
       "      <td>0.054622</td>\n",
       "      <td>0.306213</td>\n",
       "      <td>0.046656</td>\n",
       "      <td>0.090479</td>\n",
       "      <td>0.045689</td>\n",
       "      <td>0.030042</td>\n",
       "      <td>0.073173</td>\n",
       "      <td>0.081025</td>\n",
       "      <td>0.102775</td>\n",
       "      <td>0.065145</td>\n",
       "      <td>0.076815</td>\n",
       "      <td>0.032989</td>\n",
       "      <td>2</td>\n",
       "      <td>2023</td>\n",
       "    </tr>\n",
       "  </tbody>\n",
       "</table>\n",
       "</div>"
      ],
      "text/plain": [
       "        const  total_sip_FTE  sickness_absence  anxiety_stress  back_problems  \\\n",
       "187236    1.0    14708.28982          0.051755        0.306213       0.046656   \n",
       "187244    1.0     9236.53334          0.049130        0.306213       0.046656   \n",
       "187248    1.0    11575.53280          0.042407        0.306213       0.046656   \n",
       "187261    1.0     9236.53334          0.049130        0.306213       0.046656   \n",
       "187289    1.0    16471.71801          0.054622        0.306213       0.046656   \n",
       "\n",
       "          gastro  gynaecological  headache_mig  infectious_dis     other  \\\n",
       "187236  0.090479        0.045689      0.030042        0.073173  0.081025   \n",
       "187244  0.090479        0.045689      0.030042        0.073173  0.081025   \n",
       "187248  0.090479        0.045689      0.030042        0.073173  0.081025   \n",
       "187261  0.090479        0.045689      0.030042        0.073173  0.081025   \n",
       "187289  0.090479        0.045689      0.030042        0.073173  0.081025   \n",
       "\n",
       "        other_msk  pregnancy_related  respiratory   unknown  month  year  \n",
       "187236   0.102775           0.065145     0.076815  0.032989      2  2023  \n",
       "187244   0.102775           0.065145     0.076815  0.032989      2  2023  \n",
       "187248   0.102775           0.065145     0.076815  0.032989      2  2023  \n",
       "187261   0.102775           0.065145     0.076815  0.032989      2  2023  \n",
       "187289   0.102775           0.065145     0.076815  0.032989      2  2023  "
      ]
     },
     "execution_count": 207,
     "metadata": {},
     "output_type": "execute_result"
    }
   ],
   "source": [
    "\n",
    "# Add a constant column to the design matrix\n",
    "X = sm.add_constant(X)\n",
    "\n",
    "X.tail()\n",
    "\n",
    "# Convert True/False categories to integer 0/1\n",
    "#bool_columns = X.select_dtypes(include='bool').columns\n",
    "#X[bool_columns] = X[bool_columns].astype(int)\n"
   ]
  },
  {
   "cell_type": "code",
   "execution_count": 208,
   "metadata": {},
   "outputs": [
    {
     "name": "stdout",
     "output_type": "stream",
     "text": [
      "                            OLS Regression Results                            \n",
      "==============================================================================\n",
      "Dep. Variable:            leaver_rate   R-squared:                       0.013\n",
      "Model:                            OLS   Adj. R-squared:                  0.012\n",
      "Method:                 Least Squares   F-statistic:                     14.22\n",
      "Date:                Tue, 25 Jul 2023   Prob (F-statistic):           7.44e-37\n",
      "Time:                        17:00:50   Log-Likelihood:                 31726.\n",
      "No. Observations:               16248   AIC:                        -6.342e+04\n",
      "Df Residuals:                   16232   BIC:                        -6.330e+04\n",
      "Df Model:                          15                                         \n",
      "Covariance Type:            nonrobust                                         \n",
      "=====================================================================================\n",
      "                        coef    std err          t      P>|t|      [0.025      0.975]\n",
      "-------------------------------------------------------------------------------------\n",
      "const                 6.8176      3.190      2.137      0.033       0.564      13.071\n",
      "total_sip_FTE     -4.051e-07   8.61e-08     -4.706      0.000   -5.74e-07   -2.36e-07\n",
      "sickness_absence     -0.1954      0.016    -12.004      0.000      -0.227      -0.164\n",
      "anxiety_stress        0.8107      0.185      4.391      0.000       0.449       1.173\n",
      "back_problems         0.7922      0.200      3.956      0.000       0.400       1.185\n",
      "gastro                0.8740      0.205      4.262      0.000       0.472       1.276\n",
      "gynaecological        0.9504      0.255      3.726      0.000       0.450       1.450\n",
      "headache_mig          0.2295      0.367      0.625      0.532      -0.490       0.949\n",
      "infectious_dis        0.7512      0.168      4.473      0.000       0.422       1.080\n",
      "other                 0.6644      0.195      3.406      0.001       0.282       1.047\n",
      "other_msk             0.7228      0.209      3.458      0.001       0.313       1.133\n",
      "pregnancy_related     0.9978      0.235      4.253      0.000       0.538       1.458\n",
      "respiratory           0.7031      0.183      3.843      0.000       0.344       1.062\n",
      "unknown               0.1848      0.229      0.808      0.419      -0.264       0.633\n",
      "month                -0.0002      0.000     -1.408      0.159      -0.001    9.14e-05\n",
      "year                 -0.0037      0.002     -2.292      0.022      -0.007      -0.001\n",
      "==============================================================================\n",
      "Omnibus:                    39386.237   Durbin-Watson:                   1.843\n",
      "Prob(Omnibus):                  0.000   Jarque-Bera (JB):        348380367.096\n",
      "Skew:                          25.650   Prob(JB):                         0.00\n",
      "Kurtosis:                     718.516   Cond. No.                     7.30e+07\n",
      "==============================================================================\n",
      "\n",
      "Notes:\n",
      "[1] Standard Errors assume that the covariance matrix of the errors is correctly specified.\n",
      "[2] The condition number is large, 7.3e+07. This might indicate that there are\n",
      "strong multicollinearity or other numerical problems.\n"
     ]
    }
   ],
   "source": [
    "# Fit the regression model\n",
    "model = sm.OLS(y, X)\n",
    "results = model.fit()\n",
    "\n",
    "# Print the regression results\n",
    "print(results.summary())"
   ]
  },
  {
   "cell_type": "code",
   "execution_count": 149,
   "metadata": {},
   "outputs": [
    {
     "name": "stdout",
     "output_type": "stream",
     "text": [
      "======================================================================================\n",
      "                         coef    std err          t      P>|t|      [0.025      0.975]\n",
      "--------------------------------------------------------------------------------------\n",
      "const                  8.9151      3.684      2.420      0.016       1.694      16.136\n",
      "total_sip_FTE        -4.1e-07   8.61e-08     -4.759      0.000   -5.79e-07   -2.41e-07\n",
      "local_unemployment     0.0480      0.035      1.375      0.169      -0.020       0.116\n",
      "sickness_absence      -0.1989      0.016    -12.147      0.000      -0.231      -0.167\n",
      "asthma                -2.5890      0.600     -4.318      0.000      -3.764      -1.414\n",
      "back_problems          0.2217      0.260      0.852      0.394      -0.288       0.731\n",
      "blood_disorder         1.1731      1.009      1.163      0.245      -0.804       3.150\n",
      "dental                -1.6502      1.102     -1.498      0.134      -3.809       0.509\n",
      "endocrine             -1.4812      0.929     -1.594      0.111      -3.303       0.340\n",
      "eye                    1.0584      0.880      1.202      0.229      -0.667       2.784\n",
      "gastro                -0.0504      0.099     -0.510      0.610      -0.244       0.143\n",
      "gynaecological        -0.2578      0.201     -1.286      0.199      -0.651       0.135\n",
      "headache_mig          -0.6897      0.310     -2.227      0.026      -1.297      -0.083\n",
      "infectious_dis        -0.0781      0.047     -1.673      0.094      -0.170       0.013\n",
      "nervous_system         0.1677      0.632      0.266      0.791      -1.070       1.406\n",
      "other                 -0.3411      0.104     -3.291      0.001      -0.544      -0.138\n",
      "other_msk             -0.0159      0.123     -0.129      0.897      -0.257       0.225\n",
      "pregnancy_related      0.6056      0.188      3.226      0.001       0.238       0.974\n",
      "respiratory            0.0686      0.076      0.908      0.364      -0.080       0.217\n",
      "skin_disorders         0.2626      0.711      0.369      0.712      -1.131       1.656\n",
      "substance_abus         5.0496      4.654      1.085      0.278      -4.073      14.172\n",
      "unknown               -0.3169      0.235     -1.348      0.178      -0.778       0.144\n",
      "month               4.483e-05      0.000      0.210      0.834      -0.000       0.000\n",
      "year                  -0.0044      0.002     -2.409      0.016      -0.008      -0.001\n",
      "======================================================================================\n"
     ]
    }
   ],
   "source": [
    "\n",
    "# Get the summary of the regression results\n",
    "summary = results.summary()\n",
    "\n",
    "# # Convert the summary table to a pandas DataFrame\n",
    "# summary_df = pd.read_html(summary.tables[1].as_html(), header=0, index_col=0)[0]\n",
    "\n",
    "# # Format the coefficients and p-values\n",
    "# summary_df['coef'] = summary_df['coef'].map('{:.4f}'.format)\n",
    "# summary_df['P>|t|'] = summary_df['P>|t|'].map('{:.4f}'.format)\n",
    "\n",
    "# Print the formatted summary table\n",
    "print(summary.tables[1])"
   ]
  },
  {
   "cell_type": "code",
   "execution_count": null,
   "metadata": {},
   "outputs": [],
   "source": []
  },
  {
   "attachments": {},
   "cell_type": "markdown",
   "metadata": {},
   "source": [
    "This model uses region and type of provider to try and predict NHS staff leaver FTE. The R squared is 0.054, meaning the factors in the model only explain 5.4% of the variation in the data. A lower adjusted R squared than R squared would tell us that some of the model's factors are not contibuting - this is not the case here. \n",
    "All variables contribute significantly except being in the Midlands region, NE and Yorkshire, North West or South West.  \n",
    "The strongest predictors are CCG"
   ]
  }
 ],
 "metadata": {
  "kernelspec": {
   "display_name": "Python 3.9.0 64-bit",
   "language": "python",
   "name": "python3"
  },
  "language_info": {
   "codemirror_mode": {
    "name": "ipython",
    "version": 3
   },
   "file_extension": ".py",
   "mimetype": "text/x-python",
   "name": "python",
   "nbconvert_exporter": "python",
   "pygments_lexer": "ipython3",
   "version": "3.9.0"
  },
  "orig_nbformat": 4,
  "vscode": {
   "interpreter": {
    "hash": "4fbfea1dd5a17f80dff8df3ba641602c59e31ce1a55b82aea18e6894ff3c71a7"
   }
  }
 },
 "nbformat": 4,
 "nbformat_minor": 2
}
