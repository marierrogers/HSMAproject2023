{
 "cells": [
  {
   "attachments": {},
   "cell_type": "markdown",
   "metadata": {},
   "source": [
    "# Impact of factors on retention"
   ]
  },
  {
   "attachments": {},
   "cell_type": "markdown",
   "metadata": {},
   "source": [
    "## Import libraries"
   ]
  },
  {
   "cell_type": "code",
   "execution_count": 1,
   "metadata": {},
   "outputs": [],
   "source": [
    "import numpy as np\n",
    "import pandas as pd\n",
    "import matplotlib.pyplot as plt\n",
    "import statsmodels.api as sm\n",
    "import seaborn as sns\n",
    "#import geopandas as gpd"
   ]
  },
  {
   "attachments": {},
   "cell_type": "markdown",
   "metadata": {},
   "source": [
    "Read turnover data from csv into a dataframe."
   ]
  },
  {
   "cell_type": "code",
   "execution_count": 29,
   "metadata": {},
   "outputs": [
    {
     "name": "stdout",
     "output_type": "stream",
     "text": [
      "<class 'pandas.core.frame.DataFrame'>\n",
      "RangeIndex: 145156 entries, 0 to 145155\n",
      "Data columns (total 11 columns):\n",
      " #   Column       Non-Null Count   Dtype         \n",
      "---  ------       --------------   -----         \n",
      " 0   org_code     145156 non-null  object        \n",
      " 1   region_name  145156 non-null  object        \n",
      " 2   org_type     145156 non-null  object        \n",
      " 3   staff_group  145156 non-null  object        \n",
      " 4   month_year   145156 non-null  datetime64[ns]\n",
      " 5   join_HC      108508 non-null  float64       \n",
      " 6   join_FTE     108508 non-null  float64       \n",
      " 7   leave_HC     108678 non-null  float64       \n",
      " 8   leave_FTE    108678 non-null  float64       \n",
      " 9   denom_HC     144909 non-null  float64       \n",
      " 10  denom_FTE    144909 non-null  float64       \n",
      "dtypes: datetime64[ns](1), float64(6), object(4)\n",
      "memory usage: 12.2+ MB\n"
     ]
    }
   ],
   "source": [
    "#month = \"february\"\n",
    "#year = \"2023\"\n",
    "url = f'../01_data/processed_monthly_turnover.csv'\n",
    "df = pd.read_csv(url, parse_dates=['month_year'])\n",
    "#df = df.sort_values(by='Date')\n",
    "df = df.drop(['n'],axis=1)\n",
    "df.info()\n"
   ]
  },
  {
   "cell_type": "markdown",
   "metadata": {},
   "source": [
    "Calculate a leaver and joiner rate, drop FTE and HC columns"
   ]
  },
  {
   "cell_type": "code",
   "execution_count": 30,
   "metadata": {},
   "outputs": [],
   "source": [
    "df['leaver_rate'] = df['leave_FTE']/df['denom_FTE']\n",
    "df['joiner_rate'] = df['join_FTE']/df['denom_FTE']\n",
    "\n",
    "df.replace([np.inf, -np.inf], np.nan, inplace=True)\n",
    "\n",
    "df['leaver_rate'].fillna(0, inplace=True)\n",
    "df['joiner_rate'].fillna(0, inplace=True)\n",
    "\n",
    "df = df.drop(['join_HC','join_FTE','leave_HC',\n",
    "              'leave_FTE'],axis=1)\n"
   ]
  },
  {
   "cell_type": "code",
   "execution_count": 31,
   "metadata": {},
   "outputs": [
    {
     "data": {
      "text/plain": [
       "array(['All staff groups', 'Ambulance staff', 'Central functions',\n",
       "       'HCHS doctors (exc. junior Drs)', 'Hotel, property & estates',\n",
       "       'Managers', 'Midwives', 'Nurses & health visitors',\n",
       "       'Other staff or those with unknown classification',\n",
       "       'Scientific, therapeutic & technical staff', 'Senior managers',\n",
       "       'Support to ST&T staff', 'Support to doctors, nurses & midwives',\n",
       "       'Support to ambulance staff'], dtype=object)"
      ]
     },
     "execution_count": 31,
     "metadata": {},
     "output_type": "execute_result"
    }
   ],
   "source": [
    "df['staff_group'].unique()"
   ]
  },
  {
   "cell_type": "markdown",
   "metadata": {},
   "source": [
    "Calculate a total staff in post (SIP; all staff) FTE column for each organisation by month."
   ]
  },
  {
   "cell_type": "code",
   "execution_count": 33,
   "metadata": {},
   "outputs": [],
   "source": [
    "\n",
    "# Set the 'total_sip_FTE' value to be equal to the 'FTE' value for 'All staff groups' \n",
    "allstaff_fte = df.loc[df['staff_group'] == 'All staff groups',\n",
    "                      ['month_year', 'org_code', 'denom_FTE']].groupby(['month_year', 'org_code'])['denom_FTE'].sum().reset_index()\n",
    "\n",
    "allstaff_fte.rename(columns={'denom_FTE':'total_sip_FTE'},inplace=True)\n",
    "\n",
    "\n",
    "df = pd.merge(df, allstaff_fte, on=['month_year', 'org_code'], how='left')\n"
   ]
  },
  {
   "cell_type": "code",
   "execution_count": 36,
   "metadata": {},
   "outputs": [],
   "source": [
    "#drop denom FTE and HC\n",
    "df = df.drop(['denom_HC','denom_FTE'],axis=1)"
   ]
  },
  {
   "cell_type": "code",
   "execution_count": 37,
   "metadata": {},
   "outputs": [
    {
     "data": {
      "text/html": [
       "<div>\n",
       "<style scoped>\n",
       "    .dataframe tbody tr th:only-of-type {\n",
       "        vertical-align: middle;\n",
       "    }\n",
       "\n",
       "    .dataframe tbody tr th {\n",
       "        vertical-align: top;\n",
       "    }\n",
       "\n",
       "    .dataframe thead th {\n",
       "        text-align: right;\n",
       "    }\n",
       "</style>\n",
       "<table border=\"1\" class=\"dataframe\">\n",
       "  <thead>\n",
       "    <tr style=\"text-align: right;\">\n",
       "      <th></th>\n",
       "      <th>org_code</th>\n",
       "      <th>region_name</th>\n",
       "      <th>org_type</th>\n",
       "      <th>staff_group</th>\n",
       "      <th>month_year</th>\n",
       "      <th>leaver_rate</th>\n",
       "      <th>joiner_rate</th>\n",
       "      <th>total_sip_FTE</th>\n",
       "    </tr>\n",
       "  </thead>\n",
       "  <tbody>\n",
       "    <tr>\n",
       "      <th>0</th>\n",
       "      <td>R0A</td>\n",
       "      <td>North West</td>\n",
       "      <td>Acute - Teaching</td>\n",
       "      <td>All staff groups</td>\n",
       "      <td>2019-07-01</td>\n",
       "      <td>0.012726</td>\n",
       "      <td>0.012107</td>\n",
       "      <td>17710.16849</td>\n",
       "    </tr>\n",
       "    <tr>\n",
       "      <th>1</th>\n",
       "      <td>R0A</td>\n",
       "      <td>North West</td>\n",
       "      <td>Acute - Teaching</td>\n",
       "      <td>All staff groups</td>\n",
       "      <td>2019-08-01</td>\n",
       "      <td>0.015480</td>\n",
       "      <td>0.023155</td>\n",
       "      <td>17688.67573</td>\n",
       "    </tr>\n",
       "    <tr>\n",
       "      <th>2</th>\n",
       "      <td>R0A</td>\n",
       "      <td>North West</td>\n",
       "      <td>Acute - Teaching</td>\n",
       "      <td>All staff groups</td>\n",
       "      <td>2019-09-01</td>\n",
       "      <td>0.013685</td>\n",
       "      <td>0.023582</td>\n",
       "      <td>17827.49574</td>\n",
       "    </tr>\n",
       "    <tr>\n",
       "      <th>3</th>\n",
       "      <td>R0A</td>\n",
       "      <td>North West</td>\n",
       "      <td>Acute - Teaching</td>\n",
       "      <td>All staff groups</td>\n",
       "      <td>2019-10-01</td>\n",
       "      <td>0.011069</td>\n",
       "      <td>0.016197</td>\n",
       "      <td>17998.03831</td>\n",
       "    </tr>\n",
       "    <tr>\n",
       "      <th>4</th>\n",
       "      <td>R0A</td>\n",
       "      <td>North West</td>\n",
       "      <td>Acute - Teaching</td>\n",
       "      <td>All staff groups</td>\n",
       "      <td>2019-11-01</td>\n",
       "      <td>0.010922</td>\n",
       "      <td>0.012918</td>\n",
       "      <td>18083.50226</td>\n",
       "    </tr>\n",
       "  </tbody>\n",
       "</table>\n",
       "</div>"
      ],
      "text/plain": [
       "  org_code region_name          org_type       staff_group month_year  \\\n",
       "0      R0A  North West  Acute - Teaching  All staff groups 2019-07-01   \n",
       "1      R0A  North West  Acute - Teaching  All staff groups 2019-08-01   \n",
       "2      R0A  North West  Acute - Teaching  All staff groups 2019-09-01   \n",
       "3      R0A  North West  Acute - Teaching  All staff groups 2019-10-01   \n",
       "4      R0A  North West  Acute - Teaching  All staff groups 2019-11-01   \n",
       "\n",
       "   leaver_rate  joiner_rate  total_sip_FTE  \n",
       "0     0.012726     0.012107    17710.16849  \n",
       "1     0.015480     0.023155    17688.67573  \n",
       "2     0.013685     0.023582    17827.49574  \n",
       "3     0.011069     0.016197    17998.03831  \n",
       "4     0.010922     0.012918    18083.50226  "
      ]
     },
     "execution_count": 37,
     "metadata": {},
     "output_type": "execute_result"
    }
   ],
   "source": [
    "df.head()"
   ]
  },
  {
   "attachments": {},
   "cell_type": "markdown",
   "metadata": {},
   "source": [
    "The data show the full time equivalent (FTE) number of leavers by organisation and staff group for the previous 12-month period from the date. It also shows the number of staff in post (SIP) FTE averaged over the 12-month period to date."
   ]
  },
  {
   "attachments": {},
   "cell_type": "markdown",
   "metadata": {},
   "source": [
    "Load data about local unemployment so we can use it as a regressor"
   ]
  },
  {
   "cell_type": "code",
   "execution_count": 38,
   "metadata": {},
   "outputs": [
    {
     "data": {
      "text/html": [
       "<div>\n",
       "<style scoped>\n",
       "    .dataframe tbody tr th:only-of-type {\n",
       "        vertical-align: middle;\n",
       "    }\n",
       "\n",
       "    .dataframe tbody tr th {\n",
       "        vertical-align: top;\n",
       "    }\n",
       "\n",
       "    .dataframe thead th {\n",
       "        text-align: right;\n",
       "    }\n",
       "</style>\n",
       "<table border=\"1\" class=\"dataframe\">\n",
       "  <thead>\n",
       "    <tr style=\"text-align: right;\">\n",
       "      <th></th>\n",
       "      <th>Date</th>\n",
       "      <th>Region</th>\n",
       "      <th>NHSE region name</th>\n",
       "      <th>%</th>\n",
       "      <th>thousands</th>\n",
       "    </tr>\n",
       "  </thead>\n",
       "  <tbody>\n",
       "    <tr>\n",
       "      <th>3343</th>\n",
       "      <td>2023-03-01</td>\n",
       "      <td>North West</td>\n",
       "      <td>North West</td>\n",
       "      <td>0.030</td>\n",
       "      <td>107</td>\n",
       "    </tr>\n",
       "    <tr>\n",
       "      <th>3344</th>\n",
       "      <td>2023-03-01</td>\n",
       "      <td>South East</td>\n",
       "      <td>South East</td>\n",
       "      <td>0.037</td>\n",
       "      <td>177</td>\n",
       "    </tr>\n",
       "    <tr>\n",
       "      <th>3345</th>\n",
       "      <td>2023-03-01</td>\n",
       "      <td>South West</td>\n",
       "      <td>South West</td>\n",
       "      <td>0.031</td>\n",
       "      <td>89</td>\n",
       "    </tr>\n",
       "    <tr>\n",
       "      <th>3346</th>\n",
       "      <td>2023-03-01</td>\n",
       "      <td>West Midlands</td>\n",
       "      <td>Midlands</td>\n",
       "      <td>0.048</td>\n",
       "      <td>147</td>\n",
       "    </tr>\n",
       "    <tr>\n",
       "      <th>3347</th>\n",
       "      <td>2023-03-01</td>\n",
       "      <td>York &amp; the Humber</td>\n",
       "      <td>North East and Yorkshire</td>\n",
       "      <td>0.038</td>\n",
       "      <td>104</td>\n",
       "    </tr>\n",
       "  </tbody>\n",
       "</table>\n",
       "</div>"
      ],
      "text/plain": [
       "           Date             Region          NHSE region name      %  thousands\n",
       "3343 2023-03-01         North West                North West  0.030        107\n",
       "3344 2023-03-01         South East                South East  0.037        177\n",
       "3345 2023-03-01         South West                South West  0.031         89\n",
       "3346 2023-03-01      West Midlands                  Midlands  0.048        147\n",
       "3347 2023-03-01  York & the Humber  North East and Yorkshire  0.038        104"
      ]
     },
     "execution_count": 38,
     "metadata": {},
     "output_type": "execute_result"
    }
   ],
   "source": [
    "url_r1 = '../01_data/ONS_localunemployment_monthly.csv'\n",
    "df_r1 = pd.read_csv(url_r1, parse_dates=['Date'])\n",
    "\n",
    "df_r1.tail()"
   ]
  },
  {
   "cell_type": "code",
   "execution_count": 39,
   "metadata": {},
   "outputs": [
    {
     "name": "stdout",
     "output_type": "stream",
     "text": [
      "<class 'pandas.core.frame.DataFrame'>\n",
      "Index: 3348 entries, 0 to 3347\n",
      "Data columns (total 3 columns):\n",
      " #   Column              Non-Null Count  Dtype         \n",
      "---  ------              --------------  -----         \n",
      " 0   month_year          3348 non-null   datetime64[ns]\n",
      " 1   region_name         3348 non-null   object        \n",
      " 2   local_unemployment  3348 non-null   float64       \n",
      "dtypes: datetime64[ns](1), float64(1), object(1)\n",
      "memory usage: 104.6+ KB\n"
     ]
    }
   ],
   "source": [
    "df_r1.drop(['Region','thousands'],axis=1,inplace=True)\n",
    "df_r1.rename(columns={'%':'local_unemployment','Date':'month_year',\n",
    "                      'NHSE region name':'region_name'},inplace=True)\n",
    "df_r1 = df_r1.sort_values('month_year')\n",
    "df_r1.info()"
   ]
  },
  {
   "attachments": {},
   "cell_type": "markdown",
   "metadata": {},
   "source": [
    "Add data about local unemployment at the regional level to the main dataframe"
   ]
  },
  {
   "cell_type": "code",
   "execution_count": 40,
   "metadata": {},
   "outputs": [
    {
     "name": "stdout",
     "output_type": "stream",
     "text": [
      "<class 'pandas.core.frame.DataFrame'>\n",
      "RangeIndex: 166685 entries, 0 to 166684\n",
      "Data columns (total 9 columns):\n",
      " #   Column              Non-Null Count   Dtype         \n",
      "---  ------              --------------   -----         \n",
      " 0   org_code            166685 non-null  object        \n",
      " 1   region_name         166685 non-null  object        \n",
      " 2   org_type            166685 non-null  object        \n",
      " 3   staff_group         166685 non-null  object        \n",
      " 4   month_year          166685 non-null  datetime64[ns]\n",
      " 5   leaver_rate         166685 non-null  float64       \n",
      " 6   joiner_rate         166685 non-null  float64       \n",
      " 7   total_sip_FTE       166685 non-null  float64       \n",
      " 8   local_unemployment  139168 non-null  float64       \n",
      "dtypes: datetime64[ns](1), float64(4), object(4)\n",
      "memory usage: 11.4+ MB\n"
     ]
    }
   ],
   "source": [
    "df_leaver_r1 = pd.merge(df, df_r1, on=['month_year', 'region_name'],how='left')\n",
    "#df_leaver_r1 = df_leaver_r1.dropna()\n",
    "df_leaver_r1.info()"
   ]
  },
  {
   "cell_type": "code",
   "execution_count": 41,
   "metadata": {},
   "outputs": [
    {
     "data": {
      "text/html": [
       "<div>\n",
       "<style scoped>\n",
       "    .dataframe tbody tr th:only-of-type {\n",
       "        vertical-align: middle;\n",
       "    }\n",
       "\n",
       "    .dataframe tbody tr th {\n",
       "        vertical-align: top;\n",
       "    }\n",
       "\n",
       "    .dataframe thead th {\n",
       "        text-align: right;\n",
       "    }\n",
       "</style>\n",
       "<table border=\"1\" class=\"dataframe\">\n",
       "  <thead>\n",
       "    <tr style=\"text-align: right;\">\n",
       "      <th></th>\n",
       "      <th>org_code</th>\n",
       "      <th>region_name</th>\n",
       "      <th>org_type</th>\n",
       "      <th>staff_group</th>\n",
       "      <th>month_year</th>\n",
       "      <th>leaver_rate</th>\n",
       "      <th>joiner_rate</th>\n",
       "      <th>total_sip_FTE</th>\n",
       "      <th>local_unemployment</th>\n",
       "    </tr>\n",
       "  </thead>\n",
       "  <tbody>\n",
       "    <tr>\n",
       "      <th>25222</th>\n",
       "      <td>RCF</td>\n",
       "      <td>North East and Yorkshire</td>\n",
       "      <td>Acute - Small</td>\n",
       "      <td>Central functions</td>\n",
       "      <td>2024-02-01</td>\n",
       "      <td>0.0</td>\n",
       "      <td>0.0</td>\n",
       "      <td>3025.58627</td>\n",
       "      <td>NaN</td>\n",
       "    </tr>\n",
       "    <tr>\n",
       "      <th>103597</th>\n",
       "      <td>RTH</td>\n",
       "      <td>South East</td>\n",
       "      <td>Acute - Teaching</td>\n",
       "      <td>Midwives</td>\n",
       "      <td>2024-02-01</td>\n",
       "      <td>0.0</td>\n",
       "      <td>0.0</td>\n",
       "      <td>11593.99306</td>\n",
       "      <td>NaN</td>\n",
       "    </tr>\n",
       "    <tr>\n",
       "      <th>25166</th>\n",
       "      <td>RCF</td>\n",
       "      <td>North East and Yorkshire</td>\n",
       "      <td>Acute - Small</td>\n",
       "      <td>Ambulance staff</td>\n",
       "      <td>2024-02-01</td>\n",
       "      <td>0.0</td>\n",
       "      <td>0.0</td>\n",
       "      <td>3025.58627</td>\n",
       "      <td>NaN</td>\n",
       "    </tr>\n",
       "    <tr>\n",
       "      <th>104561</th>\n",
       "      <td>RTK</td>\n",
       "      <td>South East</td>\n",
       "      <td>Acute - Medium</td>\n",
       "      <td>Senior managers</td>\n",
       "      <td>2024-02-01</td>\n",
       "      <td>0.0</td>\n",
       "      <td>0.0</td>\n",
       "      <td>3919.26900</td>\n",
       "      <td>NaN</td>\n",
       "    </tr>\n",
       "    <tr>\n",
       "      <th>166684</th>\n",
       "      <td>TAJ</td>\n",
       "      <td>Midlands</td>\n",
       "      <td>Mental Health and Learning Disability</td>\n",
       "      <td>Support to doctors, nurses &amp; midwives</td>\n",
       "      <td>2024-02-01</td>\n",
       "      <td>0.0</td>\n",
       "      <td>0.0</td>\n",
       "      <td>3434.33954</td>\n",
       "      <td>NaN</td>\n",
       "    </tr>\n",
       "  </tbody>\n",
       "</table>\n",
       "</div>"
      ],
      "text/plain": [
       "       org_code               region_name  \\\n",
       "25222       RCF  North East and Yorkshire   \n",
       "103597      RTH                South East   \n",
       "25166       RCF  North East and Yorkshire   \n",
       "104561      RTK                South East   \n",
       "166684      TAJ                  Midlands   \n",
       "\n",
       "                                     org_type  \\\n",
       "25222                           Acute - Small   \n",
       "103597                       Acute - Teaching   \n",
       "25166                           Acute - Small   \n",
       "104561                         Acute - Medium   \n",
       "166684  Mental Health and Learning Disability   \n",
       "\n",
       "                                  staff_group month_year  leaver_rate  \\\n",
       "25222                       Central functions 2024-02-01          0.0   \n",
       "103597                               Midwives 2024-02-01          0.0   \n",
       "25166                         Ambulance staff 2024-02-01          0.0   \n",
       "104561                        Senior managers 2024-02-01          0.0   \n",
       "166684  Support to doctors, nurses & midwives 2024-02-01          0.0   \n",
       "\n",
       "        joiner_rate  total_sip_FTE  local_unemployment  \n",
       "25222           0.0     3025.58627                 NaN  \n",
       "103597          0.0    11593.99306                 NaN  \n",
       "25166           0.0     3025.58627                 NaN  \n",
       "104561          0.0     3919.26900                 NaN  \n",
       "166684          0.0     3434.33954                 NaN  "
      ]
     },
     "execution_count": 41,
     "metadata": {},
     "output_type": "execute_result"
    }
   ],
   "source": [
    "df_leaver_r1 = df_leaver_r1.sort_values('month_year')\n",
    "df_leaver_r1.tail()"
   ]
  },
  {
   "attachments": {},
   "cell_type": "markdown",
   "metadata": {},
   "source": [
    "Load data about sickness absence to use as second regressor"
   ]
  },
  {
   "cell_type": "code",
   "execution_count": 47,
   "metadata": {},
   "outputs": [
    {
     "name": "stdout",
     "output_type": "stream",
     "text": [
      "<class 'pandas.core.frame.DataFrame'>\n",
      "RangeIndex: 240359 entries, 0 to 240358\n",
      "Data columns (total 6 columns):\n",
      " #   Column              Non-Null Count   Dtype         \n",
      "---  ------              --------------   -----         \n",
      " 0   month_year          240359 non-null  datetime64[ns]\n",
      " 1   org_code            240359 non-null  object        \n",
      " 2   region_name         240359 non-null  object        \n",
      " 3   staff_group         240359 non-null  object        \n",
      " 4   FTE days lost       240359 non-null  float64       \n",
      " 5   FTE days available  240359 non-null  float64       \n",
      "dtypes: datetime64[ns](1), float64(2), object(3)\n",
      "memory usage: 11.0+ MB\n"
     ]
    }
   ],
   "source": [
    "url_r2 = '../01_data/sickness_absence.csv'\n",
    "df_r2 = pd.read_csv(url_r2, parse_dates=['Date'])\n",
    "trust_types_todrop = ['Clinical Commissioning Group','Integrated Care Board']\n",
    "df_r2 = df_r2[~df_r2['Cluster group'].isin(trust_types_todrop)]\n",
    "df_r2 = df_r2.drop(['Benchmark group','Org name',\n",
    "                    'NHSE region code','Cluster group'],axis=1)\n",
    "df_r2.rename(columns={'Org code':'org_code','Date':'month_year',\n",
    "                      'NHSE region name':'region_name','Staff group':'staff_group'},inplace=True)\n",
    "df_r2 = df_r2.reset_index(drop=True)\n",
    "df_r2.info()"
   ]
  },
  {
   "cell_type": "code",
   "execution_count": 48,
   "metadata": {},
   "outputs": [
    {
     "data": {
      "text/html": [
       "<div>\n",
       "<style scoped>\n",
       "    .dataframe tbody tr th:only-of-type {\n",
       "        vertical-align: middle;\n",
       "    }\n",
       "\n",
       "    .dataframe tbody tr th {\n",
       "        vertical-align: top;\n",
       "    }\n",
       "\n",
       "    .dataframe thead th {\n",
       "        text-align: right;\n",
       "    }\n",
       "</style>\n",
       "<table border=\"1\" class=\"dataframe\">\n",
       "  <thead>\n",
       "    <tr style=\"text-align: right;\">\n",
       "      <th></th>\n",
       "      <th>month_year</th>\n",
       "      <th>org_code</th>\n",
       "      <th>region_name</th>\n",
       "      <th>staff_group</th>\n",
       "      <th>FTE days lost</th>\n",
       "      <th>FTE days available</th>\n",
       "    </tr>\n",
       "  </thead>\n",
       "  <tbody>\n",
       "    <tr>\n",
       "      <th>0</th>\n",
       "      <td>2018-03-01</td>\n",
       "      <td>RT3</td>\n",
       "      <td>London</td>\n",
       "      <td>Hotel, property &amp; estates</td>\n",
       "      <td>202.97333</td>\n",
       "      <td>4692.62646</td>\n",
       "    </tr>\n",
       "    <tr>\n",
       "      <th>1</th>\n",
       "      <td>2018-03-01</td>\n",
       "      <td>0DE</td>\n",
       "      <td>Special Health Authorities and other statutory...</td>\n",
       "      <td>Managers</td>\n",
       "      <td>150.75336</td>\n",
       "      <td>7272.63377</td>\n",
       "    </tr>\n",
       "    <tr>\n",
       "      <th>2</th>\n",
       "      <td>2018-03-01</td>\n",
       "      <td>0DE</td>\n",
       "      <td>Special Health Authorities and other statutory...</td>\n",
       "      <td>Nurses &amp; health visitors</td>\n",
       "      <td>35.64000</td>\n",
       "      <td>2327.04646</td>\n",
       "    </tr>\n",
       "    <tr>\n",
       "      <th>3</th>\n",
       "      <td>2018-03-01</td>\n",
       "      <td>0DE</td>\n",
       "      <td>Special Health Authorities and other statutory...</td>\n",
       "      <td>Scientific, therapeutic &amp; technical staff</td>\n",
       "      <td>10.39998</td>\n",
       "      <td>504.83363</td>\n",
       "    </tr>\n",
       "    <tr>\n",
       "      <th>4</th>\n",
       "      <td>2018-03-01</td>\n",
       "      <td>0DE</td>\n",
       "      <td>Special Health Authorities and other statutory...</td>\n",
       "      <td>Senior managers</td>\n",
       "      <td>0.00000</td>\n",
       "      <td>1106.63354</td>\n",
       "    </tr>\n",
       "  </tbody>\n",
       "</table>\n",
       "</div>"
      ],
      "text/plain": [
       "  month_year org_code                                        region_name  \\\n",
       "0 2018-03-01      RT3                                             London   \n",
       "1 2018-03-01      0DE  Special Health Authorities and other statutory...   \n",
       "2 2018-03-01      0DE  Special Health Authorities and other statutory...   \n",
       "3 2018-03-01      0DE  Special Health Authorities and other statutory...   \n",
       "4 2018-03-01      0DE  Special Health Authorities and other statutory...   \n",
       "\n",
       "                                 staff_group  FTE days lost  \\\n",
       "0                  Hotel, property & estates      202.97333   \n",
       "1                                   Managers      150.75336   \n",
       "2                   Nurses & health visitors       35.64000   \n",
       "3  Scientific, therapeutic & technical staff       10.39998   \n",
       "4                            Senior managers        0.00000   \n",
       "\n",
       "   FTE days available  \n",
       "0          4692.62646  \n",
       "1          7272.63377  \n",
       "2          2327.04646  \n",
       "3           504.83363  \n",
       "4          1106.63354  "
      ]
     },
     "execution_count": 48,
     "metadata": {},
     "output_type": "execute_result"
    }
   ],
   "source": [
    "df_r2.head()"
   ]
  },
  {
   "attachments": {},
   "cell_type": "markdown",
   "metadata": {},
   "source": [
    "Add sickness absence data to the main dataframe"
   ]
  },
  {
   "cell_type": "code",
   "execution_count": 51,
   "metadata": {},
   "outputs": [
    {
     "name": "stdout",
     "output_type": "stream",
     "text": [
      "<class 'pandas.core.frame.DataFrame'>\n",
      "RangeIndex: 216875 entries, 0 to 216874\n",
      "Data columns (total 10 columns):\n",
      " #   Column              Non-Null Count   Dtype         \n",
      "---  ------              --------------   -----         \n",
      " 0   org_code            216875 non-null  object        \n",
      " 1   region_name         216875 non-null  object        \n",
      " 2   org_type            216875 non-null  object        \n",
      " 3   staff_group         216875 non-null  object        \n",
      " 4   month_year          216875 non-null  datetime64[ns]\n",
      " 5   leaver_rate         216875 non-null  float64       \n",
      " 6   joiner_rate         216875 non-null  float64       \n",
      " 7   total_sip_FTE       216875 non-null  float64       \n",
      " 8   local_unemployment  189358 non-null  float64       \n",
      " 9   sickness_absence    143083 non-null  float64       \n",
      "dtypes: datetime64[ns](1), float64(5), object(4)\n",
      "memory usage: 16.5+ MB\n"
     ]
    }
   ],
   "source": [
    "merge_cols = ['month_year', 'org_code','region_name','staff_group']\n",
    "df_leaver_r2 = pd.merge(df_leaver_r1, df_r2, on=merge_cols,how='left')\n",
    "#df_leaver_r2 = df_leaver_r2.dropna()\n",
    "df_leaver_r2.drop_duplicates(subset=merge_cols)\n",
    "df_leaver_r2['sickness_absence'] = df_leaver_r2['FTE days lost']/df_leaver_r2['FTE days available']\n",
    "df_leaver_r2 = df_leaver_r2.drop(['FTE days lost',\n",
    "                        'FTE days available'],axis=1)\n",
    "df_leaver_r2.info()"
   ]
  },
  {
   "cell_type": "markdown",
   "metadata": {},
   "source": [
    "Add data about reasons for sickness absence"
   ]
  },
  {
   "cell_type": "code",
   "execution_count": 86,
   "metadata": {},
   "outputs": [
    {
     "name": "stdout",
     "output_type": "stream",
     "text": [
      "<class 'pandas.core.frame.DataFrame'>\n",
      "RangeIndex: 1246 entries, 0 to 1245\n",
      "Data columns (total 21 columns):\n",
      " #   Column             Non-Null Count  Dtype         \n",
      "---  ------             --------------  -----         \n",
      " 0   month_year         1246 non-null   datetime64[ns]\n",
      " 1   staff_group        1246 non-null   object        \n",
      " 2   anxiety_stress     1246 non-null   float64       \n",
      " 3   asthma             1246 non-null   float64       \n",
      " 4   back_problems      1246 non-null   float64       \n",
      " 5   blood_disorder     1246 non-null   float64       \n",
      " 6   dental             1246 non-null   float64       \n",
      " 7   endocrine          1246 non-null   float64       \n",
      " 8   eye                1246 non-null   float64       \n",
      " 9   gastro             1246 non-null   float64       \n",
      " 10  gynaecological     1246 non-null   float64       \n",
      " 11  headache_mig       1246 non-null   float64       \n",
      " 12  infectious_dis     1246 non-null   float64       \n",
      " 13  nervous_system     1246 non-null   float64       \n",
      " 14  other              1246 non-null   float64       \n",
      " 15  other_msk          1246 non-null   float64       \n",
      " 16  pregnancy_related  1246 non-null   float64       \n",
      " 17  respiratory        1246 non-null   float64       \n",
      " 18  skin_disorders     1246 non-null   float64       \n",
      " 19  substance_abus     1246 non-null   float64       \n",
      " 20  unknown            1246 non-null   float64       \n",
      "dtypes: datetime64[ns](1), float64(19), object(1)\n",
      "memory usage: 204.5+ KB\n"
     ]
    }
   ],
   "source": [
    "url_r3 = '../01_data/sickness_absence_reason_pivot.csv'\n",
    "df_r3 = pd.read_csv(url_r3, parse_dates=['Date'])\n",
    "#df_r3 = df_r3.drop(['FTE days lost'],axis=1)\n",
    "df_r3.rename(columns={'Date':'month_year','Staff group':'staff_group',\n",
    "                      'FTE days lost':'fte_days_lost','Description':'reason'},inplace=True)\n",
    "#df_r2 = df_r2.reset_index(drop=True)\n",
    "\n",
    "# Replace NaN values with 0 \n",
    "df_r3 = df_r3.fillna(0)\n",
    "df_r3.info()"
   ]
  },
  {
   "cell_type": "markdown",
   "metadata": {},
   "source": [
    "Add sickness absence reason data to main dataframe"
   ]
  },
  {
   "cell_type": "code",
   "execution_count": 82,
   "metadata": {},
   "outputs": [
    {
     "name": "stdout",
     "output_type": "stream",
     "text": [
      "<class 'pandas.core.frame.DataFrame'>\n",
      "RangeIndex: 186374 entries, 0 to 186373\n",
      "Data columns (total 29 columns):\n",
      " #   Column              Non-Null Count   Dtype         \n",
      "---  ------              --------------   -----         \n",
      " 0   org_code            186374 non-null  object        \n",
      " 1   region_name         186374 non-null  object        \n",
      " 2   org_type            186374 non-null  object        \n",
      " 3   staff_group         186374 non-null  object        \n",
      " 4   month_year          186374 non-null  datetime64[ns]\n",
      " 5   leaver_rate         186374 non-null  float64       \n",
      " 6   joiner_rate         186374 non-null  float64       \n",
      " 7   total_sip_FTE       186374 non-null  float64       \n",
      " 8   local_unemployment  186374 non-null  float64       \n",
      " 9   sickness_absence    186374 non-null  float64       \n",
      " 10  anxiety_stress      145885 non-null  float64       \n",
      " 11  asthma              145885 non-null  float64       \n",
      " 12  back_problems       145885 non-null  float64       \n",
      " 13  blood_disorder      145885 non-null  float64       \n",
      " 14  dental              145885 non-null  float64       \n",
      " 15  endocrine           145885 non-null  float64       \n",
      " 16  eye                 145885 non-null  float64       \n",
      " 17  gastro              145885 non-null  float64       \n",
      " 18  gynaecological      145885 non-null  float64       \n",
      " 19  headache_mig        145885 non-null  float64       \n",
      " 20  infectious_dis      145885 non-null  float64       \n",
      " 21  nervous_system      145885 non-null  float64       \n",
      " 22  other               145885 non-null  float64       \n",
      " 23  other_msk           145885 non-null  float64       \n",
      " 24  pregnancy_related   145885 non-null  float64       \n",
      " 25  respiratory         145885 non-null  float64       \n",
      " 26  skin_disorders      145885 non-null  float64       \n",
      " 27  substance_abus      145885 non-null  float64       \n",
      " 28  unknown             145885 non-null  float64       \n",
      "dtypes: datetime64[ns](1), float64(24), object(4)\n",
      "memory usage: 41.2+ MB\n"
     ]
    }
   ],
   "source": [
    "merge_cols = ['month_year','staff_group']\n",
    "df_leaver_r3 = pd.merge(df_leaver_r2, df_r3, on=merge_cols,how='left')\n",
    "#df_leaver_r2 = df_leaver_r2.dropna()\n",
    "#df_leaver_r3.drop_duplicates(subset=merge_cols)\n",
    "df_leaver_r3.info()"
   ]
  },
  {
   "cell_type": "code",
   "execution_count": 83,
   "metadata": {},
   "outputs": [
    {
     "data": {
      "text/plain": [
       "Timestamp('2023-02-01 00:00:00')"
      ]
     },
     "execution_count": 83,
     "metadata": {},
     "output_type": "execute_result"
    }
   ],
   "source": [
    "df_leaver_r3['month_year'].max()\n",
    "#date_max = df['Date'].max()"
   ]
  },
  {
   "cell_type": "code",
   "execution_count": 84,
   "metadata": {},
   "outputs": [],
   "source": [
    "max_date = '2023-02-01'\n",
    "df_leaver_r3 = df_leaver_r3[df_leaver_r3['month_year'] <= max_date]"
   ]
  },
  {
   "cell_type": "code",
   "execution_count": 79,
   "metadata": {},
   "outputs": [],
   "source": [
    "#url = 'REF_SICK_ABSENCE_REASONS.csv'\n",
    "#df_ref_reason = pd.read_csv(url)\n",
    "\n",
    "#reason_short = sorted(df_ref_reason['reason_short'].unique())"
   ]
  },
  {
   "cell_type": "code",
   "execution_count": 93,
   "metadata": {},
   "outputs": [
    {
     "data": {
      "text/html": [
       "<div>\n",
       "<style scoped>\n",
       "    .dataframe tbody tr th:only-of-type {\n",
       "        vertical-align: middle;\n",
       "    }\n",
       "\n",
       "    .dataframe tbody tr th {\n",
       "        vertical-align: top;\n",
       "    }\n",
       "\n",
       "    .dataframe thead th {\n",
       "        text-align: right;\n",
       "    }\n",
       "</style>\n",
       "<table border=\"1\" class=\"dataframe\">\n",
       "  <thead>\n",
       "    <tr style=\"text-align: right;\">\n",
       "      <th></th>\n",
       "      <th>org_code</th>\n",
       "      <th>region_name</th>\n",
       "      <th>org_type</th>\n",
       "      <th>staff_group</th>\n",
       "      <th>month_year</th>\n",
       "      <th>leaver_rate</th>\n",
       "      <th>joiner_rate</th>\n",
       "      <th>total_sip_FTE</th>\n",
       "      <th>local_unemployment</th>\n",
       "      <th>sickness_absence</th>\n",
       "      <th>...</th>\n",
       "      <th>headache_mig</th>\n",
       "      <th>infectious_dis</th>\n",
       "      <th>nervous_system</th>\n",
       "      <th>other</th>\n",
       "      <th>other_msk</th>\n",
       "      <th>pregnancy_related</th>\n",
       "      <th>respiratory</th>\n",
       "      <th>skin_disorders</th>\n",
       "      <th>substance_abus</th>\n",
       "      <th>unknown</th>\n",
       "    </tr>\n",
       "  </thead>\n",
       "  <tbody>\n",
       "    <tr>\n",
       "      <th>0</th>\n",
       "      <td>R0A</td>\n",
       "      <td>North West</td>\n",
       "      <td>Acute - Teaching</td>\n",
       "      <td>All staff groups</td>\n",
       "      <td>2019-07-01</td>\n",
       "      <td>0.012726</td>\n",
       "      <td>0.012107</td>\n",
       "      <td>17710.16849</td>\n",
       "      <td>0.041</td>\n",
       "      <td>0.049655</td>\n",
       "      <td>...</td>\n",
       "      <td>0.028534</td>\n",
       "      <td>0.007154</td>\n",
       "      <td>0.012672</td>\n",
       "      <td>0.096771</td>\n",
       "      <td>0.132680</td>\n",
       "      <td>0.033153</td>\n",
       "      <td>0.029796</td>\n",
       "      <td>0.010508</td>\n",
       "      <td>0.000491</td>\n",
       "      <td>0.061364</td>\n",
       "    </tr>\n",
       "    <tr>\n",
       "      <th>1</th>\n",
       "      <td>R0A</td>\n",
       "      <td>North West</td>\n",
       "      <td>Acute - Teaching</td>\n",
       "      <td>All staff groups</td>\n",
       "      <td>2019-07-01</td>\n",
       "      <td>0.012726</td>\n",
       "      <td>0.012107</td>\n",
       "      <td>17710.16849</td>\n",
       "      <td>0.041</td>\n",
       "      <td>0.049655</td>\n",
       "      <td>...</td>\n",
       "      <td>0.028534</td>\n",
       "      <td>0.007154</td>\n",
       "      <td>0.012672</td>\n",
       "      <td>0.096771</td>\n",
       "      <td>0.132680</td>\n",
       "      <td>0.033153</td>\n",
       "      <td>0.029796</td>\n",
       "      <td>0.010508</td>\n",
       "      <td>0.000491</td>\n",
       "      <td>0.061364</td>\n",
       "    </tr>\n",
       "    <tr>\n",
       "      <th>2</th>\n",
       "      <td>RYF</td>\n",
       "      <td>South West</td>\n",
       "      <td>Ambulance Trust</td>\n",
       "      <td>HCHS doctors (exc. junior Drs)</td>\n",
       "      <td>2019-07-01</td>\n",
       "      <td>0.000000</td>\n",
       "      <td>0.000000</td>\n",
       "      <td>3936.03594</td>\n",
       "      <td>0.024</td>\n",
       "      <td>0.000000</td>\n",
       "      <td>...</td>\n",
       "      <td>0.000000</td>\n",
       "      <td>0.000000</td>\n",
       "      <td>0.000000</td>\n",
       "      <td>0.000000</td>\n",
       "      <td>0.000000</td>\n",
       "      <td>0.000000</td>\n",
       "      <td>0.000000</td>\n",
       "      <td>0.000000</td>\n",
       "      <td>0.000000</td>\n",
       "      <td>0.000000</td>\n",
       "    </tr>\n",
       "    <tr>\n",
       "      <th>3</th>\n",
       "      <td>RJ1</td>\n",
       "      <td>London</td>\n",
       "      <td>Acute - Teaching</td>\n",
       "      <td>Support to ST&amp;T staff</td>\n",
       "      <td>2019-07-01</td>\n",
       "      <td>0.025540</td>\n",
       "      <td>0.024972</td>\n",
       "      <td>13571.88100</td>\n",
       "      <td>0.046</td>\n",
       "      <td>0.036744</td>\n",
       "      <td>...</td>\n",
       "      <td>0.036262</td>\n",
       "      <td>0.008085</td>\n",
       "      <td>0.012279</td>\n",
       "      <td>0.087104</td>\n",
       "      <td>0.140422</td>\n",
       "      <td>0.028749</td>\n",
       "      <td>0.033503</td>\n",
       "      <td>0.011735</td>\n",
       "      <td>0.000447</td>\n",
       "      <td>0.045798</td>\n",
       "    </tr>\n",
       "    <tr>\n",
       "      <th>4</th>\n",
       "      <td>RJ1</td>\n",
       "      <td>London</td>\n",
       "      <td>Acute - Teaching</td>\n",
       "      <td>Support to ST&amp;T staff</td>\n",
       "      <td>2019-07-01</td>\n",
       "      <td>0.025540</td>\n",
       "      <td>0.024972</td>\n",
       "      <td>13571.88100</td>\n",
       "      <td>0.046</td>\n",
       "      <td>0.036744</td>\n",
       "      <td>...</td>\n",
       "      <td>0.036262</td>\n",
       "      <td>0.008085</td>\n",
       "      <td>0.012279</td>\n",
       "      <td>0.087104</td>\n",
       "      <td>0.140422</td>\n",
       "      <td>0.028749</td>\n",
       "      <td>0.033503</td>\n",
       "      <td>0.011735</td>\n",
       "      <td>0.000447</td>\n",
       "      <td>0.045798</td>\n",
       "    </tr>\n",
       "  </tbody>\n",
       "</table>\n",
       "<p>5 rows × 29 columns</p>\n",
       "</div>"
      ],
      "text/plain": [
       "  org_code region_name          org_type                     staff_group  \\\n",
       "0      R0A  North West  Acute - Teaching                All staff groups   \n",
       "1      R0A  North West  Acute - Teaching                All staff groups   \n",
       "2      RYF  South West   Ambulance Trust  HCHS doctors (exc. junior Drs)   \n",
       "3      RJ1      London  Acute - Teaching           Support to ST&T staff   \n",
       "4      RJ1      London  Acute - Teaching           Support to ST&T staff   \n",
       "\n",
       "  month_year  leaver_rate  joiner_rate  total_sip_FTE  local_unemployment  \\\n",
       "0 2019-07-01     0.012726     0.012107    17710.16849               0.041   \n",
       "1 2019-07-01     0.012726     0.012107    17710.16849               0.041   \n",
       "2 2019-07-01     0.000000     0.000000     3936.03594               0.024   \n",
       "3 2019-07-01     0.025540     0.024972    13571.88100               0.046   \n",
       "4 2019-07-01     0.025540     0.024972    13571.88100               0.046   \n",
       "\n",
       "   sickness_absence  ...  headache_mig  infectious_dis  nervous_system  \\\n",
       "0          0.049655  ...      0.028534        0.007154        0.012672   \n",
       "1          0.049655  ...      0.028534        0.007154        0.012672   \n",
       "2          0.000000  ...      0.000000        0.000000        0.000000   \n",
       "3          0.036744  ...      0.036262        0.008085        0.012279   \n",
       "4          0.036744  ...      0.036262        0.008085        0.012279   \n",
       "\n",
       "      other  other_msk  pregnancy_related  respiratory  skin_disorders  \\\n",
       "0  0.096771   0.132680           0.033153     0.029796        0.010508   \n",
       "1  0.096771   0.132680           0.033153     0.029796        0.010508   \n",
       "2  0.000000   0.000000           0.000000     0.000000        0.000000   \n",
       "3  0.087104   0.140422           0.028749     0.033503        0.011735   \n",
       "4  0.087104   0.140422           0.028749     0.033503        0.011735   \n",
       "\n",
       "   substance_abus   unknown  \n",
       "0        0.000491  0.061364  \n",
       "1        0.000491  0.061364  \n",
       "2        0.000000  0.000000  \n",
       "3        0.000447  0.045798  \n",
       "4        0.000447  0.045798  \n",
       "\n",
       "[5 rows x 29 columns]"
      ]
     },
     "execution_count": 93,
     "metadata": {},
     "output_type": "execute_result"
    }
   ],
   "source": [
    "# List of columns to replace NaN values with 0\n",
    "#cols = ['local_unemployment','sickness_absence','leaver_rate','joiner_rate']\n",
    "\n",
    "# Replace NaN values with 0 in the specified columns\n",
    "df_leaver_r3[cols] = df_leaver_r3[cols].fillna(0)\n",
    "#Replace all NaN with 0\n",
    "df_leaver_r3 = df_leaver_r3.fillna(0)\n",
    "\n",
    "\n",
    "df_leaver_r3.reset_index(drop=True)\n",
    "df_leaver_r3.head()"
   ]
  },
  {
   "cell_type": "code",
   "execution_count": 94,
   "metadata": {},
   "outputs": [],
   "source": [
    "df_check = df_leaver_r2[['joiner_rate']]\n",
    "mask = np.isinf(df_check) | np.isnan(df_check)\n",
    "check = df_check[mask.any(axis=1)]"
   ]
  },
  {
   "attachments": {},
   "cell_type": "markdown",
   "metadata": {},
   "source": [
    "Explore independent and dependent variables"
   ]
  },
  {
   "cell_type": "code",
   "execution_count": 103,
   "metadata": {},
   "outputs": [
    {
     "data": {
      "image/png": "[encoded data removed]",
      "text/plain": [
       "<Figure size 640x480 with 2 Axes>"
      ]
     },
     "metadata": {},
     "output_type": "display_data"
    }
   ],
   "source": [
    "corr_cols = ['leaver_rate', 'sickness_absence',\n",
    "                                   'local_unemployment','joiner_rate','total_sip_FTE','anxiety_stress']\n",
    "correlation_matrix = df_leaver_r3[corr_cols].corr()\n",
    "# Create correlation matrix heatmap using Seaborn\n",
    "sns.heatmap(correlation_matrix, annot=True, cmap='coolwarm', vmin=-1, vmax=1)\n",
    "plt.title('Correlation Matrix')\n",
    "plt.show()"
   ]
  },
  {
   "attachments": {},
   "cell_type": "markdown",
   "metadata": {},
   "source": [
    "Create a staff group level dataframe - specify which staff group you want from list below in variable staff_group"
   ]
  },
  {
   "cell_type": "code",
   "execution_count": 95,
   "metadata": {},
   "outputs": [],
   "source": [
    "staff_group = 'Nurses & health visitors'\n",
    "df_sg = df_leaver_r3[df_leaver_r3['staff_group'] == staff_group].copy()\n",
    "\n",
    "#df_sg['sickness_absence_rate'] = df_sg['FTE days lost']/df_sg['FTE days available']\n",
    "#df_sg['leaver_rate'] = df_sg['leave_FTE']/df_sg['denom_FTE']"
   ]
  },
  {
   "cell_type": "code",
   "execution_count": 104,
   "metadata": {},
   "outputs": [
    {
     "data": {
      "image/png": "[encoded data removed]",
      "text/plain": [
       "<Figure size 640x480 with 2 Axes>"
      ]
     },
     "metadata": {},
     "output_type": "display_data"
    }
   ],
   "source": [
    "correlation_matrix = df_sg[corr_cols].corr()\n",
    "# Create correlation matrix heatmap using Seaborn\n",
    "sns.heatmap(correlation_matrix, annot=True, cmap='coolwarm', vmin=-1, vmax=1)\n",
    "plt.title('Correlation Matrix')\n",
    "plt.show()"
   ]
  },
  {
   "attachments": {},
   "cell_type": "markdown",
   "metadata": {},
   "source": [
    "(Optional) Create dummy variables for categorical independent variables"
   ]
  },
  {
   "cell_type": "code",
   "execution_count": 105,
   "metadata": {},
   "outputs": [],
   "source": [
    "#ivs_cat = ['region_name','staff_group']\n",
    "#df_with_dummies = pd.get_dummies(df_m, columns=ivs_cat, drop_first=True)\n",
    "#df_with_dummies.head()"
   ]
  },
  {
   "cell_type": "code",
   "execution_count": 106,
   "metadata": {},
   "outputs": [],
   "source": [
    "df_leaver_r3.to_csv(f'modelling_data_to_check.csv', index=False)"
   ]
  },
  {
   "cell_type": "code",
   "execution_count": 107,
   "metadata": {},
   "outputs": [],
   "source": [
    "df_sg.to_csv(f'sg_modelling_data_to_check.csv', index=False)\n"
   ]
  },
  {
   "attachments": {},
   "cell_type": "markdown",
   "metadata": {},
   "source": [
    "Specify the dependent variable (dv) and independent variables (ivs). All other fields to be dropped. "
   ]
  },
  {
   "cell_type": "code",
   "execution_count": 31,
   "metadata": {},
   "outputs": [],
   "source": [
    "dv = 'leaver_rate'\n",
    "ivs = ['local_unemployment','sickness_absence_rate','joiner_rate','sip_FTE']\n",
    "to_drop = ['month_year','org_code','region_name','org_type','staff_group','n','join_HC',\n",
    "           'join_FTE', 'leave_HC', 'leave_FTE', 'denom_HC','denom_FTE', dv]"
   ]
  },
  {
   "attachments": {},
   "cell_type": "markdown",
   "metadata": {},
   "source": [
    "Define the design matrix (X) and the dependent variable (y)\n"
   ]
  },
  {
   "cell_type": "code",
   "execution_count": 32,
   "metadata": {},
   "outputs": [
    {
     "data": {
      "text/plain": [
       "0    0.012726\n",
       "1    0.012726\n",
       "2    0.000000\n",
       "3    0.025540\n",
       "4    0.025540\n",
       "Name: leaver_rate, dtype: float64"
      ]
     },
     "execution_count": 32,
     "metadata": {},
     "output_type": "execute_result"
    }
   ],
   "source": [
    "df_m.reset_index(drop = True)\n",
    "X = df_m.drop(to_drop, axis=1)\n",
    "y = df_m[dv]\n",
    "\n",
    "#y = y.dropna()\n",
    "\n",
    "y.head()\n"
   ]
  },
  {
   "cell_type": "code",
   "execution_count": 33,
   "metadata": {},
   "outputs": [
    {
     "data": {
      "text/html": [
       "<div>\n",
       "<style scoped>\n",
       "    .dataframe tbody tr th:only-of-type {\n",
       "        vertical-align: middle;\n",
       "    }\n",
       "\n",
       "    .dataframe tbody tr th {\n",
       "        vertical-align: top;\n",
       "    }\n",
       "\n",
       "    .dataframe thead th {\n",
       "        text-align: right;\n",
       "    }\n",
       "</style>\n",
       "<table border=\"1\" class=\"dataframe\">\n",
       "  <thead>\n",
       "    <tr style=\"text-align: right;\">\n",
       "      <th></th>\n",
       "      <th>const</th>\n",
       "      <th>local_unemployment</th>\n",
       "      <th>sickness_absence_rate</th>\n",
       "      <th>joiner_rate</th>\n",
       "      <th>sip_FTE</th>\n",
       "    </tr>\n",
       "  </thead>\n",
       "  <tbody>\n",
       "    <tr>\n",
       "      <th>186369</th>\n",
       "      <td>1.0</td>\n",
       "      <td>0.047</td>\n",
       "      <td>0.0</td>\n",
       "      <td>0.029474</td>\n",
       "      <td>11801.00388</td>\n",
       "    </tr>\n",
       "    <tr>\n",
       "      <th>186370</th>\n",
       "      <td>1.0</td>\n",
       "      <td>0.040</td>\n",
       "      <td>0.0</td>\n",
       "      <td>0.000000</td>\n",
       "      <td>10855.67790</td>\n",
       "    </tr>\n",
       "    <tr>\n",
       "      <th>186371</th>\n",
       "      <td>1.0</td>\n",
       "      <td>0.047</td>\n",
       "      <td>0.0</td>\n",
       "      <td>0.000000</td>\n",
       "      <td>18436.42056</td>\n",
       "    </tr>\n",
       "    <tr>\n",
       "      <th>186372</th>\n",
       "      <td>1.0</td>\n",
       "      <td>0.040</td>\n",
       "      <td>0.0</td>\n",
       "      <td>0.013631</td>\n",
       "      <td>25969.82454</td>\n",
       "    </tr>\n",
       "    <tr>\n",
       "      <th>186373</th>\n",
       "      <td>1.0</td>\n",
       "      <td>0.047</td>\n",
       "      <td>0.0</td>\n",
       "      <td>0.030986</td>\n",
       "      <td>10783.64780</td>\n",
       "    </tr>\n",
       "  </tbody>\n",
       "</table>\n",
       "</div>"
      ],
      "text/plain": [
       "        const  local_unemployment  sickness_absence_rate  joiner_rate  \\\n",
       "186369    1.0               0.047                    0.0     0.029474   \n",
       "186370    1.0               0.040                    0.0     0.000000   \n",
       "186371    1.0               0.047                    0.0     0.000000   \n",
       "186372    1.0               0.040                    0.0     0.013631   \n",
       "186373    1.0               0.047                    0.0     0.030986   \n",
       "\n",
       "            sip_FTE  \n",
       "186369  11801.00388  \n",
       "186370  10855.67790  \n",
       "186371  18436.42056  \n",
       "186372  25969.82454  \n",
       "186373  10783.64780  "
      ]
     },
     "execution_count": 33,
     "metadata": {},
     "output_type": "execute_result"
    }
   ],
   "source": [
    "\n",
    "# Add a constant column to the design matrix\n",
    "X = sm.add_constant(X)\n",
    "\n",
    "X.tail()\n",
    "\n",
    "# Convert True/False categories to integer 0/1\n",
    "#bool_columns = X.select_dtypes(include='bool').columns\n",
    "#X[bool_columns] = X[bool_columns].astype(int)\n"
   ]
  },
  {
   "cell_type": "code",
   "execution_count": 34,
   "metadata": {},
   "outputs": [
    {
     "name": "stdout",
     "output_type": "stream",
     "text": [
      "                            OLS Regression Results                            \n",
      "==============================================================================\n",
      "Dep. Variable:            leaver_rate   R-squared:                       0.004\n",
      "Model:                            OLS   Adj. R-squared:                  0.004\n",
      "Method:                 Least Squares   F-statistic:                     206.6\n",
      "Date:                Mon, 24 Jul 2023   Prob (F-statistic):          3.52e-177\n",
      "Time:                        12:30:50   Log-Likelihood:             3.0535e+05\n",
      "No. Observations:              186374   AIC:                        -6.107e+05\n",
      "Df Residuals:                  186369   BIC:                        -6.106e+05\n",
      "Df Model:                           4                                         \n",
      "Covariance Type:            nonrobust                                         \n",
      "=========================================================================================\n",
      "                            coef    std err          t      P>|t|      [0.025      0.975]\n",
      "-----------------------------------------------------------------------------------------\n",
      "const                     0.0181      0.001     34.636      0.000       0.017       0.019\n",
      "local_unemployment        0.0347      0.012      2.935      0.003       0.012       0.058\n",
      "sickness_absence_rate    -0.0986      0.004    -25.377      0.000      -0.106      -0.091\n",
      "joiner_rate               0.0002      0.000      1.175      0.240      -0.000       0.001\n",
      "sip_FTE               -7.083e-08   6.16e-09    -11.496      0.000   -8.29e-08   -5.88e-08\n",
      "==============================================================================\n",
      "Omnibus:                   372509.923   Durbin-Watson:                   1.777\n",
      "Prob(Omnibus):                  0.000   Jarque-Bera (JB):        828462174.814\n",
      "Skew:                          16.636   Prob(JB):                         0.00\n",
      "Kurtosis:                     327.926   Cond. No.                     2.99e+06\n",
      "==============================================================================\n",
      "\n",
      "Notes:\n",
      "[1] Standard Errors assume that the covariance matrix of the errors is correctly specified.\n",
      "[2] The condition number is large, 2.99e+06. This might indicate that there are\n",
      "strong multicollinearity or other numerical problems.\n"
     ]
    }
   ],
   "source": [
    "# Fit the regression model\n",
    "model = sm.OLS(y, X)\n",
    "results = model.fit()\n",
    "\n",
    "# Print the regression results\n",
    "print(results.summary())"
   ]
  },
  {
   "cell_type": "code",
   "execution_count": 157,
   "metadata": {},
   "outputs": [
    {
     "name": "stdout",
     "output_type": "stream",
     "text": [
      "=========================================================================================\n",
      "                            coef    std err          t      P>|t|      [0.025      0.975]\n",
      "-----------------------------------------------------------------------------------------\n",
      "const                     0.0182      0.001     34.059      0.000       0.017       0.019\n",
      "local_unemployment        0.0429      0.012      3.549      0.000       0.019       0.067\n",
      "sickness_absence_rate    -0.1092      0.004    -27.670      0.000      -0.117      -0.101\n",
      "joiner_rate               0.0002      0.000      1.234      0.217      -0.000       0.001\n",
      "sip_FTE               -6.368e-08   6.22e-09    -10.236      0.000   -7.59e-08   -5.15e-08\n",
      "=========================================================================================\n"
     ]
    }
   ],
   "source": [
    "\n",
    "# Get the summary of the regression results\n",
    "summary = results.summary()\n",
    "\n",
    "# # Convert the summary table to a pandas DataFrame\n",
    "# summary_df = pd.read_html(summary.tables[1].as_html(), header=0, index_col=0)[0]\n",
    "\n",
    "# # Format the coefficients and p-values\n",
    "# summary_df['coef'] = summary_df['coef'].map('{:.4f}'.format)\n",
    "# summary_df['P>|t|'] = summary_df['P>|t|'].map('{:.4f}'.format)\n",
    "\n",
    "# Print the formatted summary table\n",
    "print(summary.tables[1])"
   ]
  },
  {
   "cell_type": "code",
   "execution_count": null,
   "metadata": {},
   "outputs": [],
   "source": []
  },
  {
   "attachments": {},
   "cell_type": "markdown",
   "metadata": {},
   "source": [
    "This model uses region and type of provider to try and predict NHS staff leaver FTE. The R squared is 0.054, meaning the factors in the model only explain 5.4% of the variation in the data. A lower adjusted R squared than R squared would tell us that some of the model's factors are not contibuting - this is not the case here. \n",
    "All variables contribute significantly except being in the Midlands region, NE and Yorkshire, North West or South West.  \n",
    "The strongest predictors are CCG"
   ]
  }
 ],
 "metadata": {
  "kernelspec": {
   "display_name": "Python 3.9.0 64-bit",
   "language": "python",
   "name": "python3"
  },
  "language_info": {
   "codemirror_mode": {
    "name": "ipython",
    "version": 3
   },
   "file_extension": ".py",
   "mimetype": "text/x-python",
   "name": "python",
   "nbconvert_exporter": "python",
   "pygments_lexer": "ipython3",
   "version": "3.9.0"
  },
  "orig_nbformat": 4,
  "vscode": {
   "interpreter": {
    "hash": "4fbfea1dd5a17f80dff8df3ba641602c59e31ce1a55b82aea18e6894ff3c71a7"
   }
  }
 },
 "nbformat": 4,
 "nbformat_minor": 2
}
