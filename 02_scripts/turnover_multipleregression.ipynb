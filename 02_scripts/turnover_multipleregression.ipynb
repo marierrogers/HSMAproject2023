{
 "cells": [
  {
   "attachments": {},
   "cell_type": "markdown",
   "metadata": {},
   "source": [
    "Impact of factors on retention"
   ]
  },
  {
   "attachments": {},
   "cell_type": "markdown",
   "metadata": {},
   "source": [
    "Import libraries"
   ]
  },
  {
   "cell_type": "code",
   "execution_count": 1,
   "metadata": {},
   "outputs": [],
   "source": [
    "import numpy as np\n",
    "import pandas as pd\n",
    "import matplotlib.pyplot as plt\n",
    "import statsmodels.api as sm\n",
    "import seaborn as sns\n",
    "#import geopandas as gpd"
   ]
  },
  {
   "attachments": {},
   "cell_type": "markdown",
   "metadata": {},
   "source": [
    "Read turnover data from csv into a dataframe. Input the latest data available into \"month\" and \"year\""
   ]
  },
  {
   "cell_type": "code",
   "execution_count": 4,
   "metadata": {},
   "outputs": [
    {
     "name": "stdout",
     "output_type": "stream",
     "text": [
      "<class 'pandas.core.frame.DataFrame'>\n",
      "RangeIndex: 193650 entries, 0 to 193649\n",
      "Data columns (total 10 columns):\n",
      " #   Column       Non-Null Count   Dtype         \n",
      "---  ------       --------------   -----         \n",
      " 0   org_code     193650 non-null  object        \n",
      " 1   staff_group  193650 non-null  object        \n",
      " 2   month_year   193650 non-null  datetime64[ns]\n",
      " 3   n            193650 non-null  float64       \n",
      " 4   join_HC      124069 non-null  float64       \n",
      " 5   join_FTE     124069 non-null  float64       \n",
      " 6   leave_HC     125487 non-null  float64       \n",
      " 7   leave_FTE    125487 non-null  float64       \n",
      " 8   denom_HC     192694 non-null  float64       \n",
      " 9   denom_FTE    192694 non-null  float64       \n",
      "dtypes: datetime64[ns](1), float64(7), object(2)\n",
      "memory usage: 14.8+ MB\n"
     ]
    }
   ],
   "source": [
    "#month = \"february\"\n",
    "#year = \"2023\"\n",
    "url = f'../01_data/processed_monthly_turnover.csv'\n",
    "df = pd.read_csv(url, parse_dates=['month_year'])\n",
    "#df = df.sort_values(by='Date')\n",
    "#df = df.drop(['Joiner_FTE','SIP_HC','Benchmark group','ICS code','ICS name'],axis=1)\n",
    "df.info()\n"
   ]
  },
  {
   "attachments": {},
   "cell_type": "markdown",
   "metadata": {},
   "source": [
    "Drop joiners data to create leavers dataframe. Drop CCGs and ICBs (optionally) drop some staff groups not of interest."
   ]
  },
  {
   "cell_type": "code",
   "execution_count": 7,
   "metadata": {},
   "outputs": [],
   "source": [
    "\n",
    "#staff_groups_todrop = ['Other staff or those with unknown classification','Managers','Senior managers','Central functions','Hotel, property & estates']\n",
    "#df_leaver = df_leaver[~df_leaver['Staff group'].isin(staff_groups_todrop)]\n",
    "\n",
    "#trust_types_todrop = ['Clinical Commissioning Group','Integrated Care Board']\n",
    "#df_leaver = df[~df['Cluster group'].isin(trust_types_todrop)]\n",
    "\n",
    "#df_leaver_acute = df_leaver[df_leaver['Cluster group'] == 'Acute']\n",
    "\n",
    "#df_leaver.head()\n",
    "df_leaver = df"
   ]
  },
  {
   "attachments": {},
   "cell_type": "markdown",
   "metadata": {},
   "source": [
    "The data show the full time equivalent (FTE) number of leavers by organisation and staff group for the previous 12-month period from the date. It also shows the number of staff in post (SIP) FTE averaged over the 12-month period to date."
   ]
  },
  {
   "attachments": {},
   "cell_type": "markdown",
   "metadata": {},
   "source": [
    "Load data about local unemployment so we can use it as a regressor"
   ]
  },
  {
   "cell_type": "code",
   "execution_count": 5,
   "metadata": {},
   "outputs": [
    {
     "data": {
      "text/html": [
       "<div>\n",
       "<style scoped>\n",
       "    .dataframe tbody tr th:only-of-type {\n",
       "        vertical-align: middle;\n",
       "    }\n",
       "\n",
       "    .dataframe tbody tr th {\n",
       "        vertical-align: top;\n",
       "    }\n",
       "\n",
       "    .dataframe thead th {\n",
       "        text-align: right;\n",
       "    }\n",
       "</style>\n",
       "<table border=\"1\" class=\"dataframe\">\n",
       "  <thead>\n",
       "    <tr style=\"text-align: right;\">\n",
       "      <th></th>\n",
       "      <th>Date</th>\n",
       "      <th>Region</th>\n",
       "      <th>NHSE region name</th>\n",
       "      <th>%</th>\n",
       "      <th>thousands</th>\n",
       "    </tr>\n",
       "  </thead>\n",
       "  <tbody>\n",
       "    <tr>\n",
       "      <th>0</th>\n",
       "      <td>1992-04-01</td>\n",
       "      <td>East Midlands</td>\n",
       "      <td>Midlands</td>\n",
       "      <td>0.087</td>\n",
       "      <td>177</td>\n",
       "    </tr>\n",
       "    <tr>\n",
       "      <th>1</th>\n",
       "      <td>1992-04-01</td>\n",
       "      <td>East of England</td>\n",
       "      <td>East of England</td>\n",
       "      <td>0.079</td>\n",
       "      <td>210</td>\n",
       "    </tr>\n",
       "    <tr>\n",
       "      <th>2</th>\n",
       "      <td>1992-04-01</td>\n",
       "      <td>London</td>\n",
       "      <td>London</td>\n",
       "      <td>0.123</td>\n",
       "      <td>424</td>\n",
       "    </tr>\n",
       "    <tr>\n",
       "      <th>3</th>\n",
       "      <td>1992-04-01</td>\n",
       "      <td>North East</td>\n",
       "      <td>North East</td>\n",
       "      <td>0.122</td>\n",
       "      <td>146</td>\n",
       "    </tr>\n",
       "    <tr>\n",
       "      <th>4</th>\n",
       "      <td>1992-04-01</td>\n",
       "      <td>North West</td>\n",
       "      <td>North West</td>\n",
       "      <td>0.101</td>\n",
       "      <td>331</td>\n",
       "    </tr>\n",
       "  </tbody>\n",
       "</table>\n",
       "</div>"
      ],
      "text/plain": [
       "        Date           Region NHSE region name      %  thousands\n",
       "0 1992-04-01    East Midlands         Midlands  0.087        177\n",
       "1 1992-04-01  East of England  East of England  0.079        210\n",
       "2 1992-04-01           London           London  0.123        424\n",
       "3 1992-04-01       North East       North East  0.122        146\n",
       "4 1992-04-01       North West       North West  0.101        331"
      ]
     },
     "execution_count": 5,
     "metadata": {},
     "output_type": "execute_result"
    }
   ],
   "source": [
    "url_r1 = '../01_data/ONS_localunemployment_monthly.csv'\n",
    "df_r1 = pd.read_csv(url_r1, parse_dates=['Date'])\n",
    "\n",
    "df_r1.head()"
   ]
  },
  {
   "cell_type": "code",
   "execution_count": 6,
   "metadata": {},
   "outputs": [
    {
     "name": "stdout",
     "output_type": "stream",
     "text": [
      "<class 'pandas.core.frame.DataFrame'>\n",
      "Index: 3348 entries, 0 to 3347\n",
      "Data columns (total 3 columns):\n",
      " #   Column              Non-Null Count  Dtype         \n",
      "---  ------              --------------  -----         \n",
      " 0   Date                3348 non-null   datetime64[ns]\n",
      " 1   NHSE region name    3348 non-null   object        \n",
      " 2   local_unemployment  3348 non-null   float64       \n",
      "dtypes: datetime64[ns](1), float64(1), object(1)\n",
      "memory usage: 104.6+ KB\n"
     ]
    }
   ],
   "source": [
    "#df_r1['Date'] = df['Date'].dt.strftime('%Y-%m-%d')\n",
    "\n",
    "# drop type thousands, only use %s\n",
    "#df_r1 = df_r1[df_r1['Type'] != 'thousands']\n",
    "\n",
    "df_r1.drop(['Region','thousands'],axis=1,inplace=True)\n",
    "df_r1.rename(columns={'%':'local_unemployment'},inplace=True)\n",
    "df_r1 = df_r1.sort_values('Date')\n",
    "df_r1.info()"
   ]
  },
  {
   "attachments": {},
   "cell_type": "markdown",
   "metadata": {},
   "source": [
    "Add data about local unemployment at the regional level to the main dataframe"
   ]
  },
  {
   "cell_type": "code",
   "execution_count": 8,
   "metadata": {},
   "outputs": [
    {
     "ename": "KeyError",
     "evalue": "'Date'",
     "output_type": "error",
     "traceback": [
      "\u001b[1;31m---------------------------------------------------------------------------\u001b[0m",
      "\u001b[1;31mKeyError\u001b[0m                                  Traceback (most recent call last)",
      "\u001b[1;32m~\\AppData\\Local\\Temp\\ipykernel_16620\\273343767.py\u001b[0m in \u001b[0;36m?\u001b[1;34m()\u001b[0m\n\u001b[1;32m----> 1\u001b[1;33m \u001b[0mdf_leaver_r1\u001b[0m \u001b[1;33m=\u001b[0m \u001b[0mpd\u001b[0m\u001b[1;33m.\u001b[0m\u001b[0mmerge\u001b[0m\u001b[1;33m(\u001b[0m\u001b[0mdf_leaver\u001b[0m\u001b[1;33m,\u001b[0m \u001b[0mdf_r1\u001b[0m\u001b[1;33m,\u001b[0m \u001b[0mon\u001b[0m\u001b[1;33m=\u001b[0m\u001b[1;33m[\u001b[0m\u001b[1;34m'Date'\u001b[0m\u001b[1;33m,\u001b[0m \u001b[1;34m'NHSE region name'\u001b[0m\u001b[1;33m]\u001b[0m\u001b[1;33m,\u001b[0m\u001b[0mhow\u001b[0m\u001b[1;33m=\u001b[0m\u001b[1;34m'left'\u001b[0m\u001b[1;33m)\u001b[0m\u001b[1;33m\u001b[0m\u001b[1;33m\u001b[0m\u001b[0m\n\u001b[0m\u001b[0;32m      2\u001b[0m \u001b[1;31m#df_leaver_r1 = df_leaver_r1.dropna()\u001b[0m\u001b[1;33m\u001b[0m\u001b[1;33m\u001b[0m\u001b[1;33m\u001b[0m\u001b[0m\n\u001b[0;32m      3\u001b[0m \u001b[0mdf_leaver_r1\u001b[0m\u001b[1;33m.\u001b[0m\u001b[0minfo\u001b[0m\u001b[1;33m(\u001b[0m\u001b[1;33m)\u001b[0m\u001b[1;33m\u001b[0m\u001b[1;33m\u001b[0m\u001b[0m\n",
      "\u001b[1;32m~\\AppData\\Roaming\\Python\\Python39\\site-packages\\pandas\\core\\reshape\\merge.py\u001b[0m in \u001b[0;36m?\u001b[1;34m(left, right, how, on, left_on, right_on, left_index, right_index, sort, suffixes, copy, indicator, validate)\u001b[0m\n\u001b[0;32m    144\u001b[0m     \u001b[0mcopy\u001b[0m\u001b[1;33m:\u001b[0m \u001b[0mbool\u001b[0m \u001b[1;33m|\u001b[0m \u001b[1;32mNone\u001b[0m \u001b[1;33m=\u001b[0m \u001b[1;32mNone\u001b[0m\u001b[1;33m,\u001b[0m\u001b[1;33m\u001b[0m\u001b[1;33m\u001b[0m\u001b[0m\n\u001b[0;32m    145\u001b[0m     \u001b[0mindicator\u001b[0m\u001b[1;33m:\u001b[0m \u001b[0mstr\u001b[0m \u001b[1;33m|\u001b[0m \u001b[0mbool\u001b[0m \u001b[1;33m=\u001b[0m \u001b[1;32mFalse\u001b[0m\u001b[1;33m,\u001b[0m\u001b[1;33m\u001b[0m\u001b[1;33m\u001b[0m\u001b[0m\n\u001b[0;32m    146\u001b[0m     \u001b[0mvalidate\u001b[0m\u001b[1;33m:\u001b[0m \u001b[0mstr\u001b[0m \u001b[1;33m|\u001b[0m \u001b[1;32mNone\u001b[0m \u001b[1;33m=\u001b[0m \u001b[1;32mNone\u001b[0m\u001b[1;33m,\u001b[0m\u001b[1;33m\u001b[0m\u001b[1;33m\u001b[0m\u001b[0m\n\u001b[0;32m    147\u001b[0m ) -> DataFrame:\n\u001b[1;32m--> 148\u001b[1;33m     op = _MergeOperation(\n\u001b[0m\u001b[0;32m    149\u001b[0m         \u001b[0mleft\u001b[0m\u001b[1;33m,\u001b[0m\u001b[1;33m\u001b[0m\u001b[1;33m\u001b[0m\u001b[0m\n\u001b[0;32m    150\u001b[0m         \u001b[0mright\u001b[0m\u001b[1;33m,\u001b[0m\u001b[1;33m\u001b[0m\u001b[1;33m\u001b[0m\u001b[0m\n\u001b[0;32m    151\u001b[0m         \u001b[0mhow\u001b[0m\u001b[1;33m=\u001b[0m\u001b[0mhow\u001b[0m\u001b[1;33m,\u001b[0m\u001b[1;33m\u001b[0m\u001b[1;33m\u001b[0m\u001b[0m\n",
      "\u001b[1;32m~\\AppData\\Roaming\\Python\\Python39\\site-packages\\pandas\\core\\reshape\\merge.py\u001b[0m in \u001b[0;36m?\u001b[1;34m(self, left, right, how, on, left_on, right_on, axis, left_index, right_index, sort, suffixes, indicator, validate)\u001b[0m\n\u001b[0;32m    733\u001b[0m         (\n\u001b[0;32m    734\u001b[0m             \u001b[0mself\u001b[0m\u001b[1;33m.\u001b[0m\u001b[0mleft_join_keys\u001b[0m\u001b[1;33m,\u001b[0m\u001b[1;33m\u001b[0m\u001b[1;33m\u001b[0m\u001b[0m\n\u001b[0;32m    735\u001b[0m             \u001b[0mself\u001b[0m\u001b[1;33m.\u001b[0m\u001b[0mright_join_keys\u001b[0m\u001b[1;33m,\u001b[0m\u001b[1;33m\u001b[0m\u001b[1;33m\u001b[0m\u001b[0m\n\u001b[0;32m    736\u001b[0m             \u001b[0mself\u001b[0m\u001b[1;33m.\u001b[0m\u001b[0mjoin_names\u001b[0m\u001b[1;33m,\u001b[0m\u001b[1;33m\u001b[0m\u001b[1;33m\u001b[0m\u001b[0m\n\u001b[1;32m--> 737\u001b[1;33m         ) = self._get_merge_keys()\n\u001b[0m\u001b[0;32m    738\u001b[0m \u001b[1;33m\u001b[0m\u001b[0m\n\u001b[0;32m    739\u001b[0m         \u001b[1;31m# validate the merge keys dtypes. We may need to coerce\u001b[0m\u001b[1;33m\u001b[0m\u001b[1;33m\u001b[0m\u001b[1;33m\u001b[0m\u001b[0m\n\u001b[0;32m    740\u001b[0m         \u001b[1;31m# to avoid incompatible dtypes\u001b[0m\u001b[1;33m\u001b[0m\u001b[1;33m\u001b[0m\u001b[1;33m\u001b[0m\u001b[0m\n",
      "\u001b[1;32m~\\AppData\\Roaming\\Python\\Python39\\site-packages\\pandas\\core\\reshape\\merge.py\u001b[0m in \u001b[0;36m?\u001b[1;34m(self)\u001b[0m\n\u001b[0;32m   1217\u001b[0m                     \u001b[1;32mif\u001b[0m \u001b[0mlk\u001b[0m \u001b[1;32mis\u001b[0m \u001b[1;32mnot\u001b[0m \u001b[1;32mNone\u001b[0m\u001b[1;33m:\u001b[0m\u001b[1;33m\u001b[0m\u001b[1;33m\u001b[0m\u001b[0m\n\u001b[0;32m   1218\u001b[0m                         \u001b[1;31m# Then we're either Hashable or a wrong-length arraylike,\u001b[0m\u001b[1;33m\u001b[0m\u001b[1;33m\u001b[0m\u001b[1;33m\u001b[0m\u001b[0m\n\u001b[0;32m   1219\u001b[0m                         \u001b[1;31m#  the latter of which will raise\u001b[0m\u001b[1;33m\u001b[0m\u001b[1;33m\u001b[0m\u001b[1;33m\u001b[0m\u001b[0m\n\u001b[0;32m   1220\u001b[0m                         \u001b[0mlk\u001b[0m \u001b[1;33m=\u001b[0m \u001b[0mcast\u001b[0m\u001b[1;33m(\u001b[0m\u001b[0mHashable\u001b[0m\u001b[1;33m,\u001b[0m \u001b[0mlk\u001b[0m\u001b[1;33m)\u001b[0m\u001b[1;33m\u001b[0m\u001b[1;33m\u001b[0m\u001b[0m\n\u001b[1;32m-> 1221\u001b[1;33m                         \u001b[0mleft_keys\u001b[0m\u001b[1;33m.\u001b[0m\u001b[0mappend\u001b[0m\u001b[1;33m(\u001b[0m\u001b[0mleft\u001b[0m\u001b[1;33m.\u001b[0m\u001b[0m_get_label_or_level_values\u001b[0m\u001b[1;33m(\u001b[0m\u001b[0mlk\u001b[0m\u001b[1;33m)\u001b[0m\u001b[1;33m)\u001b[0m\u001b[1;33m\u001b[0m\u001b[1;33m\u001b[0m\u001b[0m\n\u001b[0m\u001b[0;32m   1222\u001b[0m                         \u001b[0mjoin_names\u001b[0m\u001b[1;33m.\u001b[0m\u001b[0mappend\u001b[0m\u001b[1;33m(\u001b[0m\u001b[0mlk\u001b[0m\u001b[1;33m)\u001b[0m\u001b[1;33m\u001b[0m\u001b[1;33m\u001b[0m\u001b[0m\n\u001b[0;32m   1223\u001b[0m                     \u001b[1;32melse\u001b[0m\u001b[1;33m:\u001b[0m\u001b[1;33m\u001b[0m\u001b[1;33m\u001b[0m\u001b[0m\n\u001b[0;32m   1224\u001b[0m                         \u001b[1;31m# work-around for merge_asof(left_index=True)\u001b[0m\u001b[1;33m\u001b[0m\u001b[1;33m\u001b[0m\u001b[1;33m\u001b[0m\u001b[0m\n",
      "\u001b[1;32m~\\AppData\\Roaming\\Python\\Python39\\site-packages\\pandas\\core\\generic.py\u001b[0m in \u001b[0;36m?\u001b[1;34m(self, key, axis)\u001b[0m\n\u001b[0;32m   1774\u001b[0m             \u001b[0mvalues\u001b[0m \u001b[1;33m=\u001b[0m \u001b[0mself\u001b[0m\u001b[1;33m.\u001b[0m\u001b[0mxs\u001b[0m\u001b[1;33m(\u001b[0m\u001b[0mkey\u001b[0m\u001b[1;33m,\u001b[0m \u001b[0maxis\u001b[0m\u001b[1;33m=\u001b[0m\u001b[0mother_axes\u001b[0m\u001b[1;33m[\u001b[0m\u001b[1;36m0\u001b[0m\u001b[1;33m]\u001b[0m\u001b[1;33m)\u001b[0m\u001b[1;33m.\u001b[0m\u001b[0m_values\u001b[0m\u001b[1;33m\u001b[0m\u001b[1;33m\u001b[0m\u001b[0m\n\u001b[0;32m   1775\u001b[0m         \u001b[1;32melif\u001b[0m \u001b[0mself\u001b[0m\u001b[1;33m.\u001b[0m\u001b[0m_is_level_reference\u001b[0m\u001b[1;33m(\u001b[0m\u001b[0mkey\u001b[0m\u001b[1;33m,\u001b[0m \u001b[0maxis\u001b[0m\u001b[1;33m=\u001b[0m\u001b[0maxis\u001b[0m\u001b[1;33m)\u001b[0m\u001b[1;33m:\u001b[0m\u001b[1;33m\u001b[0m\u001b[1;33m\u001b[0m\u001b[0m\n\u001b[0;32m   1776\u001b[0m             \u001b[0mvalues\u001b[0m \u001b[1;33m=\u001b[0m \u001b[0mself\u001b[0m\u001b[1;33m.\u001b[0m\u001b[0maxes\u001b[0m\u001b[1;33m[\u001b[0m\u001b[0maxis\u001b[0m\u001b[1;33m]\u001b[0m\u001b[1;33m.\u001b[0m\u001b[0mget_level_values\u001b[0m\u001b[1;33m(\u001b[0m\u001b[0mkey\u001b[0m\u001b[1;33m)\u001b[0m\u001b[1;33m.\u001b[0m\u001b[0m_values\u001b[0m\u001b[1;33m\u001b[0m\u001b[1;33m\u001b[0m\u001b[0m\n\u001b[0;32m   1777\u001b[0m         \u001b[1;32melse\u001b[0m\u001b[1;33m:\u001b[0m\u001b[1;33m\u001b[0m\u001b[1;33m\u001b[0m\u001b[0m\n\u001b[1;32m-> 1778\u001b[1;33m             \u001b[1;32mraise\u001b[0m \u001b[0mKeyError\u001b[0m\u001b[1;33m(\u001b[0m\u001b[0mkey\u001b[0m\u001b[1;33m)\u001b[0m\u001b[1;33m\u001b[0m\u001b[1;33m\u001b[0m\u001b[0m\n\u001b[0m\u001b[0;32m   1779\u001b[0m \u001b[1;33m\u001b[0m\u001b[0m\n\u001b[0;32m   1780\u001b[0m         \u001b[1;31m# Check for duplicates\u001b[0m\u001b[1;33m\u001b[0m\u001b[1;33m\u001b[0m\u001b[1;33m\u001b[0m\u001b[0m\n\u001b[0;32m   1781\u001b[0m         \u001b[1;32mif\u001b[0m \u001b[0mvalues\u001b[0m\u001b[1;33m.\u001b[0m\u001b[0mndim\u001b[0m \u001b[1;33m>\u001b[0m \u001b[1;36m1\u001b[0m\u001b[1;33m:\u001b[0m\u001b[1;33m\u001b[0m\u001b[1;33m\u001b[0m\u001b[0m\n",
      "\u001b[1;31mKeyError\u001b[0m: 'Date'"
     ]
    }
   ],
   "source": [
    "df_leaver_r1 = pd.merge(df_leaver, df_r1, on=['Date', 'NHSE region name'],how='left')\n",
    "#df_leaver_r1 = df_leaver_r1.dropna()\n",
    "df_leaver_r1.info()"
   ]
  },
  {
   "attachments": {},
   "cell_type": "markdown",
   "metadata": {},
   "source": [
    "Load data about sickness absence to use as second regressor"
   ]
  },
  {
   "cell_type": "code",
   "execution_count": 7,
   "metadata": {},
   "outputs": [
    {
     "name": "stdout",
     "output_type": "stream",
     "text": [
      "<class 'pandas.core.frame.DataFrame'>\n",
      "RangeIndex: 273083 entries, 0 to 273082\n",
      "Data columns (total 9 columns):\n",
      " #   Column              Non-Null Count   Dtype         \n",
      "---  ------              --------------   -----         \n",
      " 0   Date                273083 non-null  datetime64[ns]\n",
      " 1   Org code            273083 non-null  object        \n",
      " 2   Org name            273083 non-null  object        \n",
      " 3   NHSE region code    273083 non-null  object        \n",
      " 4   NHSE region name    273083 non-null  object        \n",
      " 5   Cluster group       273083 non-null  object        \n",
      " 6   Staff group         273083 non-null  object        \n",
      " 7   FTE days lost       237915 non-null  float64       \n",
      " 8   FTE days available  237915 non-null  float64       \n",
      "dtypes: datetime64[ns](1), float64(2), object(6)\n",
      "memory usage: 18.8+ MB\n"
     ]
    }
   ],
   "source": [
    "url_r2 = '../01_data/sickness_absence.csv'\n",
    "df_r2 = pd.read_csv(url_r2, parse_dates=['Date'])\n",
    "trust_types_todrop = ['Clinical Commissioning Group','Integrated Care Board']\n",
    "df_r2 = df_r2[~df_r2['Cluster group'].isin(trust_types_todrop)]\n",
    "df_r2 = df_r2.drop('Benchmark group',axis=1)\n",
    "df_r2 = df_r2.reset_index(drop=True)\n",
    "df_r2.info()"
   ]
  },
  {
   "cell_type": "code",
   "execution_count": 8,
   "metadata": {},
   "outputs": [
    {
     "data": {
      "text/html": [
       "<div>\n",
       "<style scoped>\n",
       "    .dataframe tbody tr th:only-of-type {\n",
       "        vertical-align: middle;\n",
       "    }\n",
       "\n",
       "    .dataframe tbody tr th {\n",
       "        vertical-align: top;\n",
       "    }\n",
       "\n",
       "    .dataframe thead th {\n",
       "        text-align: right;\n",
       "    }\n",
       "</style>\n",
       "<table border=\"1\" class=\"dataframe\">\n",
       "  <thead>\n",
       "    <tr style=\"text-align: right;\">\n",
       "      <th></th>\n",
       "      <th>Date</th>\n",
       "      <th>Org code</th>\n",
       "      <th>Org name</th>\n",
       "      <th>NHSE region code</th>\n",
       "      <th>NHSE region name</th>\n",
       "      <th>Cluster group</th>\n",
       "      <th>Staff group</th>\n",
       "      <th>FTE days lost</th>\n",
       "      <th>FTE days available</th>\n",
       "    </tr>\n",
       "  </thead>\n",
       "  <tbody>\n",
       "    <tr>\n",
       "      <th>0</th>\n",
       "      <td>2018-03-01</td>\n",
       "      <td>RT3</td>\n",
       "      <td>Royal Brompton and Harefield NHS Foundation Trust</td>\n",
       "      <td>Y56</td>\n",
       "      <td>London</td>\n",
       "      <td>Acute</td>\n",
       "      <td>Hotel, property &amp; estates</td>\n",
       "      <td>202.97333</td>\n",
       "      <td>4692.62646</td>\n",
       "    </tr>\n",
       "    <tr>\n",
       "      <th>1</th>\n",
       "      <td>2018-03-01</td>\n",
       "      <td>0DE</td>\n",
       "      <td>NHS Arden and Greater East Midlands Commission...</td>\n",
       "      <td>QZZ</td>\n",
       "      <td>Special Health Authorities and other statutory...</td>\n",
       "      <td>Commissioning Support Unit</td>\n",
       "      <td>Managers</td>\n",
       "      <td>150.75336</td>\n",
       "      <td>7272.63377</td>\n",
       "    </tr>\n",
       "    <tr>\n",
       "      <th>2</th>\n",
       "      <td>2018-03-01</td>\n",
       "      <td>0DE</td>\n",
       "      <td>NHS Arden and Greater East Midlands Commission...</td>\n",
       "      <td>QZZ</td>\n",
       "      <td>Special Health Authorities and other statutory...</td>\n",
       "      <td>Commissioning Support Unit</td>\n",
       "      <td>Nurses &amp; health visitors</td>\n",
       "      <td>35.64000</td>\n",
       "      <td>2327.04646</td>\n",
       "    </tr>\n",
       "    <tr>\n",
       "      <th>3</th>\n",
       "      <td>2018-03-01</td>\n",
       "      <td>0DE</td>\n",
       "      <td>NHS Arden and Greater East Midlands Commission...</td>\n",
       "      <td>QZZ</td>\n",
       "      <td>Special Health Authorities and other statutory...</td>\n",
       "      <td>Commissioning Support Unit</td>\n",
       "      <td>Scientific, therapeutic &amp; technical staff</td>\n",
       "      <td>10.39998</td>\n",
       "      <td>504.83363</td>\n",
       "    </tr>\n",
       "    <tr>\n",
       "      <th>4</th>\n",
       "      <td>2018-03-01</td>\n",
       "      <td>0DE</td>\n",
       "      <td>NHS Arden and Greater East Midlands Commission...</td>\n",
       "      <td>QZZ</td>\n",
       "      <td>Special Health Authorities and other statutory...</td>\n",
       "      <td>Commissioning Support Unit</td>\n",
       "      <td>Senior managers</td>\n",
       "      <td>0.00000</td>\n",
       "      <td>1106.63354</td>\n",
       "    </tr>\n",
       "  </tbody>\n",
       "</table>\n",
       "</div>"
      ],
      "text/plain": [
       "        Date Org code                                           Org name  \\\n",
       "0 2018-03-01      RT3  Royal Brompton and Harefield NHS Foundation Trust   \n",
       "1 2018-03-01      0DE  NHS Arden and Greater East Midlands Commission...   \n",
       "2 2018-03-01      0DE  NHS Arden and Greater East Midlands Commission...   \n",
       "3 2018-03-01      0DE  NHS Arden and Greater East Midlands Commission...   \n",
       "4 2018-03-01      0DE  NHS Arden and Greater East Midlands Commission...   \n",
       "\n",
       "  NHSE region code                                   NHSE region name  \\\n",
       "0              Y56                                             London   \n",
       "1              QZZ  Special Health Authorities and other statutory...   \n",
       "2              QZZ  Special Health Authorities and other statutory...   \n",
       "3              QZZ  Special Health Authorities and other statutory...   \n",
       "4              QZZ  Special Health Authorities and other statutory...   \n",
       "\n",
       "                Cluster group                                Staff group  \\\n",
       "0                       Acute                  Hotel, property & estates   \n",
       "1  Commissioning Support Unit                                   Managers   \n",
       "2  Commissioning Support Unit                   Nurses & health visitors   \n",
       "3  Commissioning Support Unit  Scientific, therapeutic & technical staff   \n",
       "4  Commissioning Support Unit                            Senior managers   \n",
       "\n",
       "   FTE days lost  FTE days available  \n",
       "0      202.97333          4692.62646  \n",
       "1      150.75336          7272.63377  \n",
       "2       35.64000          2327.04646  \n",
       "3       10.39998           504.83363  \n",
       "4        0.00000          1106.63354  "
      ]
     },
     "execution_count": 8,
     "metadata": {},
     "output_type": "execute_result"
    }
   ],
   "source": [
    "df_r2.head()"
   ]
  },
  {
   "attachments": {},
   "cell_type": "markdown",
   "metadata": {},
   "source": [
    "Add sickness absence data to the main dataframe"
   ]
  },
  {
   "cell_type": "code",
   "execution_count": 9,
   "metadata": {},
   "outputs": [
    {
     "name": "stdout",
     "output_type": "stream",
     "text": [
      "<class 'pandas.core.frame.DataFrame'>\n",
      "RangeIndex: 180276 entries, 0 to 180275\n",
      "Data columns (total 17 columns):\n",
      " #   Column              Non-Null Count   Dtype         \n",
      "---  ------              --------------   -----         \n",
      " 0   Date                180276 non-null  datetime64[ns]\n",
      " 1   Org code            180276 non-null  object        \n",
      " 2   Org name            180276 non-null  object        \n",
      " 3   NHSE region code    180276 non-null  object        \n",
      " 4   NHSE region name    180276 non-null  object        \n",
      " 5   Cluster group       180276 non-null  object        \n",
      " 6   Benchmark group     180276 non-null  object        \n",
      " 7   Staff group         180276 non-null  object        \n",
      " 8   HC_Denoms           179913 non-null  float64       \n",
      " 9   HC_Joiners          134420 non-null  float64       \n",
      " 10  HC_Leavers          134610 non-null  float64       \n",
      " 11  FTE_Denoms          179913 non-null  float64       \n",
      " 12  FTE_Joiners         134420 non-null  float64       \n",
      " 13  FTE_Leavers         134610 non-null  float64       \n",
      " 14  local_unemployment  180276 non-null  float64       \n",
      " 15  FTE days lost       132596 non-null  float64       \n",
      " 16  FTE days available  132596 non-null  float64       \n",
      "dtypes: datetime64[ns](1), float64(9), object(7)\n",
      "memory usage: 23.4+ MB\n"
     ]
    }
   ],
   "source": [
    "merge_cols = ['Date', 'Org code','Org name','NHSE region code','NHSE region name','Cluster group','Staff group']\n",
    "df_leaver_r2 = pd.merge(df_leaver_r1, df_r2, on=merge_cols,how='left')\n",
    "#df_leaver_r2 = df_leaver_r2.dropna()\n",
    "df_leaver_r2.drop_duplicates(subset=merge_cols)\n",
    "df_leaver_r2.info()"
   ]
  },
  {
   "cell_type": "code",
   "execution_count": 10,
   "metadata": {},
   "outputs": [
    {
     "data": {
      "text/plain": [
       "Timestamp('2023-02-01 00:00:00')"
      ]
     },
     "execution_count": 10,
     "metadata": {},
     "output_type": "execute_result"
    }
   ],
   "source": [
    "df_leaver_r2['Date'].max()\n",
    "#date_max = df['Date'].max()"
   ]
  },
  {
   "cell_type": "code",
   "execution_count": 11,
   "metadata": {},
   "outputs": [
    {
     "data": {
      "text/html": [
       "<div>\n",
       "<style scoped>\n",
       "    .dataframe tbody tr th:only-of-type {\n",
       "        vertical-align: middle;\n",
       "    }\n",
       "\n",
       "    .dataframe tbody tr th {\n",
       "        vertical-align: top;\n",
       "    }\n",
       "\n",
       "    .dataframe thead th {\n",
       "        text-align: right;\n",
       "    }\n",
       "</style>\n",
       "<table border=\"1\" class=\"dataframe\">\n",
       "  <thead>\n",
       "    <tr style=\"text-align: right;\">\n",
       "      <th></th>\n",
       "      <th>Date</th>\n",
       "      <th>Org code</th>\n",
       "      <th>Org name</th>\n",
       "      <th>NHSE region code</th>\n",
       "      <th>NHSE region name</th>\n",
       "      <th>Cluster group</th>\n",
       "      <th>Benchmark group</th>\n",
       "      <th>Staff group</th>\n",
       "      <th>HC_Denoms</th>\n",
       "      <th>HC_Joiners</th>\n",
       "      <th>HC_Leavers</th>\n",
       "      <th>FTE_Denoms</th>\n",
       "      <th>FTE_Joiners</th>\n",
       "      <th>FTE_Leavers</th>\n",
       "      <th>local_unemployment</th>\n",
       "      <th>FTE days lost</th>\n",
       "      <th>FTE days available</th>\n",
       "    </tr>\n",
       "  </thead>\n",
       "  <tbody>\n",
       "    <tr>\n",
       "      <th>180271</th>\n",
       "      <td>2023-02-01</td>\n",
       "      <td>TAJ</td>\n",
       "      <td>Black Country Healthcare NHS Foundation Trust</td>\n",
       "      <td>Y60</td>\n",
       "      <td>Midlands</td>\n",
       "      <td>Mental Health</td>\n",
       "      <td>Mental Health and Learning Disability</td>\n",
       "      <td>Senior managers</td>\n",
       "      <td>56.0</td>\n",
       "      <td>NaN</td>\n",
       "      <td>NaN</td>\n",
       "      <td>55.60000</td>\n",
       "      <td>NaN</td>\n",
       "      <td>NaN</td>\n",
       "      <td>0.037</td>\n",
       "      <td>NaN</td>\n",
       "      <td>NaN</td>\n",
       "    </tr>\n",
       "    <tr>\n",
       "      <th>180272</th>\n",
       "      <td>2023-02-01</td>\n",
       "      <td>TAJ</td>\n",
       "      <td>Black Country Healthcare NHS Foundation Trust</td>\n",
       "      <td>Y60</td>\n",
       "      <td>Midlands</td>\n",
       "      <td>Mental Health</td>\n",
       "      <td>Mental Health and Learning Disability</td>\n",
       "      <td>Support to ST&amp;T staff</td>\n",
       "      <td>437.0</td>\n",
       "      <td>6.0</td>\n",
       "      <td>4.0</td>\n",
       "      <td>402.21200</td>\n",
       "      <td>5.02667</td>\n",
       "      <td>3.66667</td>\n",
       "      <td>0.051</td>\n",
       "      <td>NaN</td>\n",
       "      <td>NaN</td>\n",
       "    </tr>\n",
       "    <tr>\n",
       "      <th>180273</th>\n",
       "      <td>2023-02-01</td>\n",
       "      <td>TAJ</td>\n",
       "      <td>Black Country Healthcare NHS Foundation Trust</td>\n",
       "      <td>Y60</td>\n",
       "      <td>Midlands</td>\n",
       "      <td>Mental Health</td>\n",
       "      <td>Mental Health and Learning Disability</td>\n",
       "      <td>Support to ST&amp;T staff</td>\n",
       "      <td>437.0</td>\n",
       "      <td>6.0</td>\n",
       "      <td>4.0</td>\n",
       "      <td>402.21200</td>\n",
       "      <td>5.02667</td>\n",
       "      <td>3.66667</td>\n",
       "      <td>0.037</td>\n",
       "      <td>NaN</td>\n",
       "      <td>NaN</td>\n",
       "    </tr>\n",
       "    <tr>\n",
       "      <th>180274</th>\n",
       "      <td>2023-02-01</td>\n",
       "      <td>TAJ</td>\n",
       "      <td>Black Country Healthcare NHS Foundation Trust</td>\n",
       "      <td>Y60</td>\n",
       "      <td>Midlands</td>\n",
       "      <td>Mental Health</td>\n",
       "      <td>Mental Health and Learning Disability</td>\n",
       "      <td>Support to doctors, nurses &amp; midwives</td>\n",
       "      <td>999.0</td>\n",
       "      <td>26.0</td>\n",
       "      <td>7.0</td>\n",
       "      <td>871.02637</td>\n",
       "      <td>21.38106</td>\n",
       "      <td>6.03333</td>\n",
       "      <td>0.051</td>\n",
       "      <td>NaN</td>\n",
       "      <td>NaN</td>\n",
       "    </tr>\n",
       "    <tr>\n",
       "      <th>180275</th>\n",
       "      <td>2023-02-01</td>\n",
       "      <td>TAJ</td>\n",
       "      <td>Black Country Healthcare NHS Foundation Trust</td>\n",
       "      <td>Y60</td>\n",
       "      <td>Midlands</td>\n",
       "      <td>Mental Health</td>\n",
       "      <td>Mental Health and Learning Disability</td>\n",
       "      <td>Support to doctors, nurses &amp; midwives</td>\n",
       "      <td>999.0</td>\n",
       "      <td>26.0</td>\n",
       "      <td>7.0</td>\n",
       "      <td>871.02637</td>\n",
       "      <td>21.38106</td>\n",
       "      <td>6.03333</td>\n",
       "      <td>0.037</td>\n",
       "      <td>NaN</td>\n",
       "      <td>NaN</td>\n",
       "    </tr>\n",
       "  </tbody>\n",
       "</table>\n",
       "</div>"
      ],
      "text/plain": [
       "             Date Org code                                       Org name  \\\n",
       "180271 2023-02-01      TAJ  Black Country Healthcare NHS Foundation Trust   \n",
       "180272 2023-02-01      TAJ  Black Country Healthcare NHS Foundation Trust   \n",
       "180273 2023-02-01      TAJ  Black Country Healthcare NHS Foundation Trust   \n",
       "180274 2023-02-01      TAJ  Black Country Healthcare NHS Foundation Trust   \n",
       "180275 2023-02-01      TAJ  Black Country Healthcare NHS Foundation Trust   \n",
       "\n",
       "       NHSE region code NHSE region name  Cluster group  \\\n",
       "180271              Y60         Midlands  Mental Health   \n",
       "180272              Y60         Midlands  Mental Health   \n",
       "180273              Y60         Midlands  Mental Health   \n",
       "180274              Y60         Midlands  Mental Health   \n",
       "180275              Y60         Midlands  Mental Health   \n",
       "\n",
       "                              Benchmark group  \\\n",
       "180271  Mental Health and Learning Disability   \n",
       "180272  Mental Health and Learning Disability   \n",
       "180273  Mental Health and Learning Disability   \n",
       "180274  Mental Health and Learning Disability   \n",
       "180275  Mental Health and Learning Disability   \n",
       "\n",
       "                                  Staff group  HC_Denoms  HC_Joiners  \\\n",
       "180271                        Senior managers       56.0         NaN   \n",
       "180272                  Support to ST&T staff      437.0         6.0   \n",
       "180273                  Support to ST&T staff      437.0         6.0   \n",
       "180274  Support to doctors, nurses & midwives      999.0        26.0   \n",
       "180275  Support to doctors, nurses & midwives      999.0        26.0   \n",
       "\n",
       "        HC_Leavers  FTE_Denoms  FTE_Joiners  FTE_Leavers  local_unemployment  \\\n",
       "180271         NaN    55.60000          NaN          NaN               0.037   \n",
       "180272         4.0   402.21200      5.02667      3.66667               0.051   \n",
       "180273         4.0   402.21200      5.02667      3.66667               0.037   \n",
       "180274         7.0   871.02637     21.38106      6.03333               0.051   \n",
       "180275         7.0   871.02637     21.38106      6.03333               0.037   \n",
       "\n",
       "        FTE days lost  FTE days available  \n",
       "180271            NaN                 NaN  \n",
       "180272            NaN                 NaN  \n",
       "180273            NaN                 NaN  \n",
       "180274            NaN                 NaN  \n",
       "180275            NaN                 NaN  "
      ]
     },
     "execution_count": 11,
     "metadata": {},
     "output_type": "execute_result"
    }
   ],
   "source": [
    "df_leaver_r2.tail()"
   ]
  },
  {
   "attachments": {},
   "cell_type": "markdown",
   "metadata": {},
   "source": [
    "Create a staff group level dataframe - specify which staff group you want from list below in variable staff_group"
   ]
  },
  {
   "cell_type": "code",
   "execution_count": 12,
   "metadata": {},
   "outputs": [
    {
     "data": {
      "text/plain": [
       "['All staff groups',\n",
       " 'Ambulance staff',\n",
       " 'Central functions',\n",
       " 'HCHS doctors (exc. junior Drs)',\n",
       " 'Hotel, property & estates',\n",
       " 'Managers',\n",
       " 'Midwives',\n",
       " 'Nurses & health visitors',\n",
       " 'Other staff or those with unknown classification',\n",
       " 'Scientific, therapeutic & technical staff',\n",
       " 'Senior managers',\n",
       " 'Support to ST&T staff',\n",
       " 'Support to ambulance staff',\n",
       " 'Support to doctors, nurses & midwives']"
      ]
     },
     "execution_count": 12,
     "metadata": {},
     "output_type": "execute_result"
    }
   ],
   "source": [
    "sorted(df_leaver_r2['Staff group'].unique())"
   ]
  },
  {
   "cell_type": "code",
   "execution_count": 13,
   "metadata": {},
   "outputs": [
    {
     "name": "stdout",
     "output_type": "stream",
     "text": [
      "<class 'pandas.core.frame.DataFrame'>\n",
      "Index: 15157 entries, 6 to 180267\n",
      "Data columns (total 19 columns):\n",
      " #   Column                 Non-Null Count  Dtype         \n",
      "---  ------                 --------------  -----         \n",
      " 0   Date                   15157 non-null  datetime64[ns]\n",
      " 1   Org code               15157 non-null  object        \n",
      " 2   Org name               15157 non-null  object        \n",
      " 3   NHSE region code       15157 non-null  object        \n",
      " 4   NHSE region name       15157 non-null  object        \n",
      " 5   Cluster group          15157 non-null  object        \n",
      " 6   Benchmark group        15157 non-null  object        \n",
      " 7   Staff group            15157 non-null  object        \n",
      " 8   HC_Denoms              15138 non-null  float64       \n",
      " 9   HC_Joiners             14501 non-null  float64       \n",
      " 10  HC_Leavers             14541 non-null  float64       \n",
      " 11  FTE_Denoms             15138 non-null  float64       \n",
      " 12  FTE_Joiners            14501 non-null  float64       \n",
      " 13  FTE_Leavers            14541 non-null  float64       \n",
      " 14  local_unemployment     15157 non-null  float64       \n",
      " 15  FTE days lost          12628 non-null  float64       \n",
      " 16  FTE days available     12628 non-null  float64       \n",
      " 17  sickness_absence_rate  12628 non-null  float64       \n",
      " 18  leaver_rate            14522 non-null  float64       \n",
      "dtypes: datetime64[ns](1), float64(11), object(7)\n",
      "memory usage: 2.3+ MB\n"
     ]
    }
   ],
   "source": [
    "staff_group = 'Nurses & health visitors'\n",
    "df_sg = df_leaver_r2[df_leaver_r2['Staff group'] == staff_group].copy()\n",
    "\n",
    "df_sg['sickness_absence_rate'] = df_sg['FTE days lost']/df_sg['FTE days available']\n",
    "df_sg['leaver_rate'] = df_sg['FTE_Leavers']/df_sg['FTE_Denoms']\n",
    "\n",
    "df_sg.info()"
   ]
  },
  {
   "cell_type": "code",
   "execution_count": 14,
   "metadata": {},
   "outputs": [
    {
     "data": {
      "text/html": [
       "<div>\n",
       "<style scoped>\n",
       "    .dataframe tbody tr th:only-of-type {\n",
       "        vertical-align: middle;\n",
       "    }\n",
       "\n",
       "    .dataframe tbody tr th {\n",
       "        vertical-align: top;\n",
       "    }\n",
       "\n",
       "    .dataframe thead th {\n",
       "        text-align: right;\n",
       "    }\n",
       "</style>\n",
       "<table border=\"1\" class=\"dataframe\">\n",
       "  <thead>\n",
       "    <tr style=\"text-align: right;\">\n",
       "      <th></th>\n",
       "      <th>Date</th>\n",
       "      <th>Org code</th>\n",
       "      <th>Org name</th>\n",
       "      <th>NHSE region code</th>\n",
       "      <th>NHSE region name</th>\n",
       "      <th>Cluster group</th>\n",
       "      <th>Benchmark group</th>\n",
       "      <th>Staff group</th>\n",
       "      <th>HC_Denoms</th>\n",
       "      <th>HC_Joiners</th>\n",
       "      <th>HC_Leavers</th>\n",
       "      <th>FTE_Denoms</th>\n",
       "      <th>FTE_Joiners</th>\n",
       "      <th>FTE_Leavers</th>\n",
       "      <th>local_unemployment</th>\n",
       "      <th>FTE days lost</th>\n",
       "      <th>FTE days available</th>\n",
       "      <th>sickness_absence_rate</th>\n",
       "      <th>leaver_rate</th>\n",
       "    </tr>\n",
       "  </thead>\n",
       "  <tbody>\n",
       "    <tr>\n",
       "      <th>6</th>\n",
       "      <td>2018-07-01</td>\n",
       "      <td>R0A</td>\n",
       "      <td>Manchester University NHS Foundation Trust</td>\n",
       "      <td>Y62</td>\n",
       "      <td>North West</td>\n",
       "      <td>Acute</td>\n",
       "      <td>Acute - Teaching</td>\n",
       "      <td>Nurses &amp; health visitors</td>\n",
       "      <td>6200.0</td>\n",
       "      <td>NaN</td>\n",
       "      <td>NaN</td>\n",
       "      <td>5594.45451</td>\n",
       "      <td>NaN</td>\n",
       "      <td>NaN</td>\n",
       "      <td>0.043</td>\n",
       "      <td>7720.57851</td>\n",
       "      <td>174601.19070</td>\n",
       "      <td>0.044218</td>\n",
       "      <td>0.0</td>\n",
       "    </tr>\n",
       "    <tr>\n",
       "      <th>24</th>\n",
       "      <td>2018-07-01</td>\n",
       "      <td>R1A</td>\n",
       "      <td>Herefordshire and Worcestershire Health and Ca...</td>\n",
       "      <td>Y60</td>\n",
       "      <td>Midlands</td>\n",
       "      <td>Community Provider Trust</td>\n",
       "      <td>Community Provider Trust</td>\n",
       "      <td>Nurses &amp; health visitors</td>\n",
       "      <td>1185.0</td>\n",
       "      <td>NaN</td>\n",
       "      <td>NaN</td>\n",
       "      <td>1016.13304</td>\n",
       "      <td>NaN</td>\n",
       "      <td>NaN</td>\n",
       "      <td>0.049</td>\n",
       "      <td>1409.23965</td>\n",
       "      <td>31672.88560</td>\n",
       "      <td>0.044494</td>\n",
       "      <td>0.0</td>\n",
       "    </tr>\n",
       "    <tr>\n",
       "      <th>25</th>\n",
       "      <td>2018-07-01</td>\n",
       "      <td>R1A</td>\n",
       "      <td>Herefordshire and Worcestershire Health and Ca...</td>\n",
       "      <td>Y60</td>\n",
       "      <td>Midlands</td>\n",
       "      <td>Community Provider Trust</td>\n",
       "      <td>Community Provider Trust</td>\n",
       "      <td>Nurses &amp; health visitors</td>\n",
       "      <td>1185.0</td>\n",
       "      <td>NaN</td>\n",
       "      <td>NaN</td>\n",
       "      <td>1016.13304</td>\n",
       "      <td>NaN</td>\n",
       "      <td>NaN</td>\n",
       "      <td>0.045</td>\n",
       "      <td>1409.23965</td>\n",
       "      <td>31672.88560</td>\n",
       "      <td>0.044494</td>\n",
       "      <td>0.0</td>\n",
       "    </tr>\n",
       "    <tr>\n",
       "      <th>41</th>\n",
       "      <td>2018-07-01</td>\n",
       "      <td>R1C</td>\n",
       "      <td>Solent NHS Trust</td>\n",
       "      <td>Y59</td>\n",
       "      <td>South East</td>\n",
       "      <td>Community Provider Trust</td>\n",
       "      <td>Community Provider Trust</td>\n",
       "      <td>Nurses &amp; health visitors</td>\n",
       "      <td>911.0</td>\n",
       "      <td>NaN</td>\n",
       "      <td>NaN</td>\n",
       "      <td>766.35227</td>\n",
       "      <td>NaN</td>\n",
       "      <td>NaN</td>\n",
       "      <td>0.038</td>\n",
       "      <td>1203.80204</td>\n",
       "      <td>24088.32367</td>\n",
       "      <td>0.049975</td>\n",
       "      <td>0.0</td>\n",
       "    </tr>\n",
       "    <tr>\n",
       "      <th>57</th>\n",
       "      <td>2018-07-01</td>\n",
       "      <td>R1D</td>\n",
       "      <td>Shropshire Community Health NHS Trust</td>\n",
       "      <td>Y60</td>\n",
       "      <td>Midlands</td>\n",
       "      <td>Community Provider Trust</td>\n",
       "      <td>Community Provider Trust</td>\n",
       "      <td>Nurses &amp; health visitors</td>\n",
       "      <td>573.0</td>\n",
       "      <td>NaN</td>\n",
       "      <td>NaN</td>\n",
       "      <td>476.71546</td>\n",
       "      <td>NaN</td>\n",
       "      <td>NaN</td>\n",
       "      <td>0.049</td>\n",
       "      <td>774.95555</td>\n",
       "      <td>14814.41883</td>\n",
       "      <td>0.052311</td>\n",
       "      <td>0.0</td>\n",
       "    </tr>\n",
       "  </tbody>\n",
       "</table>\n",
       "</div>"
      ],
      "text/plain": [
       "         Date Org code                                           Org name  \\\n",
       "6  2018-07-01      R0A         Manchester University NHS Foundation Trust   \n",
       "24 2018-07-01      R1A  Herefordshire and Worcestershire Health and Ca...   \n",
       "25 2018-07-01      R1A  Herefordshire and Worcestershire Health and Ca...   \n",
       "41 2018-07-01      R1C                                   Solent NHS Trust   \n",
       "57 2018-07-01      R1D              Shropshire Community Health NHS Trust   \n",
       "\n",
       "   NHSE region code NHSE region name             Cluster group  \\\n",
       "6               Y62       North West                     Acute   \n",
       "24              Y60         Midlands  Community Provider Trust   \n",
       "25              Y60         Midlands  Community Provider Trust   \n",
       "41              Y59       South East  Community Provider Trust   \n",
       "57              Y60         Midlands  Community Provider Trust   \n",
       "\n",
       "             Benchmark group               Staff group  HC_Denoms  HC_Joiners  \\\n",
       "6           Acute - Teaching  Nurses & health visitors     6200.0         NaN   \n",
       "24  Community Provider Trust  Nurses & health visitors     1185.0         NaN   \n",
       "25  Community Provider Trust  Nurses & health visitors     1185.0         NaN   \n",
       "41  Community Provider Trust  Nurses & health visitors      911.0         NaN   \n",
       "57  Community Provider Trust  Nurses & health visitors      573.0         NaN   \n",
       "\n",
       "    HC_Leavers  FTE_Denoms  FTE_Joiners  FTE_Leavers  local_unemployment  \\\n",
       "6          NaN  5594.45451          NaN          NaN               0.043   \n",
       "24         NaN  1016.13304          NaN          NaN               0.049   \n",
       "25         NaN  1016.13304          NaN          NaN               0.045   \n",
       "41         NaN   766.35227          NaN          NaN               0.038   \n",
       "57         NaN   476.71546          NaN          NaN               0.049   \n",
       "\n",
       "    FTE days lost  FTE days available  sickness_absence_rate  leaver_rate  \n",
       "6      7720.57851        174601.19070               0.044218          0.0  \n",
       "24     1409.23965         31672.88560               0.044494          0.0  \n",
       "25     1409.23965         31672.88560               0.044494          0.0  \n",
       "41     1203.80204         24088.32367               0.049975          0.0  \n",
       "57      774.95555         14814.41883               0.052311          0.0  "
      ]
     },
     "execution_count": 14,
     "metadata": {},
     "output_type": "execute_result"
    }
   ],
   "source": [
    "# List of columns to replace NaN values with 0\n",
    "cols = ['sickness_absence_rate', 'leaver_rate']\n",
    "\n",
    "# Replace NaN values with 0 in the specified columns\n",
    "df_sg[cols] = df_sg[cols].fillna(0)\n",
    "\n",
    "df_sg.reset_index(drop=True)\n",
    "df_sg.head()"
   ]
  },
  {
   "attachments": {},
   "cell_type": "markdown",
   "metadata": {},
   "source": [
    "Explore independent and dependent variables"
   ]
  },
  {
   "cell_type": "code",
   "execution_count": 15,
   "metadata": {},
   "outputs": [
    {
     "data": {
      "image/png": "[encoded data removed]",
      "text/plain": [
       "<Figure size 640x480 with 2 Axes>"
      ]
     },
     "metadata": {},
     "output_type": "display_data"
    }
   ],
   "source": [
    "correlation_matrix = df_sg[['leaver_rate', 'sickness_absence_rate', 'local_unemployment']].corr()\n",
    "# Create correlation matrix heatmap using Seaborn\n",
    "sns.heatmap(correlation_matrix, annot=True, cmap='coolwarm', vmin=-1, vmax=1)\n",
    "plt.title('Correlation Matrix')\n",
    "plt.show()"
   ]
  },
  {
   "attachments": {},
   "cell_type": "markdown",
   "metadata": {},
   "source": [
    "(Optional) Create dummy variables for categorical independent variables"
   ]
  },
  {
   "cell_type": "code",
   "execution_count": 16,
   "metadata": {},
   "outputs": [],
   "source": [
    "#df_with_dummies = pd.get_dummies(df_leaver, columns=ivs_cat, drop_first=True)\n",
    "#df_with_dummies.head()"
   ]
  },
  {
   "attachments": {},
   "cell_type": "markdown",
   "metadata": {},
   "source": [
    "Specify the dependent variable (dv) and independent variables (ivs). All other fields to be dropped. "
   ]
  },
  {
   "cell_type": "code",
   "execution_count": 17,
   "metadata": {},
   "outputs": [],
   "source": [
    "dv = 'leaver_rate'\n",
    "ivs = ['local_unemployment','sickness_absence_rate']\n",
    "to_drop = ['Date','Org code','Org name','NHSE region name','NHSE region code','Cluster group','Benchmark group',\n",
    "           'Staff group', 'FTE_Denoms', 'FTE_Leavers', 'FTE_Joiners','HC_Denoms','HC_Leavers','HC_Joiners','FTE days lost','FTE days available', dv]"
   ]
  },
  {
   "attachments": {},
   "cell_type": "markdown",
   "metadata": {},
   "source": [
    "Define the design matrix (X) and the dependent variable (y)\n"
   ]
  },
  {
   "cell_type": "code",
   "execution_count": 18,
   "metadata": {},
   "outputs": [
    {
     "data": {
      "text/plain": [
       "6     0.0\n",
       "24    0.0\n",
       "25    0.0\n",
       "41    0.0\n",
       "57    0.0\n",
       "Name: leaver_rate, dtype: float64"
      ]
     },
     "execution_count": 18,
     "metadata": {},
     "output_type": "execute_result"
    }
   ],
   "source": [
    "df_sg.reset_index(drop = True)\n",
    "X = df_sg.drop(to_drop, axis=1)\n",
    "y = df_sg[dv]\n",
    "\n",
    "#y = y.dropna()\n",
    "\n",
    "y.head()\n"
   ]
  },
  {
   "cell_type": "code",
   "execution_count": 19,
   "metadata": {},
   "outputs": [
    {
     "data": {
      "text/html": [
       "<div>\n",
       "<style scoped>\n",
       "    .dataframe tbody tr th:only-of-type {\n",
       "        vertical-align: middle;\n",
       "    }\n",
       "\n",
       "    .dataframe tbody tr th {\n",
       "        vertical-align: top;\n",
       "    }\n",
       "\n",
       "    .dataframe thead th {\n",
       "        text-align: right;\n",
       "    }\n",
       "</style>\n",
       "<table border=\"1\" class=\"dataframe\">\n",
       "  <thead>\n",
       "    <tr style=\"text-align: right;\">\n",
       "      <th></th>\n",
       "      <th>const</th>\n",
       "      <th>local_unemployment</th>\n",
       "      <th>sickness_absence_rate</th>\n",
       "    </tr>\n",
       "  </thead>\n",
       "  <tbody>\n",
       "    <tr>\n",
       "      <th>180230</th>\n",
       "      <td>1.0</td>\n",
       "      <td>0.039</td>\n",
       "      <td>0.0</td>\n",
       "    </tr>\n",
       "    <tr>\n",
       "      <th>180241</th>\n",
       "      <td>1.0</td>\n",
       "      <td>0.047</td>\n",
       "      <td>0.0</td>\n",
       "    </tr>\n",
       "    <tr>\n",
       "      <th>180251</th>\n",
       "      <td>1.0</td>\n",
       "      <td>0.039</td>\n",
       "      <td>0.0</td>\n",
       "    </tr>\n",
       "    <tr>\n",
       "      <th>180266</th>\n",
       "      <td>1.0</td>\n",
       "      <td>0.051</td>\n",
       "      <td>0.0</td>\n",
       "    </tr>\n",
       "    <tr>\n",
       "      <th>180267</th>\n",
       "      <td>1.0</td>\n",
       "      <td>0.037</td>\n",
       "      <td>0.0</td>\n",
       "    </tr>\n",
       "  </tbody>\n",
       "</table>\n",
       "</div>"
      ],
      "text/plain": [
       "        const  local_unemployment  sickness_absence_rate\n",
       "180230    1.0               0.039                    0.0\n",
       "180241    1.0               0.047                    0.0\n",
       "180251    1.0               0.039                    0.0\n",
       "180266    1.0               0.051                    0.0\n",
       "180267    1.0               0.037                    0.0"
      ]
     },
     "execution_count": 19,
     "metadata": {},
     "output_type": "execute_result"
    }
   ],
   "source": [
    "#X = X.dropna()\n",
    "\n",
    "# Add a constant column to the design matrix\n",
    "X = sm.add_constant(X)\n",
    "\n",
    "X.tail()\n",
    "\n",
    "# Convert True/False categories to integer 0/1\n",
    "#bool_columns = X.select_dtypes(include='bool').columns\n",
    "#X[bool_columns] = X[bool_columns].astype(int)\n"
   ]
  },
  {
   "cell_type": "code",
   "execution_count": 20,
   "metadata": {},
   "outputs": [
    {
     "name": "stdout",
     "output_type": "stream",
     "text": [
      "                            OLS Regression Results                            \n",
      "==============================================================================\n",
      "Dep. Variable:            leaver_rate   R-squared:                       0.002\n",
      "Model:                            OLS   Adj. R-squared:                  0.002\n",
      "Method:                 Least Squares   F-statistic:                     17.37\n",
      "Date:                Thu, 13 Jul 2023   Prob (F-statistic):           2.91e-08\n",
      "Time:                        14:42:47   Log-Likelihood:                 44052.\n",
      "No. Observations:               15157   AIC:                        -8.810e+04\n",
      "Df Residuals:                   15154   BIC:                        -8.808e+04\n",
      "Df Model:                           2                                         \n",
      "Covariance Type:            nonrobust                                         \n",
      "=========================================================================================\n",
      "                            coef    std err          t      P>|t|      [0.025      0.975]\n",
      "-----------------------------------------------------------------------------------------\n",
      "const                     0.0116      0.001     22.408      0.000       0.011       0.013\n",
      "local_unemployment       -0.0064      0.012     -0.544      0.586      -0.030       0.017\n",
      "sickness_absence_rate     0.0252      0.004      5.875      0.000       0.017       0.034\n",
      "==============================================================================\n",
      "Omnibus:                    37049.006   Durbin-Watson:                   1.736\n",
      "Prob(Omnibus):                  0.000   Jarque-Bera (JB):        801357414.540\n",
      "Skew:                          25.634   Prob(JB):                         0.00\n",
      "Kurtosis:                    1128.283   Cond. No.                         111.\n",
      "==============================================================================\n",
      "\n",
      "Notes:\n",
      "[1] Standard Errors assume that the covariance matrix of the errors is correctly specified.\n"
     ]
    }
   ],
   "source": [
    "# Fit the regression model\n",
    "model = sm.OLS(y, X)\n",
    "results = model.fit()\n",
    "\n",
    "# Print the regression results\n",
    "print(results.summary())"
   ]
  },
  {
   "cell_type": "code",
   "execution_count": 21,
   "metadata": {},
   "outputs": [
    {
     "name": "stdout",
     "output_type": "stream",
     "text": [
      "=========================================================================================\n",
      "                            coef    std err          t      P>|t|      [0.025      0.975]\n",
      "-----------------------------------------------------------------------------------------\n",
      "const                     0.0116      0.001     22.408      0.000       0.011       0.013\n",
      "local_unemployment       -0.0064      0.012     -0.544      0.586      -0.030       0.017\n",
      "sickness_absence_rate     0.0252      0.004      5.875      0.000       0.017       0.034\n",
      "=========================================================================================\n"
     ]
    }
   ],
   "source": [
    "\n",
    "# Get the summary of the regression results\n",
    "summary = results.summary()\n",
    "\n",
    "# # Convert the summary table to a pandas DataFrame\n",
    "# summary_df = pd.read_html(summary.tables[1].as_html(), header=0, index_col=0)[0]\n",
    "\n",
    "# # Format the coefficients and p-values\n",
    "# summary_df['coef'] = summary_df['coef'].map('{:.4f}'.format)\n",
    "# summary_df['P>|t|'] = summary_df['P>|t|'].map('{:.4f}'.format)\n",
    "\n",
    "# Print the formatted summary table\n",
    "print(summary.tables[1])"
   ]
  },
  {
   "cell_type": "code",
   "execution_count": null,
   "metadata": {},
   "outputs": [],
   "source": []
  },
  {
   "attachments": {},
   "cell_type": "markdown",
   "metadata": {},
   "source": [
    "This model uses region and type of provider to try and predict NHS staff leaver FTE. The R squared is 0.054, meaning the factors in the model only explain 5.4% of the variation in the data. A lower adjusted R squared than R squared would tell us that some of the model's factors are not contibuting - this is not the case here. \n",
    "All variables contribute significantly except being in the Midlands region, NE and Yorkshire, North West or South West.  \n",
    "The strongest predictors are CCG"
   ]
  }
 ],
 "metadata": {
  "kernelspec": {
   "display_name": "Python 3.9.0 64-bit",
   "language": "python",
   "name": "python3"
  },
  "language_info": {
   "codemirror_mode": {
    "name": "ipython",
    "version": 3
   },
   "file_extension": ".py",
   "mimetype": "text/x-python",
   "name": "python",
   "nbconvert_exporter": "python",
   "pygments_lexer": "ipython3",
   "version": "3.9.0"
  },
  "orig_nbformat": 4,
  "vscode": {
   "interpreter": {
    "hash": "4fbfea1dd5a17f80dff8df3ba641602c59e31ce1a55b82aea18e6894ff3c71a7"
   }
  }
 },
 "nbformat": 4,
 "nbformat_minor": 2
}
