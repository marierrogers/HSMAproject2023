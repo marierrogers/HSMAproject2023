{
 "cells": [
  {
   "cell_type": "code",
   "execution_count": 51,
   "metadata": {},
   "outputs": [],
   "source": [
    "import pandas as pd\n",
    "import os, re\n",
    "import json\n",
    "import ast\n",
    "import matplotlib.pyplot as plt\n",
    "from datetime import datetime\n",
    "import seaborn as sns\n"
   ]
  },
  {
   "cell_type": "code",
   "execution_count": 52,
   "metadata": {},
   "outputs": [
    {
     "data": {
      "text/plain": [
       "['Annual turnover from organisation benchmarking source data, March 2023.csv',\n",
       " 'graph_check_inactiveremoved1.png',\n",
       " 'graph_check_noinactiveremoved.png',\n",
       " 'inactive_organisations.txt',\n",
       " 'Monthly turnover from organisation benchmarking source data, March 2023.csv',\n",
       " 'turnover.zip']"
      ]
     },
     "execution_count": 52,
     "metadata": {},
     "output_type": "execute_result"
    }
   ],
   "source": [
    "os.listdir(\"./tempdir\")"
   ]
  },
  {
   "cell_type": "code",
   "execution_count": 53,
   "metadata": {},
   "outputs": [],
   "source": [
    "annual_csv = [f for f in os.listdir('./tempdir') if re.match(r\"(?i)^annual\", f)]\n",
    "monthly_csv = [f for f in os.listdir('./tempdir') if re.match(r\"(?i)^monthly\", f)]"
   ]
  },
  {
   "cell_type": "code",
   "execution_count": 54,
   "metadata": {},
   "outputs": [
    {
     "data": {
      "text/plain": [
       "['Annual turnover from organisation benchmarking source data, March 2023.csv']"
      ]
     },
     "execution_count": 54,
     "metadata": {},
     "output_type": "execute_result"
    }
   ],
   "source": [
    "annual_csv"
   ]
  },
  {
   "cell_type": "code",
   "execution_count": 55,
   "metadata": {},
   "outputs": [
    {
     "data": {
      "text/plain": [
       "['Monthly turnover from organisation benchmarking source data, March 2023.csv']"
      ]
     },
     "execution_count": 55,
     "metadata": {},
     "output_type": "execute_result"
    }
   ],
   "source": [
    "monthly_csv"
   ]
  },
  {
   "cell_type": "code",
   "execution_count": 56,
   "metadata": {},
   "outputs": [],
   "source": [
    "with open('./tempdir/inactive_organisations.txt', 'r') as file:\n",
    "    # Read the contents of the file\n",
    "    data = json.load(file)\n",
    "    js_df = converted_dict = {row['org_id']: row['name'] for row in data}\n",
    "\n",
    "file.close()\n"
   ]
  },
  {
   "cell_type": "code",
   "execution_count": 57,
   "metadata": {},
   "outputs": [],
   "source": [
    "annual_df = pd.read_csv(f\"./tempdir/{annual_csv[0]}\")\n",
    "monthly_df = pd.read_csv(f\"./tempdir/{monthly_csv[0]}\")"
   ]
  },
  {
   "cell_type": "code",
   "execution_count": 58,
   "metadata": {},
   "outputs": [
    {
     "data": {
      "text/html": [
       "<div>\n",
       "<style scoped>\n",
       "    .dataframe tbody tr th:only-of-type {\n",
       "        vertical-align: middle;\n",
       "    }\n",
       "\n",
       "    .dataframe tbody tr th {\n",
       "        vertical-align: top;\n",
       "    }\n",
       "\n",
       "    .dataframe thead th {\n",
       "        text-align: right;\n",
       "    }\n",
       "</style>\n",
       "<table border=\"1\" class=\"dataframe\">\n",
       "  <thead>\n",
       "    <tr style=\"text-align: right;\">\n",
       "      <th></th>\n",
       "      <th>Period</th>\n",
       "      <th>Type</th>\n",
       "      <th>Org code</th>\n",
       "      <th>Org name</th>\n",
       "      <th>NHSE region code</th>\n",
       "      <th>NHSE region name</th>\n",
       "      <th>ICS code</th>\n",
       "      <th>ICS name</th>\n",
       "      <th>Cluster group</th>\n",
       "      <th>Benchmark group</th>\n",
       "      <th>Staff group</th>\n",
       "      <th>HC</th>\n",
       "      <th>FTE</th>\n",
       "    </tr>\n",
       "  </thead>\n",
       "  <tbody>\n",
       "    <tr>\n",
       "      <th>0</th>\n",
       "      <td>31/01/2022</td>\n",
       "      <td>Denoms</td>\n",
       "      <td>00Q</td>\n",
       "      <td>NHS Blackburn with Darwen CCG</td>\n",
       "      <td>Y62</td>\n",
       "      <td>North West</td>\n",
       "      <td>QE1</td>\n",
       "      <td>Lancashire and South Cumbria</td>\n",
       "      <td>Clinical Commissioning Group</td>\n",
       "      <td>Clinical Commissioning Group</td>\n",
       "      <td>Nurses &amp; health visitors</td>\n",
       "      <td>4</td>\n",
       "      <td>3.10000</td>\n",
       "    </tr>\n",
       "    <tr>\n",
       "      <th>1</th>\n",
       "      <td>31/01/2022</td>\n",
       "      <td>Denoms</td>\n",
       "      <td>00Q</td>\n",
       "      <td>NHS Blackburn with Darwen CCG</td>\n",
       "      <td>Y62</td>\n",
       "      <td>North West</td>\n",
       "      <td>QE1</td>\n",
       "      <td>Lancashire and South Cumbria</td>\n",
       "      <td>Clinical Commissioning Group</td>\n",
       "      <td>Clinical Commissioning Group</td>\n",
       "      <td>Scientific, therapeutic &amp; technical staff</td>\n",
       "      <td>6</td>\n",
       "      <td>5.33334</td>\n",
       "    </tr>\n",
       "    <tr>\n",
       "      <th>2</th>\n",
       "      <td>31/01/2022</td>\n",
       "      <td>Denoms</td>\n",
       "      <td>00Q</td>\n",
       "      <td>NHS Blackburn with Darwen CCG</td>\n",
       "      <td>Y62</td>\n",
       "      <td>North West</td>\n",
       "      <td>QE1</td>\n",
       "      <td>Lancashire and South Cumbria</td>\n",
       "      <td>Clinical Commissioning Group</td>\n",
       "      <td>Clinical Commissioning Group</td>\n",
       "      <td>Senior managers</td>\n",
       "      <td>11</td>\n",
       "      <td>7.07254</td>\n",
       "    </tr>\n",
       "    <tr>\n",
       "      <th>3</th>\n",
       "      <td>31/01/2022</td>\n",
       "      <td>Denoms</td>\n",
       "      <td>00R</td>\n",
       "      <td>NHS Blackpool CCG</td>\n",
       "      <td>Y62</td>\n",
       "      <td>North West</td>\n",
       "      <td>QE1</td>\n",
       "      <td>Lancashire and South Cumbria</td>\n",
       "      <td>Clinical Commissioning Group</td>\n",
       "      <td>Clinical Commissioning Group</td>\n",
       "      <td>Managers</td>\n",
       "      <td>24</td>\n",
       "      <td>22.18000</td>\n",
       "    </tr>\n",
       "    <tr>\n",
       "      <th>4</th>\n",
       "      <td>31/01/2022</td>\n",
       "      <td>Denoms</td>\n",
       "      <td>00T</td>\n",
       "      <td>NHS Bolton CCG</td>\n",
       "      <td>Y62</td>\n",
       "      <td>North West</td>\n",
       "      <td>QOP</td>\n",
       "      <td>Greater Manchester</td>\n",
       "      <td>Clinical Commissioning Group</td>\n",
       "      <td>Clinical Commissioning Group</td>\n",
       "      <td>Nurses &amp; health visitors</td>\n",
       "      <td>16</td>\n",
       "      <td>14.55333</td>\n",
       "    </tr>\n",
       "  </tbody>\n",
       "</table>\n",
       "</div>"
      ],
      "text/plain": [
       "       Period    Type Org code                       Org name  \\\n",
       "0  31/01/2022  Denoms      00Q  NHS Blackburn with Darwen CCG   \n",
       "1  31/01/2022  Denoms      00Q  NHS Blackburn with Darwen CCG   \n",
       "2  31/01/2022  Denoms      00Q  NHS Blackburn with Darwen CCG   \n",
       "3  31/01/2022  Denoms      00R              NHS Blackpool CCG   \n",
       "4  31/01/2022  Denoms      00T                 NHS Bolton CCG   \n",
       "\n",
       "  NHSE region code NHSE region name ICS code                      ICS name  \\\n",
       "0              Y62       North West      QE1  Lancashire and South Cumbria   \n",
       "1              Y62       North West      QE1  Lancashire and South Cumbria   \n",
       "2              Y62       North West      QE1  Lancashire and South Cumbria   \n",
       "3              Y62       North West      QE1  Lancashire and South Cumbria   \n",
       "4              Y62       North West      QOP            Greater Manchester   \n",
       "\n",
       "                  Cluster group               Benchmark group  \\\n",
       "0  Clinical Commissioning Group  Clinical Commissioning Group   \n",
       "1  Clinical Commissioning Group  Clinical Commissioning Group   \n",
       "2  Clinical Commissioning Group  Clinical Commissioning Group   \n",
       "3  Clinical Commissioning Group  Clinical Commissioning Group   \n",
       "4  Clinical Commissioning Group  Clinical Commissioning Group   \n",
       "\n",
       "                                 Staff group  HC       FTE  \n",
       "0                   Nurses & health visitors   4   3.10000  \n",
       "1  Scientific, therapeutic & technical staff   6   5.33334  \n",
       "2                            Senior managers  11   7.07254  \n",
       "3                                   Managers  24  22.18000  \n",
       "4                   Nurses & health visitors  16  14.55333  "
      ]
     },
     "execution_count": 58,
     "metadata": {},
     "output_type": "execute_result"
    }
   ],
   "source": [
    "annual_df.head()"
   ]
  },
  {
   "cell_type": "code",
   "execution_count": 59,
   "metadata": {},
   "outputs": [
    {
     "data": {
      "text/html": [
       "<div>\n",
       "<style scoped>\n",
       "    .dataframe tbody tr th:only-of-type {\n",
       "        vertical-align: middle;\n",
       "    }\n",
       "\n",
       "    .dataframe tbody tr th {\n",
       "        vertical-align: top;\n",
       "    }\n",
       "\n",
       "    .dataframe thead th {\n",
       "        text-align: right;\n",
       "    }\n",
       "</style>\n",
       "<table border=\"1\" class=\"dataframe\">\n",
       "  <thead>\n",
       "    <tr style=\"text-align: right;\">\n",
       "      <th></th>\n",
       "      <th>Period</th>\n",
       "      <th>Type</th>\n",
       "      <th>Org code</th>\n",
       "      <th>Org name</th>\n",
       "      <th>NHSE region code</th>\n",
       "      <th>NHSE region name</th>\n",
       "      <th>ICS code</th>\n",
       "      <th>ICS name</th>\n",
       "      <th>Cluster group</th>\n",
       "      <th>Benchmark group</th>\n",
       "      <th>Staff group</th>\n",
       "      <th>HC</th>\n",
       "      <th>FTE</th>\n",
       "    </tr>\n",
       "  </thead>\n",
       "  <tbody>\n",
       "    <tr>\n",
       "      <th>0</th>\n",
       "      <td>202112 to 202201</td>\n",
       "      <td>Leavers</td>\n",
       "      <td>RXX</td>\n",
       "      <td>Surrey and Borders Partnership NHS Foundation ...</td>\n",
       "      <td>Y59</td>\n",
       "      <td>South East</td>\n",
       "      <td>QXU</td>\n",
       "      <td>Surrey Heartlands</td>\n",
       "      <td>Mental Health</td>\n",
       "      <td>Mental Health and Learning Disability</td>\n",
       "      <td>All staff groups</td>\n",
       "      <td>46</td>\n",
       "      <td>41.09334</td>\n",
       "    </tr>\n",
       "    <tr>\n",
       "      <th>1</th>\n",
       "      <td>202112 to 202201</td>\n",
       "      <td>Leavers</td>\n",
       "      <td>RJ2</td>\n",
       "      <td>Lewisham and Greenwich NHS Trust</td>\n",
       "      <td>Y56</td>\n",
       "      <td>London</td>\n",
       "      <td>QKK</td>\n",
       "      <td>South East London</td>\n",
       "      <td>Acute</td>\n",
       "      <td>Acute - Large</td>\n",
       "      <td>All staff groups</td>\n",
       "      <td>112</td>\n",
       "      <td>101.00739</td>\n",
       "    </tr>\n",
       "    <tr>\n",
       "      <th>2</th>\n",
       "      <td>202112 to 202201</td>\n",
       "      <td>Leavers</td>\n",
       "      <td>RDR</td>\n",
       "      <td>Sussex Community NHS Foundation Trust</td>\n",
       "      <td>Y59</td>\n",
       "      <td>South East</td>\n",
       "      <td>QNX</td>\n",
       "      <td>Sussex</td>\n",
       "      <td>Community Provider Trust</td>\n",
       "      <td>Community Provider Trust</td>\n",
       "      <td>All staff groups</td>\n",
       "      <td>86</td>\n",
       "      <td>67.40329</td>\n",
       "    </tr>\n",
       "    <tr>\n",
       "      <th>3</th>\n",
       "      <td>202112 to 202201</td>\n",
       "      <td>Leavers</td>\n",
       "      <td>26A</td>\n",
       "      <td>NHS Norfolk and Waveney CCG</td>\n",
       "      <td>Y61</td>\n",
       "      <td>East of England</td>\n",
       "      <td>QMM</td>\n",
       "      <td>Norfolk and Waveney</td>\n",
       "      <td>Clinical Commissioning Group</td>\n",
       "      <td>Clinical Commissioning Group</td>\n",
       "      <td>All staff groups</td>\n",
       "      <td>9</td>\n",
       "      <td>8.20000</td>\n",
       "    </tr>\n",
       "    <tr>\n",
       "      <th>4</th>\n",
       "      <td>202112 to 202201</td>\n",
       "      <td>Leavers</td>\n",
       "      <td>RWX</td>\n",
       "      <td>Berkshire Healthcare NHS Foundation Trust</td>\n",
       "      <td>Y59</td>\n",
       "      <td>South East</td>\n",
       "      <td>QNQ</td>\n",
       "      <td>Frimley</td>\n",
       "      <td>Mental Health</td>\n",
       "      <td>Mental Health and Learning Disability</td>\n",
       "      <td>All staff groups</td>\n",
       "      <td>73</td>\n",
       "      <td>60.87147</td>\n",
       "    </tr>\n",
       "  </tbody>\n",
       "</table>\n",
       "</div>"
      ],
      "text/plain": [
       "             Period     Type Org code  \\\n",
       "0  202112 to 202201  Leavers      RXX   \n",
       "1  202112 to 202201  Leavers      RJ2   \n",
       "2  202112 to 202201  Leavers      RDR   \n",
       "3  202112 to 202201  Leavers      26A   \n",
       "4  202112 to 202201  Leavers      RWX   \n",
       "\n",
       "                                            Org name NHSE region code  \\\n",
       "0  Surrey and Borders Partnership NHS Foundation ...              Y59   \n",
       "1                   Lewisham and Greenwich NHS Trust              Y56   \n",
       "2              Sussex Community NHS Foundation Trust              Y59   \n",
       "3                        NHS Norfolk and Waveney CCG              Y61   \n",
       "4          Berkshire Healthcare NHS Foundation Trust              Y59   \n",
       "\n",
       "  NHSE region name ICS code             ICS name  \\\n",
       "0       South East      QXU    Surrey Heartlands   \n",
       "1           London      QKK    South East London   \n",
       "2       South East      QNX               Sussex   \n",
       "3  East of England      QMM  Norfolk and Waveney   \n",
       "4       South East      QNQ              Frimley   \n",
       "\n",
       "                  Cluster group                        Benchmark group  \\\n",
       "0                 Mental Health  Mental Health and Learning Disability   \n",
       "1                         Acute                          Acute - Large   \n",
       "2      Community Provider Trust               Community Provider Trust   \n",
       "3  Clinical Commissioning Group           Clinical Commissioning Group   \n",
       "4                 Mental Health  Mental Health and Learning Disability   \n",
       "\n",
       "        Staff group   HC        FTE  \n",
       "0  All staff groups   46   41.09334  \n",
       "1  All staff groups  112  101.00739  \n",
       "2  All staff groups   86   67.40329  \n",
       "3  All staff groups    9    8.20000  \n",
       "4  All staff groups   73   60.87147  "
      ]
     },
     "execution_count": 59,
     "metadata": {},
     "output_type": "execute_result"
    }
   ],
   "source": [
    "monthly_df.head()"
   ]
  },
  {
   "cell_type": "markdown",
   "metadata": {},
   "source": [
    "Inactive organisations load"
   ]
  },
  {
   "cell_type": "code",
   "execution_count": 60,
   "metadata": {},
   "outputs": [],
   "source": [
    "from urllib.request import urlopen\n",
    "  \n",
    "# import json\n",
    "import json\n",
    "# store the URL in url as \n",
    "# parameter for urlopen\n",
    "url = \"https://directory.spineservices.nhs.uk/ORD/2-0-0/organisations?Status=Inactive&Roles=RO197,RO98&Limit=1000\"\n",
    "  \n",
    "# store the response of URL\n",
    "response = urlopen(url)\n",
    "  \n",
    "# storing the JSON response \n",
    "# from url in data\n",
    "data_json = json.loads(response.read())\n",
    "  \n",
    "# print the json response\n",
    "#print(data_json)"
   ]
  },
  {
   "cell_type": "code",
   "execution_count": 61,
   "metadata": {},
   "outputs": [],
   "source": [
    "inactive_orgs = []\n",
    "\n",
    "for q in data_json['Organisations']:\n",
    "    inactive_orgs.append({\n",
    "        \"name\": q['Name'],\n",
    "        \"org_code\" : q['OrgId']\n",
    "    })\n",
    "\n",
    "inactive_orgs = pd.DataFrame(inactive_orgs)\n"
   ]
  },
  {
   "cell_type": "code",
   "execution_count": 62,
   "metadata": {},
   "outputs": [],
   "source": [
    "def process_turnover_df(df, inactive_orgs):\n",
    "    df1 = pd.DataFrame(df)\n",
    "    \n",
    "    # df1['date_string'] = df1['Period'].apply(lambda x: x.split(' to ')[-1]+'01' if x.endswith(('Leavers', 'Joiners')) else ('01/'+x[3:10] if x.startswith('Denoms') else None))\n",
    "    #df1['thedate'] = pd.to_datetime(datetime.now())\n",
    "\n",
    "    #changed so that the leavers and joiners date is the \"to\" date, rather than the \"from\" date:\n",
    "    df1['thedate'] = df1.apply(lambda x: datetime.strptime(x['Period'].split(' to ')[1]+'01', '%Y%m%d') \n",
    "                               if x['Type'] in ('Leavers', 'Joiners') else (datetime.strptime('01/'+x['Period'][3:10], '%d/%m/%Y') \n",
    "                                                                            if x['Type'] == 'Denoms' else None), axis = 1) \n",
    "    \n",
    "    df2 = df1.groupby(['Org code','NHSE region name','Benchmark group', 'Staff group', 'thedate']).apply(lambda x: \n",
    "        pd.Series({\n",
    "        'n': x.shape[0],\n",
    "        'join_HC': x.loc[x['Type'].str.contains('Joiners'), 'HC'].values[0] if any(x['Type'] == 'Joiners') else None,\n",
    "        'join_FTE': x.loc[x['Type'] == 'Joiners', 'FTE'].values[0] if any(x['Type'] == 'Joiners') else None,\n",
    "        'leave_HC': x.loc[x['Type'] == 'Leavers', 'HC'].values[0] if any(x['Type'] == 'Leavers') else None,\n",
    "        'leave_FTE': x.loc[x['Type'] == 'Leavers', 'FTE'].values[0] if any(x['Type'] == 'Leavers') else None,\n",
    "        'denom_HC': x.loc[x['Type'] == 'Denoms', 'HC'].values[0] if any(x['Type'] == 'Denoms') else None,\n",
    "        'denom_FTE': x.loc[x['Type'] == 'Denoms', 'FTE'].values[0] if any(x['Type'] == 'Denoms') else None,\n",
    "    })).reset_index().rename(columns={\n",
    "        'Org code': 'org_code',\n",
    "        'Staff group': 'staff_group',\n",
    "        'thedate': 'month_year',\n",
    "        'NHSE region name':'region_name',\n",
    "        'Benchmark group':'org_type'\n",
    "    }).drop_duplicates()\n",
    "\n",
    "    # Drop CCGs and ICBs\n",
    "    df3 = df2[~df2['org_type'].isin(['Clinical Commissioning Group','Integrated Care Board'])]\n",
    "\n",
    "    # Merge inactive dataframe\n",
    "    df4 = pd.merge(df3, inactive_orgs, on='org_code', how='left')\n",
    "\n",
    "    # Filter out inactive organizations\n",
    "    df4 = df4[~df4['name'].notna()].copy()\n",
    "    df4.drop(columns='name', inplace=True)\n",
    "\n",
    "    return df4\n"
   ]
  },
  {
   "cell_type": "code",
   "execution_count": 63,
   "metadata": {},
   "outputs": [
    {
     "data": {
      "text/plain": [
       "181008"
      ]
     },
     "execution_count": 63,
     "metadata": {},
     "output_type": "execute_result"
    }
   ],
   "source": [
    "# ~ 10 min runtime\n",
    "processed_annual_df = process_turnover_df(annual_df, inactive_orgs) \n",
    "processed_annual_df.shape[0]"
   ]
  },
  {
   "cell_type": "code",
   "execution_count": 64,
   "metadata": {},
   "outputs": [
    {
     "data": {
      "text/html": [
       "<div>\n",
       "<style scoped>\n",
       "    .dataframe tbody tr th:only-of-type {\n",
       "        vertical-align: middle;\n",
       "    }\n",
       "\n",
       "    .dataframe tbody tr th {\n",
       "        vertical-align: top;\n",
       "    }\n",
       "\n",
       "    .dataframe thead th {\n",
       "        text-align: right;\n",
       "    }\n",
       "</style>\n",
       "<table border=\"1\" class=\"dataframe\">\n",
       "  <thead>\n",
       "    <tr style=\"text-align: right;\">\n",
       "      <th></th>\n",
       "      <th>org_code</th>\n",
       "      <th>region_name</th>\n",
       "      <th>org_type</th>\n",
       "      <th>staff_group</th>\n",
       "      <th>month_year</th>\n",
       "      <th>n</th>\n",
       "      <th>join_HC</th>\n",
       "      <th>join_FTE</th>\n",
       "      <th>leave_HC</th>\n",
       "      <th>leave_FTE</th>\n",
       "      <th>denom_HC</th>\n",
       "      <th>denom_FTE</th>\n",
       "    </tr>\n",
       "  </thead>\n",
       "  <tbody>\n",
       "    <tr>\n",
       "      <th>0</th>\n",
       "      <td>R0A</td>\n",
       "      <td>North West</td>\n",
       "      <td>Acute - Teaching</td>\n",
       "      <td>All staff groups</td>\n",
       "      <td>2017-10-01</td>\n",
       "      <td>1.0</td>\n",
       "      <td>NaN</td>\n",
       "      <td>NaN</td>\n",
       "      <td>NaN</td>\n",
       "      <td>NaN</td>\n",
       "      <td>19130.0</td>\n",
       "      <td>17095.95832</td>\n",
       "    </tr>\n",
       "    <tr>\n",
       "      <th>1</th>\n",
       "      <td>R0A</td>\n",
       "      <td>North West</td>\n",
       "      <td>Acute - Teaching</td>\n",
       "      <td>All staff groups</td>\n",
       "      <td>2017-11-01</td>\n",
       "      <td>1.0</td>\n",
       "      <td>NaN</td>\n",
       "      <td>NaN</td>\n",
       "      <td>NaN</td>\n",
       "      <td>NaN</td>\n",
       "      <td>19211.0</td>\n",
       "      <td>17171.25859</td>\n",
       "    </tr>\n",
       "    <tr>\n",
       "      <th>2</th>\n",
       "      <td>R0A</td>\n",
       "      <td>North West</td>\n",
       "      <td>Acute - Teaching</td>\n",
       "      <td>All staff groups</td>\n",
       "      <td>2017-12-01</td>\n",
       "      <td>1.0</td>\n",
       "      <td>NaN</td>\n",
       "      <td>NaN</td>\n",
       "      <td>NaN</td>\n",
       "      <td>NaN</td>\n",
       "      <td>19214.0</td>\n",
       "      <td>17170.86679</td>\n",
       "    </tr>\n",
       "    <tr>\n",
       "      <th>3</th>\n",
       "      <td>R0A</td>\n",
       "      <td>North West</td>\n",
       "      <td>Acute - Teaching</td>\n",
       "      <td>All staff groups</td>\n",
       "      <td>2018-01-01</td>\n",
       "      <td>1.0</td>\n",
       "      <td>NaN</td>\n",
       "      <td>NaN</td>\n",
       "      <td>NaN</td>\n",
       "      <td>NaN</td>\n",
       "      <td>19295.0</td>\n",
       "      <td>17240.69400</td>\n",
       "    </tr>\n",
       "    <tr>\n",
       "      <th>4</th>\n",
       "      <td>R0A</td>\n",
       "      <td>North West</td>\n",
       "      <td>Acute - Teaching</td>\n",
       "      <td>All staff groups</td>\n",
       "      <td>2018-02-01</td>\n",
       "      <td>1.0</td>\n",
       "      <td>NaN</td>\n",
       "      <td>NaN</td>\n",
       "      <td>NaN</td>\n",
       "      <td>NaN</td>\n",
       "      <td>19326.0</td>\n",
       "      <td>17271.63829</td>\n",
       "    </tr>\n",
       "  </tbody>\n",
       "</table>\n",
       "</div>"
      ],
      "text/plain": [
       "  org_code region_name          org_type       staff_group month_year    n  \\\n",
       "0      R0A  North West  Acute - Teaching  All staff groups 2017-10-01  1.0   \n",
       "1      R0A  North West  Acute - Teaching  All staff groups 2017-11-01  1.0   \n",
       "2      R0A  North West  Acute - Teaching  All staff groups 2017-12-01  1.0   \n",
       "3      R0A  North West  Acute - Teaching  All staff groups 2018-01-01  1.0   \n",
       "4      R0A  North West  Acute - Teaching  All staff groups 2018-02-01  1.0   \n",
       "\n",
       "   join_HC  join_FTE  leave_HC  leave_FTE  denom_HC    denom_FTE  \n",
       "0      NaN       NaN       NaN        NaN   19130.0  17095.95832  \n",
       "1      NaN       NaN       NaN        NaN   19211.0  17171.25859  \n",
       "2      NaN       NaN       NaN        NaN   19214.0  17170.86679  \n",
       "3      NaN       NaN       NaN        NaN   19295.0  17240.69400  \n",
       "4      NaN       NaN       NaN        NaN   19326.0  17271.63829  "
      ]
     },
     "execution_count": 64,
     "metadata": {},
     "output_type": "execute_result"
    }
   ],
   "source": [
    "processed_annual_df.head()\n"
   ]
  },
  {
   "cell_type": "code",
   "execution_count": 65,
   "metadata": {},
   "outputs": [
    {
     "data": {
      "text/html": [
       "<div>\n",
       "<style scoped>\n",
       "    .dataframe tbody tr th:only-of-type {\n",
       "        vertical-align: middle;\n",
       "    }\n",
       "\n",
       "    .dataframe tbody tr th {\n",
       "        vertical-align: top;\n",
       "    }\n",
       "\n",
       "    .dataframe thead th {\n",
       "        text-align: right;\n",
       "    }\n",
       "</style>\n",
       "<table border=\"1\" class=\"dataframe\">\n",
       "  <thead>\n",
       "    <tr style=\"text-align: right;\">\n",
       "      <th></th>\n",
       "      <th>org_code</th>\n",
       "      <th>region_name</th>\n",
       "      <th>org_type</th>\n",
       "      <th>staff_group</th>\n",
       "      <th>month_year</th>\n",
       "      <th>n</th>\n",
       "      <th>join_HC</th>\n",
       "      <th>join_FTE</th>\n",
       "      <th>leave_HC</th>\n",
       "      <th>leave_FTE</th>\n",
       "      <th>denom_HC</th>\n",
       "      <th>denom_FTE</th>\n",
       "    </tr>\n",
       "  </thead>\n",
       "  <tbody>\n",
       "    <tr>\n",
       "      <th>65</th>\n",
       "      <td>R0A</td>\n",
       "      <td>North West</td>\n",
       "      <td>Acute - Teaching</td>\n",
       "      <td>All staff groups</td>\n",
       "      <td>2023-03-01</td>\n",
       "      <td>3.0</td>\n",
       "      <td>4196.0</td>\n",
       "      <td>3931.47910</td>\n",
       "      <td>3570.0</td>\n",
       "      <td>3151.02126</td>\n",
       "      <td>27457.0</td>\n",
       "      <td>24800.67919</td>\n",
       "    </tr>\n",
       "    <tr>\n",
       "      <th>169</th>\n",
       "      <td>R0A</td>\n",
       "      <td>North West</td>\n",
       "      <td>Acute - Teaching</td>\n",
       "      <td>Central functions</td>\n",
       "      <td>2023-03-01</td>\n",
       "      <td>3.0</td>\n",
       "      <td>411.0</td>\n",
       "      <td>389.09189</td>\n",
       "      <td>408.0</td>\n",
       "      <td>381.38077</td>\n",
       "      <td>2540.0</td>\n",
       "      <td>2356.71260</td>\n",
       "    </tr>\n",
       "    <tr>\n",
       "      <th>235</th>\n",
       "      <td>R0A</td>\n",
       "      <td>North West</td>\n",
       "      <td>Acute - Teaching</td>\n",
       "      <td>HCHS doctors (exc. junior Drs)</td>\n",
       "      <td>2023-03-01</td>\n",
       "      <td>3.0</td>\n",
       "      <td>138.0</td>\n",
       "      <td>109.50811</td>\n",
       "      <td>133.0</td>\n",
       "      <td>108.40969</td>\n",
       "      <td>1710.0</td>\n",
       "      <td>1559.80996</td>\n",
       "    </tr>\n",
       "    <tr>\n",
       "      <th>301</th>\n",
       "      <td>R0A</td>\n",
       "      <td>North West</td>\n",
       "      <td>Acute - Teaching</td>\n",
       "      <td>Hotel, property &amp; estates</td>\n",
       "      <td>2023-03-01</td>\n",
       "      <td>3.0</td>\n",
       "      <td>138.0</td>\n",
       "      <td>118.37331</td>\n",
       "      <td>91.0</td>\n",
       "      <td>75.33602</td>\n",
       "      <td>873.0</td>\n",
       "      <td>749.60139</td>\n",
       "    </tr>\n",
       "    <tr>\n",
       "      <th>367</th>\n",
       "      <td>R0A</td>\n",
       "      <td>North West</td>\n",
       "      <td>Acute - Teaching</td>\n",
       "      <td>Managers</td>\n",
       "      <td>2023-03-01</td>\n",
       "      <td>3.0</td>\n",
       "      <td>32.0</td>\n",
       "      <td>31.40000</td>\n",
       "      <td>24.0</td>\n",
       "      <td>23.58666</td>\n",
       "      <td>337.0</td>\n",
       "      <td>327.82668</td>\n",
       "    </tr>\n",
       "  </tbody>\n",
       "</table>\n",
       "</div>"
      ],
      "text/plain": [
       "    org_code region_name          org_type                     staff_group  \\\n",
       "65       R0A  North West  Acute - Teaching                All staff groups   \n",
       "169      R0A  North West  Acute - Teaching               Central functions   \n",
       "235      R0A  North West  Acute - Teaching  HCHS doctors (exc. junior Drs)   \n",
       "301      R0A  North West  Acute - Teaching       Hotel, property & estates   \n",
       "367      R0A  North West  Acute - Teaching                        Managers   \n",
       "\n",
       "    month_year    n  join_HC    join_FTE  leave_HC   leave_FTE  denom_HC  \\\n",
       "65  2023-03-01  3.0   4196.0  3931.47910    3570.0  3151.02126   27457.0   \n",
       "169 2023-03-01  3.0    411.0   389.09189     408.0   381.38077    2540.0   \n",
       "235 2023-03-01  3.0    138.0   109.50811     133.0   108.40969    1710.0   \n",
       "301 2023-03-01  3.0    138.0   118.37331      91.0    75.33602     873.0   \n",
       "367 2023-03-01  3.0     32.0    31.40000      24.0    23.58666     337.0   \n",
       "\n",
       "       denom_FTE  \n",
       "65   24800.67919  \n",
       "169   2356.71260  \n",
       "235   1559.80996  \n",
       "301    749.60139  \n",
       "367    327.82668  "
      ]
     },
     "execution_count": 65,
     "metadata": {},
     "output_type": "execute_result"
    }
   ],
   "source": [
    "# Look at one organisation to check data\n",
    "processed_annual_df.loc[processed_annual_df['org_code'] == 'R0A'].sort_values(by=['n', 'month_year'], ascending=False).head()"
   ]
  },
  {
   "cell_type": "code",
   "execution_count": 66,
   "metadata": {},
   "outputs": [],
   "source": [
    "#processed_annual_df['month_year'].unique()"
   ]
  },
  {
   "cell_type": "code",
   "execution_count": 67,
   "metadata": {},
   "outputs": [
    {
     "data": {
      "text/plain": [
       "147107"
      ]
     },
     "execution_count": 67,
     "metadata": {},
     "output_type": "execute_result"
    }
   ],
   "source": [
    "# ~10mins runtime\n",
    "processed_monthly_df = process_turnover_df(monthly_df,inactive_orgs) \n",
    "processed_monthly_df.shape[0]"
   ]
  },
  {
   "cell_type": "code",
   "execution_count": 68,
   "metadata": {},
   "outputs": [],
   "source": [
    "#processed_monthly_df.drop(columns='name', inplace=True)"
   ]
  },
  {
   "cell_type": "markdown",
   "metadata": {},
   "source": [
    "Convert date column to date type and add a year to be in line with other dataset styles"
   ]
  },
  {
   "cell_type": "code",
   "execution_count": 69,
   "metadata": {},
   "outputs": [],
   "source": [
    "#processed_monthly_df['month_year'] = pd.to_datetime(processed_monthly_df['month_year'])\n",
    "#processed_monthly_df['month_year'] = processed_monthly_df['month_year'] + pd.DateOffset(years=1)\n"
   ]
  },
  {
   "cell_type": "code",
   "execution_count": 70,
   "metadata": {},
   "outputs": [],
   "source": [
    "#processed_annual_df['month_year'] = pd.to_datetime(processed_annual_df['month_year'])\n",
    "#processed_annual_df['month_year'] = processed_annual_df['month_year'] + pd.DateOffset(years=1)"
   ]
  },
  {
   "cell_type": "code",
   "execution_count": 71,
   "metadata": {},
   "outputs": [],
   "source": [
    "test = processed_annual_df.groupby(['month_year','staff_group']).agg({'leave_FTE':'sum','denom_FTE':'sum'}).reset_index()\n",
    "org_sg = processed_annual_df.groupby(['month_year','staff_group','org_code']).agg({'leave_FTE':'sum','denom_FTE':'sum'}).reset_index()"
   ]
  },
  {
   "cell_type": "code",
   "execution_count": 72,
   "metadata": {},
   "outputs": [],
   "source": [
    "test['rate'] = test['leave_FTE']/test['denom_FTE']\n",
    "org_sg['rate'] = org_sg['leave_FTE']/org_sg['denom_FTE']"
   ]
  },
  {
   "cell_type": "code",
   "execution_count": 73,
   "metadata": {},
   "outputs": [],
   "source": [
    "test_sg =  test[test['staff_group'] == 'All staff groups']\n",
    "org_sg = org_sg[org_sg['staff_group'] == 'All staff groups']"
   ]
  },
  {
   "cell_type": "code",
   "execution_count": 74,
   "metadata": {},
   "outputs": [
    {
     "name": "stderr",
     "output_type": "stream",
     "text": [
      "C:\\Users\\MarieRogers\\AppData\\Local\\Temp\\ipykernel_20124\\3085347274.py:1: SettingWithCopyWarning: \n",
      "A value is trying to be set on a copy of a slice from a DataFrame.\n",
      "Try using .loc[row_indexer,col_indexer] = value instead\n",
      "\n",
      "See the caveats in the documentation: https://pandas.pydata.org/pandas-docs/stable/user_guide/indexing.html#returning-a-view-versus-a-copy\n",
      "  test_sg['month_year'] = pd.to_datetime(test_sg['month_year'])\n"
     ]
    }
   ],
   "source": [
    "test_sg['month_year'] = pd.to_datetime(test_sg['month_year'])\n",
    "\n",
    "test_sg = test_sg[test_sg['month_year'] <= '2023-02-01']"
   ]
  },
  {
   "cell_type": "code",
   "execution_count": 75,
   "metadata": {},
   "outputs": [],
   "source": [
    "start_date = pd.to_datetime('2019-04-01')\n",
    "end_date = pd.to_datetime('2023-03-01')\n",
    "\n",
    "org_sg['month_year'] = pd.to_datetime(org_sg['month_year'])\n",
    "\n",
    "org_sg = org_sg[(org_sg['month_year'] >= start_date) & (org_sg['month_year'] <= end_date)]"
   ]
  },
  {
   "cell_type": "code",
   "execution_count": 76,
   "metadata": {},
   "outputs": [
    {
     "data": {
      "image/png": "[encoded data removed]",
      "text/plain": [
       "<Figure size 1000x600 with 1 Axes>"
      ]
     },
     "metadata": {},
     "output_type": "display_data"
    }
   ],
   "source": [
    "sns.set()\n",
    "\n",
    "plt.figure(figsize=(10, 6))  \n",
    "sns.lineplot(data=org_sg, x='month_year', y='rate', hue='staff_group')\n",
    "plt.xlabel('Date')\n",
    "plt.ylabel('Rate')\n",
    "plt.title('Rate over Time by Staff Group')\n",
    "plt.legend(title='Staff Group', loc='best')  \n",
    "plt.xticks(rotation=45)  \n",
    "plt.show()"
   ]
  },
  {
   "cell_type": "code",
   "execution_count": 77,
   "metadata": {},
   "outputs": [],
   "source": [
    "processed_annual_df.to_csv('../processed_annual_turnover.csv', index=False)\n",
    "#processed_monthly_df.to_csv('./tempdir/processed_monthly_data.csv', index=False)"
   ]
  },
  {
   "cell_type": "code",
   "execution_count": 78,
   "metadata": {},
   "outputs": [],
   "source": [
    "processed_monthly_df.to_csv('../processed_monthly_turnover.csv', index=False)"
   ]
  },
  {
   "cell_type": "code",
   "execution_count": 79,
   "metadata": {},
   "outputs": [],
   "source": [
    "inactive_orgs.to_csv('../inactive_orgs.csv')"
   ]
  }
 ],
 "metadata": {
  "kernelspec": {
   "display_name": "Python 3",
   "language": "python",
   "name": "python3"
  },
  "language_info": {
   "codemirror_mode": {
    "name": "ipython",
    "version": 3
   },
   "file_extension": ".py",
   "mimetype": "text/x-python",
   "name": "python",
   "nbconvert_exporter": "python",
   "pygments_lexer": "ipython3",
   "version": "3.9.0"
  },
  "orig_nbformat": 4
 },
 "nbformat": 4,
 "nbformat_minor": 2
}
