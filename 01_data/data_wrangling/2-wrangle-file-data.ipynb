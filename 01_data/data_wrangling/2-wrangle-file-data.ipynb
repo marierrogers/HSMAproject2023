{
 "cells": [
  {
   "cell_type": "code",
   "execution_count": 3,
   "metadata": {},
   "outputs": [],
   "source": [
    "import pandas as pd\n",
    "import os, re\n",
    "import json\n",
    "import ast\n",
    "import matplotlib.pyplot as plt\n",
    "from datetime import datetime\n",
    "import seaborn as sns\n"
   ]
  },
  {
   "cell_type": "code",
   "execution_count": 4,
   "metadata": {},
   "outputs": [
    {
     "data": {
      "text/plain": [
       "['accessed_data.csv',\n",
       " 'Annual turnover from organisation benchmarking source data, February 2023.csv',\n",
       " 'inactive_organisations.txt',\n",
       " 'Monthly turnover from organisation benchmarking source data, February 2023.csv',\n",
       " 'processed_annual_data.csv',\n",
       " 'processed_monthly_data.csv',\n",
       " 'sickness_absence_reason_unprocessed.csv',\n",
       " 'turnover.zip']"
      ]
     },
     "execution_count": 4,
     "metadata": {},
     "output_type": "execute_result"
    }
   ],
   "source": [
    "os.listdir(\"./tempdir\")"
   ]
  },
  {
   "cell_type": "code",
   "execution_count": 5,
   "metadata": {},
   "outputs": [],
   "source": [
    "annual_csv = [f for f in os.listdir('./tempdir') if re.match(r\"(?i)^annual\", f)]\n",
    "monthly_csv = [f for f in os.listdir('./tempdir') if re.match(r\"(?i)^monthly\", f)]"
   ]
  },
  {
   "cell_type": "code",
   "execution_count": 6,
   "metadata": {},
   "outputs": [
    {
     "data": {
      "text/plain": [
       "['Annual turnover from organisation benchmarking source data, February 2023.csv']"
      ]
     },
     "execution_count": 6,
     "metadata": {},
     "output_type": "execute_result"
    }
   ],
   "source": [
    "annual_csv"
   ]
  },
  {
   "cell_type": "code",
   "execution_count": 7,
   "metadata": {},
   "outputs": [
    {
     "data": {
      "text/plain": [
       "['Monthly turnover from organisation benchmarking source data, February 2023.csv']"
      ]
     },
     "execution_count": 7,
     "metadata": {},
     "output_type": "execute_result"
    }
   ],
   "source": [
    "monthly_csv"
   ]
  },
  {
   "cell_type": "code",
   "execution_count": 8,
   "metadata": {},
   "outputs": [],
   "source": [
    "with open('./tempdir/inactive_organisations.txt', 'r') as file:\n",
    "    # Read the contents of the file\n",
    "    data = json.load(file)\n",
    "    js_df = converted_dict = {row['org_id']: row['name'] for row in data}\n",
    "\n",
    "file.close()\n"
   ]
  },
  {
   "cell_type": "code",
   "execution_count": 9,
   "metadata": {},
   "outputs": [],
   "source": [
    "annual_df = pd.read_csv(f\"./tempdir/{annual_csv[0]}\")\n",
    "monthly_df = pd.read_csv(f\"./tempdir/{monthly_csv[0]}\")"
   ]
  },
  {
   "cell_type": "code",
   "execution_count": 10,
   "metadata": {},
   "outputs": [
    {
     "data": {
      "text/html": [
       "<div>\n",
       "<style scoped>\n",
       "    .dataframe tbody tr th:only-of-type {\n",
       "        vertical-align: middle;\n",
       "    }\n",
       "\n",
       "    .dataframe tbody tr th {\n",
       "        vertical-align: top;\n",
       "    }\n",
       "\n",
       "    .dataframe thead th {\n",
       "        text-align: right;\n",
       "    }\n",
       "</style>\n",
       "<table border=\"1\" class=\"dataframe\">\n",
       "  <thead>\n",
       "    <tr style=\"text-align: right;\">\n",
       "      <th></th>\n",
       "      <th>Period</th>\n",
       "      <th>Type</th>\n",
       "      <th>Org code</th>\n",
       "      <th>Org name</th>\n",
       "      <th>NHSE region code</th>\n",
       "      <th>NHSE region name</th>\n",
       "      <th>ICS code</th>\n",
       "      <th>ICS name</th>\n",
       "      <th>Cluster group</th>\n",
       "      <th>Benchmark group</th>\n",
       "      <th>Staff group</th>\n",
       "      <th>HC</th>\n",
       "      <th>FTE</th>\n",
       "    </tr>\n",
       "  </thead>\n",
       "  <tbody>\n",
       "    <tr>\n",
       "      <th>0</th>\n",
       "      <td>31/01/2022</td>\n",
       "      <td>Denoms</td>\n",
       "      <td>00Q</td>\n",
       "      <td>NHS Blackburn with Darwen CCG</td>\n",
       "      <td>Y62</td>\n",
       "      <td>North West</td>\n",
       "      <td>QE1</td>\n",
       "      <td>Lancashire and South Cumbria</td>\n",
       "      <td>Clinical Commissioning Group</td>\n",
       "      <td>Clinical Commissioning Group</td>\n",
       "      <td>Nurses &amp; health visitors</td>\n",
       "      <td>4</td>\n",
       "      <td>3.10000</td>\n",
       "    </tr>\n",
       "    <tr>\n",
       "      <th>1</th>\n",
       "      <td>31/01/2022</td>\n",
       "      <td>Denoms</td>\n",
       "      <td>00Q</td>\n",
       "      <td>NHS Blackburn with Darwen CCG</td>\n",
       "      <td>Y62</td>\n",
       "      <td>North West</td>\n",
       "      <td>QE1</td>\n",
       "      <td>Lancashire and South Cumbria</td>\n",
       "      <td>Clinical Commissioning Group</td>\n",
       "      <td>Clinical Commissioning Group</td>\n",
       "      <td>Scientific, therapeutic &amp; technical staff</td>\n",
       "      <td>6</td>\n",
       "      <td>5.33334</td>\n",
       "    </tr>\n",
       "    <tr>\n",
       "      <th>2</th>\n",
       "      <td>31/01/2022</td>\n",
       "      <td>Denoms</td>\n",
       "      <td>00Q</td>\n",
       "      <td>NHS Blackburn with Darwen CCG</td>\n",
       "      <td>Y62</td>\n",
       "      <td>North West</td>\n",
       "      <td>QE1</td>\n",
       "      <td>Lancashire and South Cumbria</td>\n",
       "      <td>Clinical Commissioning Group</td>\n",
       "      <td>Clinical Commissioning Group</td>\n",
       "      <td>Senior managers</td>\n",
       "      <td>11</td>\n",
       "      <td>7.07254</td>\n",
       "    </tr>\n",
       "    <tr>\n",
       "      <th>3</th>\n",
       "      <td>31/01/2022</td>\n",
       "      <td>Denoms</td>\n",
       "      <td>00R</td>\n",
       "      <td>NHS Blackpool CCG</td>\n",
       "      <td>Y62</td>\n",
       "      <td>North West</td>\n",
       "      <td>QE1</td>\n",
       "      <td>Lancashire and South Cumbria</td>\n",
       "      <td>Clinical Commissioning Group</td>\n",
       "      <td>Clinical Commissioning Group</td>\n",
       "      <td>Managers</td>\n",
       "      <td>24</td>\n",
       "      <td>22.18000</td>\n",
       "    </tr>\n",
       "    <tr>\n",
       "      <th>4</th>\n",
       "      <td>31/01/2022</td>\n",
       "      <td>Denoms</td>\n",
       "      <td>00T</td>\n",
       "      <td>NHS Bolton CCG</td>\n",
       "      <td>Y62</td>\n",
       "      <td>North West</td>\n",
       "      <td>QOP</td>\n",
       "      <td>Greater Manchester</td>\n",
       "      <td>Clinical Commissioning Group</td>\n",
       "      <td>Clinical Commissioning Group</td>\n",
       "      <td>Nurses &amp; health visitors</td>\n",
       "      <td>16</td>\n",
       "      <td>14.55333</td>\n",
       "    </tr>\n",
       "  </tbody>\n",
       "</table>\n",
       "</div>"
      ],
      "text/plain": [
       "       Period    Type Org code                       Org name  \\\n",
       "0  31/01/2022  Denoms      00Q  NHS Blackburn with Darwen CCG   \n",
       "1  31/01/2022  Denoms      00Q  NHS Blackburn with Darwen CCG   \n",
       "2  31/01/2022  Denoms      00Q  NHS Blackburn with Darwen CCG   \n",
       "3  31/01/2022  Denoms      00R              NHS Blackpool CCG   \n",
       "4  31/01/2022  Denoms      00T                 NHS Bolton CCG   \n",
       "\n",
       "  NHSE region code NHSE region name ICS code                      ICS name  \\\n",
       "0              Y62       North West      QE1  Lancashire and South Cumbria   \n",
       "1              Y62       North West      QE1  Lancashire and South Cumbria   \n",
       "2              Y62       North West      QE1  Lancashire and South Cumbria   \n",
       "3              Y62       North West      QE1  Lancashire and South Cumbria   \n",
       "4              Y62       North West      QOP            Greater Manchester   \n",
       "\n",
       "                  Cluster group               Benchmark group  \\\n",
       "0  Clinical Commissioning Group  Clinical Commissioning Group   \n",
       "1  Clinical Commissioning Group  Clinical Commissioning Group   \n",
       "2  Clinical Commissioning Group  Clinical Commissioning Group   \n",
       "3  Clinical Commissioning Group  Clinical Commissioning Group   \n",
       "4  Clinical Commissioning Group  Clinical Commissioning Group   \n",
       "\n",
       "                                 Staff group  HC       FTE  \n",
       "0                   Nurses & health visitors   4   3.10000  \n",
       "1  Scientific, therapeutic & technical staff   6   5.33334  \n",
       "2                            Senior managers  11   7.07254  \n",
       "3                                   Managers  24  22.18000  \n",
       "4                   Nurses & health visitors  16  14.55333  "
      ]
     },
     "execution_count": 10,
     "metadata": {},
     "output_type": "execute_result"
    }
   ],
   "source": [
    "annual_df.head()"
   ]
  },
  {
   "cell_type": "code",
   "execution_count": 11,
   "metadata": {},
   "outputs": [
    {
     "data": {
      "text/html": [
       "<div>\n",
       "<style scoped>\n",
       "    .dataframe tbody tr th:only-of-type {\n",
       "        vertical-align: middle;\n",
       "    }\n",
       "\n",
       "    .dataframe tbody tr th {\n",
       "        vertical-align: top;\n",
       "    }\n",
       "\n",
       "    .dataframe thead th {\n",
       "        text-align: right;\n",
       "    }\n",
       "</style>\n",
       "<table border=\"1\" class=\"dataframe\">\n",
       "  <thead>\n",
       "    <tr style=\"text-align: right;\">\n",
       "      <th></th>\n",
       "      <th>Period</th>\n",
       "      <th>Type</th>\n",
       "      <th>Org code</th>\n",
       "      <th>Org name</th>\n",
       "      <th>NHSE region code</th>\n",
       "      <th>NHSE region name</th>\n",
       "      <th>ICS code</th>\n",
       "      <th>ICS name</th>\n",
       "      <th>Cluster group</th>\n",
       "      <th>Benchmark group</th>\n",
       "      <th>Staff group</th>\n",
       "      <th>HC</th>\n",
       "      <th>FTE</th>\n",
       "    </tr>\n",
       "  </thead>\n",
       "  <tbody>\n",
       "    <tr>\n",
       "      <th>0</th>\n",
       "      <td>202112 to 202201</td>\n",
       "      <td>Leavers</td>\n",
       "      <td>RXX</td>\n",
       "      <td>Surrey and Borders Partnership NHS Foundation ...</td>\n",
       "      <td>Y59</td>\n",
       "      <td>South East</td>\n",
       "      <td>QXU</td>\n",
       "      <td>Surrey Heartlands</td>\n",
       "      <td>Mental Health</td>\n",
       "      <td>Mental Health and Learning Disability</td>\n",
       "      <td>All staff groups</td>\n",
       "      <td>46</td>\n",
       "      <td>41.09334</td>\n",
       "    </tr>\n",
       "    <tr>\n",
       "      <th>1</th>\n",
       "      <td>202112 to 202201</td>\n",
       "      <td>Leavers</td>\n",
       "      <td>RJ2</td>\n",
       "      <td>Lewisham and Greenwich NHS Trust</td>\n",
       "      <td>Y56</td>\n",
       "      <td>London</td>\n",
       "      <td>QKK</td>\n",
       "      <td>South East London</td>\n",
       "      <td>Acute</td>\n",
       "      <td>Acute - Large</td>\n",
       "      <td>All staff groups</td>\n",
       "      <td>112</td>\n",
       "      <td>101.00739</td>\n",
       "    </tr>\n",
       "    <tr>\n",
       "      <th>2</th>\n",
       "      <td>202112 to 202201</td>\n",
       "      <td>Leavers</td>\n",
       "      <td>RDR</td>\n",
       "      <td>Sussex Community NHS Foundation Trust</td>\n",
       "      <td>Y59</td>\n",
       "      <td>South East</td>\n",
       "      <td>QNX</td>\n",
       "      <td>Sussex</td>\n",
       "      <td>Community Provider Trust</td>\n",
       "      <td>Community Provider Trust</td>\n",
       "      <td>All staff groups</td>\n",
       "      <td>86</td>\n",
       "      <td>67.40329</td>\n",
       "    </tr>\n",
       "    <tr>\n",
       "      <th>3</th>\n",
       "      <td>202112 to 202201</td>\n",
       "      <td>Leavers</td>\n",
       "      <td>26A</td>\n",
       "      <td>NHS Norfolk and Waveney CCG</td>\n",
       "      <td>Y61</td>\n",
       "      <td>East of England</td>\n",
       "      <td>QMM</td>\n",
       "      <td>Norfolk and Waveney</td>\n",
       "      <td>Clinical Commissioning Group</td>\n",
       "      <td>Clinical Commissioning Group</td>\n",
       "      <td>All staff groups</td>\n",
       "      <td>9</td>\n",
       "      <td>8.20000</td>\n",
       "    </tr>\n",
       "    <tr>\n",
       "      <th>4</th>\n",
       "      <td>202112 to 202201</td>\n",
       "      <td>Leavers</td>\n",
       "      <td>RWX</td>\n",
       "      <td>Berkshire Healthcare NHS Foundation Trust</td>\n",
       "      <td>Y59</td>\n",
       "      <td>South East</td>\n",
       "      <td>QNQ</td>\n",
       "      <td>Frimley</td>\n",
       "      <td>Mental Health</td>\n",
       "      <td>Mental Health and Learning Disability</td>\n",
       "      <td>All staff groups</td>\n",
       "      <td>73</td>\n",
       "      <td>60.87147</td>\n",
       "    </tr>\n",
       "  </tbody>\n",
       "</table>\n",
       "</div>"
      ],
      "text/plain": [
       "             Period     Type Org code  \\\n",
       "0  202112 to 202201  Leavers      RXX   \n",
       "1  202112 to 202201  Leavers      RJ2   \n",
       "2  202112 to 202201  Leavers      RDR   \n",
       "3  202112 to 202201  Leavers      26A   \n",
       "4  202112 to 202201  Leavers      RWX   \n",
       "\n",
       "                                            Org name NHSE region code  \\\n",
       "0  Surrey and Borders Partnership NHS Foundation ...              Y59   \n",
       "1                   Lewisham and Greenwich NHS Trust              Y56   \n",
       "2              Sussex Community NHS Foundation Trust              Y59   \n",
       "3                        NHS Norfolk and Waveney CCG              Y61   \n",
       "4          Berkshire Healthcare NHS Foundation Trust              Y59   \n",
       "\n",
       "  NHSE region name ICS code             ICS name  \\\n",
       "0       South East      QXU    Surrey Heartlands   \n",
       "1           London      QKK    South East London   \n",
       "2       South East      QNX               Sussex   \n",
       "3  East of England      QMM  Norfolk and Waveney   \n",
       "4       South East      QNQ              Frimley   \n",
       "\n",
       "                  Cluster group                        Benchmark group  \\\n",
       "0                 Mental Health  Mental Health and Learning Disability   \n",
       "1                         Acute                          Acute - Large   \n",
       "2      Community Provider Trust               Community Provider Trust   \n",
       "3  Clinical Commissioning Group           Clinical Commissioning Group   \n",
       "4                 Mental Health  Mental Health and Learning Disability   \n",
       "\n",
       "        Staff group   HC        FTE  \n",
       "0  All staff groups   46   41.09334  \n",
       "1  All staff groups  112  101.00739  \n",
       "2  All staff groups   86   67.40329  \n",
       "3  All staff groups    9    8.20000  \n",
       "4  All staff groups   73   60.87147  "
      ]
     },
     "execution_count": 11,
     "metadata": {},
     "output_type": "execute_result"
    }
   ],
   "source": [
    "monthly_df.head()"
   ]
  },
  {
   "cell_type": "code",
   "execution_count": 12,
   "metadata": {},
   "outputs": [],
   "source": [
    "def process_turnover_df(df):\n",
    "    df1 = pd.DataFrame(df)\n",
    "    \n",
    "    # df1['date_string'] = df1['Period'].apply(lambda x: x.split(' to ')[-1]+'01' if x.endswith(('Leavers', 'Joiners')) else ('01/'+x[3:10] if x.startswith('Denoms') else None))\n",
    "    #df1['thedate'] = pd.to_datetime(datetime.now())\n",
    "\n",
    "    df1['thedate'] = df1.apply(lambda x: datetime.strptime(x['Period'].split(' to ')[0]+'01', '%Y%m%d') \n",
    "                               if x['Type'] in ('Leavers', 'Joiners') else (datetime.strptime('01/'+x['Period'][3:10], '%d/%m/%Y') \n",
    "                                                                            if x['Type'] == 'Denoms' else None), axis = 1)   \n",
    "    \n",
    "    df2 = df1.groupby(['Org code','NHSE region name','Benchmark group', 'Staff group', 'thedate']).apply(lambda x: \n",
    "        pd.Series({\n",
    "        'n': x.shape[0],\n",
    "        'join_HC': x.loc[x['Type'].str.contains('Joiners'), 'HC'].values[0] if any(x['Type'] == 'Joiners') else None,\n",
    "        'join_FTE': x.loc[x['Type'] == 'Joiners', 'FTE'].values[0] if any(x['Type'] == 'Joiners') else None,\n",
    "        'leave_HC': x.loc[x['Type'] == 'Leavers', 'HC'].values[0] if any(x['Type'] == 'Leavers') else None,\n",
    "        'leave_FTE': x.loc[x['Type'] == 'Leavers', 'FTE'].values[0] if any(x['Type'] == 'Leavers') else None,\n",
    "        'denom_HC': x.loc[x['Type'] == 'Denoms', 'HC'].values[0] if any(x['Type'] == 'Denoms') else None,\n",
    "        'denom_FTE': x.loc[x['Type'] == 'Denoms', 'FTE'].values[0] if any(x['Type'] == 'Denoms') else None,\n",
    "    })).reset_index().rename(columns={\n",
    "        'Org code': 'org_code',\n",
    "        'Staff group': 'staff_group',\n",
    "        'thedate': 'month_year',\n",
    "        'NHSE region name':'region_name',\n",
    "        'Benchmark group':'org_type'\n",
    "    }).drop_duplicates()\n",
    "\n",
    "    # Drop CCGs and ICBs\n",
    "    df3 = df2[~df2['org_type'].isin(['Clinical Commissioning Group','Integrated Care Board'])]\n",
    "\n",
    "\n",
    "    return df3\n"
   ]
  },
  {
   "cell_type": "code",
   "execution_count": 13,
   "metadata": {},
   "outputs": [
    {
     "data": {
      "text/plain": [
       "177121"
      ]
     },
     "execution_count": 13,
     "metadata": {},
     "output_type": "execute_result"
    }
   ],
   "source": [
    "processed_annual_df = process_turnover_df(annual_df) \n",
    "processed_annual_df.shape[0]\n"
   ]
  },
  {
   "cell_type": "code",
   "execution_count": 14,
   "metadata": {},
   "outputs": [
    {
     "data": {
      "text/html": [
       "<div>\n",
       "<style scoped>\n",
       "    .dataframe tbody tr th:only-of-type {\n",
       "        vertical-align: middle;\n",
       "    }\n",
       "\n",
       "    .dataframe tbody tr th {\n",
       "        vertical-align: top;\n",
       "    }\n",
       "\n",
       "    .dataframe thead th {\n",
       "        text-align: right;\n",
       "    }\n",
       "</style>\n",
       "<table border=\"1\" class=\"dataframe\">\n",
       "  <thead>\n",
       "    <tr style=\"text-align: right;\">\n",
       "      <th></th>\n",
       "      <th>org_code</th>\n",
       "      <th>region_name</th>\n",
       "      <th>org_type</th>\n",
       "      <th>staff_group</th>\n",
       "      <th>month_year</th>\n",
       "      <th>n</th>\n",
       "      <th>join_HC</th>\n",
       "      <th>join_FTE</th>\n",
       "      <th>leave_HC</th>\n",
       "      <th>leave_FTE</th>\n",
       "      <th>denom_HC</th>\n",
       "      <th>denom_FTE</th>\n",
       "    </tr>\n",
       "  </thead>\n",
       "  <tbody>\n",
       "    <tr>\n",
       "      <th>68771</th>\n",
       "      <td>R0A</td>\n",
       "      <td>North West</td>\n",
       "      <td>Acute - Teaching</td>\n",
       "      <td>All staff groups</td>\n",
       "      <td>2017-08-01</td>\n",
       "      <td>1.0</td>\n",
       "      <td>19807.0</td>\n",
       "      <td>17688.67573</td>\n",
       "      <td>NaN</td>\n",
       "      <td>NaN</td>\n",
       "      <td>NaN</td>\n",
       "      <td>NaN</td>\n",
       "    </tr>\n",
       "    <tr>\n",
       "      <th>68772</th>\n",
       "      <td>R0A</td>\n",
       "      <td>North West</td>\n",
       "      <td>Acute - Teaching</td>\n",
       "      <td>All staff groups</td>\n",
       "      <td>2017-09-01</td>\n",
       "      <td>1.0</td>\n",
       "      <td>19929.0</td>\n",
       "      <td>17827.49574</td>\n",
       "      <td>NaN</td>\n",
       "      <td>NaN</td>\n",
       "      <td>NaN</td>\n",
       "      <td>NaN</td>\n",
       "    </tr>\n",
       "    <tr>\n",
       "      <th>68773</th>\n",
       "      <td>R0A</td>\n",
       "      <td>North West</td>\n",
       "      <td>Acute - Teaching</td>\n",
       "      <td>All staff groups</td>\n",
       "      <td>2017-10-01</td>\n",
       "      <td>3.0</td>\n",
       "      <td>3184.0</td>\n",
       "      <td>2970.05107</td>\n",
       "      <td>2229.0</td>\n",
       "      <td>1977.21981</td>\n",
       "      <td>19130.0</td>\n",
       "      <td>17095.95832</td>\n",
       "    </tr>\n",
       "    <tr>\n",
       "      <th>68774</th>\n",
       "      <td>R0A</td>\n",
       "      <td>North West</td>\n",
       "      <td>Acute - Teaching</td>\n",
       "      <td>All staff groups</td>\n",
       "      <td>2017-11-01</td>\n",
       "      <td>3.0</td>\n",
       "      <td>3217.0</td>\n",
       "      <td>2998.30542</td>\n",
       "      <td>2246.0</td>\n",
       "      <td>1993.80584</td>\n",
       "      <td>19211.0</td>\n",
       "      <td>17171.25859</td>\n",
       "    </tr>\n",
       "    <tr>\n",
       "      <th>68775</th>\n",
       "      <td>R0A</td>\n",
       "      <td>North West</td>\n",
       "      <td>Acute - Teaching</td>\n",
       "      <td>All staff groups</td>\n",
       "      <td>2017-12-01</td>\n",
       "      <td>3.0</td>\n",
       "      <td>3238.0</td>\n",
       "      <td>3027.06813</td>\n",
       "      <td>2256.0</td>\n",
       "      <td>2000.86500</td>\n",
       "      <td>19214.0</td>\n",
       "      <td>17170.86679</td>\n",
       "    </tr>\n",
       "  </tbody>\n",
       "</table>\n",
       "</div>"
      ],
      "text/plain": [
       "      org_code region_name          org_type       staff_group month_year  \\\n",
       "68771      R0A  North West  Acute - Teaching  All staff groups 2017-08-01   \n",
       "68772      R0A  North West  Acute - Teaching  All staff groups 2017-09-01   \n",
       "68773      R0A  North West  Acute - Teaching  All staff groups 2017-10-01   \n",
       "68774      R0A  North West  Acute - Teaching  All staff groups 2017-11-01   \n",
       "68775      R0A  North West  Acute - Teaching  All staff groups 2017-12-01   \n",
       "\n",
       "         n  join_HC     join_FTE  leave_HC   leave_FTE  denom_HC    denom_FTE  \n",
       "68771  1.0  19807.0  17688.67573       NaN         NaN       NaN          NaN  \n",
       "68772  1.0  19929.0  17827.49574       NaN         NaN       NaN          NaN  \n",
       "68773  3.0   3184.0   2970.05107    2229.0  1977.21981   19130.0  17095.95832  \n",
       "68774  3.0   3217.0   2998.30542    2246.0  1993.80584   19211.0  17171.25859  \n",
       "68775  3.0   3238.0   3027.06813    2256.0  2000.86500   19214.0  17170.86679  "
      ]
     },
     "execution_count": 14,
     "metadata": {},
     "output_type": "execute_result"
    }
   ],
   "source": [
    "processed_annual_df.head()\n"
   ]
  },
  {
   "cell_type": "code",
   "execution_count": 15,
   "metadata": {},
   "outputs": [
    {
     "data": {
      "text/html": [
       "<div>\n",
       "<style scoped>\n",
       "    .dataframe tbody tr th:only-of-type {\n",
       "        vertical-align: middle;\n",
       "    }\n",
       "\n",
       "    .dataframe tbody tr th {\n",
       "        vertical-align: top;\n",
       "    }\n",
       "\n",
       "    .dataframe thead th {\n",
       "        text-align: right;\n",
       "    }\n",
       "</style>\n",
       "<table border=\"1\" class=\"dataframe\">\n",
       "  <thead>\n",
       "    <tr style=\"text-align: right;\">\n",
       "      <th></th>\n",
       "      <th>org_code</th>\n",
       "      <th>region_name</th>\n",
       "      <th>org_type</th>\n",
       "      <th>staff_group</th>\n",
       "      <th>month_year</th>\n",
       "      <th>n</th>\n",
       "      <th>join_HC</th>\n",
       "      <th>join_FTE</th>\n",
       "      <th>leave_HC</th>\n",
       "      <th>leave_FTE</th>\n",
       "      <th>denom_HC</th>\n",
       "      <th>denom_FTE</th>\n",
       "    </tr>\n",
       "  </thead>\n",
       "  <tbody>\n",
       "    <tr>\n",
       "      <th>68825</th>\n",
       "      <td>R0A</td>\n",
       "      <td>North West</td>\n",
       "      <td>Acute - Teaching</td>\n",
       "      <td>All staff groups</td>\n",
       "      <td>2022-02-01</td>\n",
       "      <td>3.0</td>\n",
       "      <td>4230.0</td>\n",
       "      <td>3959.99032</td>\n",
       "      <td>3592.0</td>\n",
       "      <td>3170.66348</td>\n",
       "      <td>26738.0</td>\n",
       "      <td>24140.00946</td>\n",
       "    </tr>\n",
       "    <tr>\n",
       "      <th>68930</th>\n",
       "      <td>R0A</td>\n",
       "      <td>North West</td>\n",
       "      <td>Acute - Teaching</td>\n",
       "      <td>Central functions</td>\n",
       "      <td>2022-02-01</td>\n",
       "      <td>3.0</td>\n",
       "      <td>426.0</td>\n",
       "      <td>402.82256</td>\n",
       "      <td>404.0</td>\n",
       "      <td>378.56744</td>\n",
       "      <td>2341.0</td>\n",
       "      <td>2180.98659</td>\n",
       "    </tr>\n",
       "    <tr>\n",
       "      <th>68997</th>\n",
       "      <td>R0A</td>\n",
       "      <td>North West</td>\n",
       "      <td>Acute - Teaching</td>\n",
       "      <td>HCHS doctors (exc. junior Drs)</td>\n",
       "      <td>2022-02-01</td>\n",
       "      <td>3.0</td>\n",
       "      <td>140.0</td>\n",
       "      <td>112.95000</td>\n",
       "      <td>130.0</td>\n",
       "      <td>107.73136</td>\n",
       "      <td>1646.0</td>\n",
       "      <td>1512.03278</td>\n",
       "    </tr>\n",
       "    <tr>\n",
       "      <th>69064</th>\n",
       "      <td>R0A</td>\n",
       "      <td>North West</td>\n",
       "      <td>Acute - Teaching</td>\n",
       "      <td>Hotel, property &amp; estates</td>\n",
       "      <td>2022-02-01</td>\n",
       "      <td>3.0</td>\n",
       "      <td>146.0</td>\n",
       "      <td>126.02664</td>\n",
       "      <td>92.0</td>\n",
       "      <td>77.44668</td>\n",
       "      <td>850.0</td>\n",
       "      <td>729.22940</td>\n",
       "    </tr>\n",
       "    <tr>\n",
       "      <th>69131</th>\n",
       "      <td>R0A</td>\n",
       "      <td>North West</td>\n",
       "      <td>Acute - Teaching</td>\n",
       "      <td>Managers</td>\n",
       "      <td>2022-02-01</td>\n",
       "      <td>3.0</td>\n",
       "      <td>35.0</td>\n",
       "      <td>34.30000</td>\n",
       "      <td>20.0</td>\n",
       "      <td>19.58666</td>\n",
       "      <td>277.0</td>\n",
       "      <td>268.79601</td>\n",
       "    </tr>\n",
       "  </tbody>\n",
       "</table>\n",
       "</div>"
      ],
      "text/plain": [
       "      org_code region_name          org_type                     staff_group  \\\n",
       "68825      R0A  North West  Acute - Teaching                All staff groups   \n",
       "68930      R0A  North West  Acute - Teaching               Central functions   \n",
       "68997      R0A  North West  Acute - Teaching  HCHS doctors (exc. junior Drs)   \n",
       "69064      R0A  North West  Acute - Teaching       Hotel, property & estates   \n",
       "69131      R0A  North West  Acute - Teaching                        Managers   \n",
       "\n",
       "      month_year    n  join_HC    join_FTE  leave_HC   leave_FTE  denom_HC  \\\n",
       "68825 2022-02-01  3.0   4230.0  3959.99032    3592.0  3170.66348   26738.0   \n",
       "68930 2022-02-01  3.0    426.0   402.82256     404.0   378.56744    2341.0   \n",
       "68997 2022-02-01  3.0    140.0   112.95000     130.0   107.73136    1646.0   \n",
       "69064 2022-02-01  3.0    146.0   126.02664      92.0    77.44668     850.0   \n",
       "69131 2022-02-01  3.0     35.0    34.30000      20.0    19.58666     277.0   \n",
       "\n",
       "         denom_FTE  \n",
       "68825  24140.00946  \n",
       "68930   2180.98659  \n",
       "68997   1512.03278  \n",
       "69064    729.22940  \n",
       "69131    268.79601  "
      ]
     },
     "execution_count": 15,
     "metadata": {},
     "output_type": "execute_result"
    }
   ],
   "source": [
    "processed_annual_df.loc[processed_annual_df['org_code'] == 'R0A'].sort_values(by=['n', 'month_year'], ascending=False).head()"
   ]
  },
  {
   "cell_type": "code",
   "execution_count": 16,
   "metadata": {},
   "outputs": [],
   "source": [
    "#processed_annual_df['month_year'].unique()"
   ]
  },
  {
   "cell_type": "code",
   "execution_count": 17,
   "metadata": {},
   "outputs": [
    {
     "data": {
      "text/plain": [
       "145156"
      ]
     },
     "execution_count": 17,
     "metadata": {},
     "output_type": "execute_result"
    }
   ],
   "source": [
    "processed_monthly_df = process_turnover_df(monthly_df) \n",
    "processed_monthly_df.shape[0]"
   ]
  },
  {
   "cell_type": "markdown",
   "metadata": {},
   "source": [
    "Convert date column to date type and add a year to be in line with other dataset styles"
   ]
  },
  {
   "cell_type": "code",
   "execution_count": 35,
   "metadata": {},
   "outputs": [],
   "source": [
    "processed_annual_df['month_year'] = pd.to_datetime(processed_annual_df['month_year'])\n",
    "processed_monthly_df['month_year'] = pd.to_datetime(processed_monthly_df['month_year'])"
   ]
  },
  {
   "cell_type": "code",
   "execution_count": 37,
   "metadata": {},
   "outputs": [],
   "source": [
    "processed_annual_df['month_year'] = processed_annual_df['month_year'] + pd.DateOffset(years=1)\n",
    "processed_monthly_df['month_year'] = processed_monthly_df['month_year'] + pd.DateOffset(years=1)\n"
   ]
  },
  {
   "cell_type": "code",
   "execution_count": 38,
   "metadata": {},
   "outputs": [],
   "source": [
    "test = processed_annual_df.groupby(['month_year','staff_group']).agg({'leave_FTE':'sum','denom_FTE':'sum'}).reset_index()\n",
    "#test = processed_annual_df.groupby(['month_year','staff_group']).sum().reset_index()"
   ]
  },
  {
   "cell_type": "code",
   "execution_count": 39,
   "metadata": {},
   "outputs": [],
   "source": [
    "test['rate'] = test['leave_FTE']/test['denom_FTE']"
   ]
  },
  {
   "cell_type": "code",
   "execution_count": 40,
   "metadata": {},
   "outputs": [],
   "source": [
    "test_sg =  test[test['staff_group'] == 'All staff groups']\n"
   ]
  },
  {
   "cell_type": "code",
   "execution_count": 41,
   "metadata": {},
   "outputs": [
    {
     "name": "stderr",
     "output_type": "stream",
     "text": [
      "C:\\Users\\MarieRogers\\AppData\\Local\\Temp\\ipykernel_19172\\3085347274.py:1: SettingWithCopyWarning: \n",
      "A value is trying to be set on a copy of a slice from a DataFrame.\n",
      "Try using .loc[row_indexer,col_indexer] = value instead\n",
      "\n",
      "See the caveats in the documentation: https://pandas.pydata.org/pandas-docs/stable/user_guide/indexing.html#returning-a-view-versus-a-copy\n",
      "  test_sg['month_year'] = pd.to_datetime(test_sg['month_year'])\n"
     ]
    }
   ],
   "source": [
    "test_sg['month_year'] = pd.to_datetime(test_sg['month_year'])\n",
    "\n",
    "test_sg = test_sg[test_sg['month_year'] <= '2023-02-01']"
   ]
  },
  {
   "cell_type": "code",
   "execution_count": 42,
   "metadata": {},
   "outputs": [
    {
     "data": {
      "image/png": "[encoded data removed]",
      "text/plain": [
       "<Figure size 1000x600 with 1 Axes>"
      ]
     },
     "metadata": {},
     "output_type": "display_data"
    }
   ],
   "source": [
    "sns.set()\n",
    "\n",
    "plt.figure(figsize=(10, 6))  # Adjust the figure size as needed\n",
    "sns.lineplot(data=test_sg, x='month_year', y='rate', hue='staff_group')\n",
    "plt.xlabel('Date')\n",
    "plt.ylabel('Rate')\n",
    "plt.title('Rate over Time by Staff Group')\n",
    "plt.legend(title='Staff Group', loc='best')  # Add legend with the title 'Staff Group'\n",
    "plt.xticks(rotation=45)  # Rotate x-axis labels for better readability (optional)\n",
    "plt.show()"
   ]
  },
  {
   "cell_type": "code",
   "execution_count": 43,
   "metadata": {},
   "outputs": [],
   "source": [
    "processed_annual_df.to_csv('../processed_annual_data.csv', index=False)\n",
    "#processed_monthly_df.to_csv('./tempdir/processed_monthly_data.csv', index=False)"
   ]
  },
  {
   "cell_type": "code",
   "execution_count": 44,
   "metadata": {},
   "outputs": [],
   "source": [
    "processed_monthly_df.to_csv('../processed_monthly_turnover.csv', index=False)"
   ]
  }
 ],
 "metadata": {
  "kernelspec": {
   "display_name": "Python 3",
   "language": "python",
   "name": "python3"
  },
  "language_info": {
   "codemirror_mode": {
    "name": "ipython",
    "version": 3
   },
   "file_extension": ".py",
   "mimetype": "text/x-python",
   "name": "python",
   "nbconvert_exporter": "python",
   "pygments_lexer": "ipython3",
   "version": "3.9.0"
  },
  "orig_nbformat": 4
 },
 "nbformat": 4,
 "nbformat_minor": 2
}
