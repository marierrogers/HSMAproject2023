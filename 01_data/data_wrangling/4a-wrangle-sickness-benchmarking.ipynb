{
 "cells": [
  {
   "cell_type": "code",
   "execution_count": null,
   "metadata": {},
   "outputs": [],
   "source": [
    "from datetime import datetime\n",
    "import pandas as pd\n",
    "import numpy as np\n",
    "from pathlib import Path"
   ]
  },
  {
   "cell_type": "code",
   "execution_count": null,
   "metadata": {},
   "outputs": [],
   "source": [
    "path = \"tempdir/benchmark\"  # or unix / linux / mac path\n",
    "\n",
    "# Get the files from the path provided in the OP\n",
    "files = Path(path).glob('*.csv')\n",
    "\n",
    "columns_to_merge = {\n",
    "    'Date' : 'DATE',\n",
    "    'Tm End Date' : 'DATE',\n",
    "    'NHSE region code': 'NHSE_REGION_CODE',\n",
    "    'NHSE region name': 'NHSE_REGION_NAME',\n",
    "    'Org code': 'ORG_CODE',\n",
    "    'Org name': 'ORG_NAME',\n",
    "    'Org Code': 'ORG_CODE',\n",
    "    'Org Name': 'ORG_NAME',\n",
    "    'Org Type': 'ORG_TYPE',\n",
    "    'FTE days lost': 'FTE_DAYS_LOST',\n",
    "    'FTE Days Sick' : 'FTE_DAYS_LOST',\n",
    "    'FTE days available': 'FTE_DAYS_AVAILABLE',\n",
    "    'FTE Days Available' : 'FTE_DAYS_AVAILABLE',\n",
    "    'Sickness absence rate (%)': 'SICKNESS_ABSENCE_RATE_PERCENT',\n",
    "    'Staff group': 'STAFF_GROUP',\n",
    "    'Cluster group': 'CLUSTER_GROUP',\n",
    "    'Benchmark group': 'BENCHMARK_GROUP',\n",
    "}"
   ]
  },
  {
   "cell_type": "code",
   "execution_count": null,
   "metadata": {},
   "outputs": [],
   "source": [
    "list(columns_to_merge.values())"
   ]
  },
  {
   "cell_type": "code",
   "execution_count": null,
   "metadata": {},
   "outputs": [],
   "source": [
    "dfs = list()\n",
    "df = None\n",
    "\n",
    "for f in files:\n",
    "    #print(f)\n",
    "    data = pd.read_csv(f)\n",
    "    # .stem is method for pathlib objects to get the filename w/o the extension\n",
    "    data['file_date'] = str(f)[18:28] # Varies depending on name\n",
    "    data.columns = [columns_to_merge.get(k,k) for k in data.columns]\n",
    "    list(data)\n",
    "    dfs.append(data)\n",
    "\n",
    "df = pd.concat(dfs, ignore_index=True)"
   ]
  },
  {
   "cell_type": "code",
   "execution_count": null,
   "metadata": {},
   "outputs": [],
   "source": [
    "list(df)"
   ]
  },
  {
   "cell_type": "code",
   "execution_count": null,
   "metadata": {},
   "outputs": [],
   "source": [
    "df1 = df[[\"file_date\", \"DATE\", \"ORG_CODE\", \"ORG_NAME\", \"NHSE_REGION_CODE\", \"NHSE_REGION_NAME\", \"CLUSTER_GROUP\", \"BENCHMARK_GROUP\", \"STAFF_GROUP\", \"FTE_DAYS_LOST\", \"FTE_DAYS_AVAILABLE\"]]"
   ]
  },
  {
   "cell_type": "code",
   "execution_count": null,
   "metadata": {},
   "outputs": [],
   "source": [
    "df1.head()"
   ]
  },
  {
   "cell_type": "code",
   "execution_count": null,
   "metadata": {},
   "outputs": [],
   "source": [
    "# set date columns to date types\n",
    "df1['DATE'] = pd.to_datetime(df1['DATE'],infer_datetime_format=True)\n",
    "df1['file_date'] = pd.to_datetime(df1['file_date'], yearfirst = True)"
   ]
  },
  {
   "cell_type": "code",
   "execution_count": null,
   "metadata": {},
   "outputs": [],
   "source": [
    "df1.sort_values(by='file_date').tail()"
   ]
  },
  {
   "cell_type": "code",
   "execution_count": null,
   "metadata": {},
   "outputs": [],
   "source": [
    "replace_dict_region = {'South East of England':'South East',\n",
    "                'South West of England':'South West'}\n",
    "replace_dict_staff = {'All staff':'All staff groups',\n",
    "                'HCHS Doctors':'HCHS doctors (exc. junior Drs)',\n",
    "                'HCHS doctors':'HCHS doctors (exc. junior Drs)'}\n",
    "\n",
    "df1['NHSE_REGION_NAME'] = df1['NHSE_REGION_NAME'].replace(replace_dict_region)\n",
    "df1['STAFF_GROUP'] = df1['STAFF_GROUP'].replace(replace_dict_staff)\n",
    "\n",
    "df1 = df1.drop_duplicates()"
   ]
  },
  {
   "cell_type": "code",
   "execution_count": null,
   "metadata": {},
   "outputs": [],
   "source": [
    "df1 = df1.sort_values(by='file_date')\n",
    "\n",
    "df1.tail()"
   ]
  },
  {
   "cell_type": "code",
   "execution_count": null,
   "metadata": {},
   "outputs": [],
   "source": [
    "df2 = df1.sort_values(by='file_date', ascending = False).groupby(['DATE', 'ORG_NAME', 'STAFF_GROUP']).first().reset_index()"
   ]
  },
  {
   "cell_type": "code",
   "execution_count": null,
   "metadata": {},
   "outputs": [],
   "source": [
    "#df2[(df2['ORG_NAME'] == 'Liverpool University Hospitals NHS Foundation Trust') & (df2['STAFF_GROUP']==\"All staff groups\")].sort_values(by='DATE', ascending = False)"
   ]
  },
  {
   "cell_type": "code",
   "execution_count": null,
   "metadata": {},
   "outputs": [],
   "source": [
    "df2 = df2.sort_values(by=['NHSE_REGION_CODE', 'ORG_NAME', 'CLUSTER_GROUP','DATE'], ascending = False)"
   ]
  },
  {
   "cell_type": "code",
   "execution_count": null,
   "metadata": {},
   "outputs": [],
   "source": [
    "df2.head()\n"
   ]
  },
  {
   "cell_type": "code",
   "execution_count": null,
   "metadata": {},
   "outputs": [],
   "source": [
    "df2.to_csv('../sickness_benchmarking.csv', index = False)"
   ]
  }
 ],
 "metadata": {
  "kernelspec": {
   "display_name": "pythondev",
   "language": "python",
   "name": "python3"
  },
  "language_info": {
   "codemirror_mode": {
    "name": "ipython",
    "version": 3
   },
   "file_extension": ".py",
   "mimetype": "text/x-python",
   "name": "python",
   "nbconvert_exporter": "python",
   "pygments_lexer": "ipython3",
   "version": "3.9.6"
  }
 },
 "nbformat": 4,
 "nbformat_minor": 2
}
