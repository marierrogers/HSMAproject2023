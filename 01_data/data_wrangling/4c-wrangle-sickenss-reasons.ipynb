{
 "cells": [
  {
   "cell_type": "code",
   "execution_count": null,
   "metadata": {},
   "outputs": [],
   "source": [
    "from datetime import datetime\n",
    "import pandas as pd\n",
    "import numpy as np\n",
    "from pathlib import Path"
   ]
  },
  {
   "cell_type": "markdown",
   "metadata": {},
   "source": [
    "Load turnover data"
   ]
  },
  {
   "cell_type": "code",
   "execution_count": null,
   "metadata": {},
   "outputs": [],
   "source": [
    "path = \"tempdir/reason\"  # or unix / linux / mac path\n",
    "\n",
    "# Get the files from the path provided in the OP\n",
    "files_monthly_mds = Path(path).glob('*-reason-mds.csv') # These have days lost and available on separate rows\n",
    "files_monthly = Path(path).glob('*-reason.csv')\n",
    "\n",
    "# These are only for the MDS datasets\n",
    "columns_to_merge = {\n",
    "    'DATE' : 'DATE',\n",
    "    'Month': 'DATE',\n",
    "    'Type' : 'TYPE',\n",
    "    'Staff group': 'STAFF_GROUP',\n",
    "    'Reason': 'REASON',\n",
    "    'FTE days': 'FTE_DAYS'\n",
    "}"
   ]
  },
  {
   "cell_type": "markdown",
   "metadata": {},
   "source": [
    "Concat MDS files in tempdir first and then combine with other monthly data"
   ]
  },
  {
   "cell_type": "code",
   "execution_count": null,
   "metadata": {},
   "outputs": [],
   "source": [
    "dfs = list()\n",
    "df = None\n",
    "\n",
    "for f in files_monthly_mds:\n",
    "    #print(f.as_posix())\n",
    "    data = pd.read_csv(f.as_posix())\n",
    "   # print(f\"Number of rows: {len(data)}\")\n",
    "    # .stem is method for pathlib objects to get the filename w/o the extension\n",
    "    data['FILE_DATE'] = str(f)[15:25] # Varies depending on name, includes dir in filename string too, hence need to start at 15\n",
    "    data.columns = [columns_to_merge.get(k,k) for k in data.columns]\n",
    "    dfs.append(data)\n",
    "\n",
    "df = pd.concat(dfs, ignore_index=True)"
   ]
  },
  {
   "cell_type": "code",
   "execution_count": null,
   "metadata": {},
   "outputs": [],
   "source": [
    "list(df)"
   ]
  },
  {
   "cell_type": "markdown",
   "metadata": {},
   "source": [
    "Retrieve only 1 row from the most up-to-date file"
   ]
  },
  {
   "cell_type": "code",
   "execution_count": null,
   "metadata": {},
   "outputs": [],
   "source": [
    "df1 = df.sort_values(by='FILE_DATE', \n",
    "                      ascending = False).groupby(['DATE', 'TYPE','STAFF_GROUP','REASON',]).first().reset_index()"
   ]
  },
  {
   "cell_type": "code",
   "execution_count": null,
   "metadata": {},
   "outputs": [],
   "source": [
    "df1.head()"
   ]
  },
  {
   "cell_type": "code",
   "execution_count": null,
   "metadata": {},
   "outputs": [],
   "source": [
    "df1['DATE'] = pd.to_datetime(df1['DATE'], yearfirst = True)\n",
    "df1['FILE_DATE'] = pd.to_datetime(df1['FILE_DATE'], yearfirst = True)\n",
    "df1['REASON'] = df1['REASON'].str.lower()"
   ]
  },
  {
   "cell_type": "code",
   "execution_count": null,
   "metadata": {},
   "outputs": [],
   "source": [
    "df2 = df1.groupby(['DATE', 'STAFF_GROUP', 'REASON']).apply(lambda x: \n",
    "        pd.Series({\n",
    "        'FILE_DATE' : x['FILE_DATE'].values[0],\n",
    "        'FTE_DAYS_LOST': x.loc[x['TYPE'] == 'FTE days lost', 'FTE_DAYS'].values[0] if any(x['TYPE'] == 'FTE days lost') else 0,\n",
    "        'FTE_DAYS_AVAILABLE': x.loc[x['TYPE'] == 'FTE days available', 'FTE_DAYS'].values[0] if any(x['TYPE'] == 'FTE days available') else 0,\n",
    "    })).reset_index()\n",
    "\n",
    "# XX min runtime MR work laptop"
   ]
  },
  {
   "cell_type": "code",
   "execution_count": null,
   "metadata": {},
   "outputs": [],
   "source": [
    "df2.head()"
   ]
  },
  {
   "cell_type": "markdown",
   "metadata": {},
   "source": [
    "# Fetch monthly (non-MDS data)"
   ]
  },
  {
   "cell_type": "code",
   "execution_count": null,
   "metadata": {},
   "outputs": [],
   "source": [
    "dfsm = list()\n",
    "dfm = None\n",
    "\n",
    "for f in files_monthly:\n",
    "    #print(f.as_posix())\n",
    "    data = pd.read_csv(f.as_posix())\n",
    "   # print(f\"Number of rows: {len(data)}\")\n",
    "    # .stem is method for pathlib objects to get the filename w/o the extension\n",
    "    data['FILE_DATE'] = str(f)[15:25] # Varies depending on name, includes dir in filename string too, hence need to start at 15\n",
    "    data.columns = [columns_to_merge.get(k,k) for k in data.columns]\n",
    "    dfsm.append(data)\n",
    "\n",
    "dfm = pd.concat(dfsm, ignore_index=True)"
   ]
  },
  {
   "cell_type": "code",
   "execution_count": null,
   "metadata": {},
   "outputs": [],
   "source": [
    "dfm.head()"
   ]
  },
  {
   "cell_type": "code",
   "execution_count": null,
   "metadata": {},
   "outputs": [],
   "source": [
    "list(dfm)"
   ]
  },
  {
   "cell_type": "code",
   "execution_count": null,
   "metadata": {},
   "outputs": [],
   "source": [
    "df1m = dfm.sort_values(by='FILE_DATE', \n",
    "                      ascending = False).groupby(['DATE', 'STAFF_GROUP','REASON',]).first().reset_index()"
   ]
  },
  {
   "cell_type": "code",
   "execution_count": null,
   "metadata": {},
   "outputs": [],
   "source": [
    "df1m['DATE'] = pd.to_datetime(df1m['DATE'], yearfirst = False, format=\"%d/%m/%Y\")\n",
    "df1m['FILE_DATE'] = pd.to_datetime(df1m['FILE_DATE'], yearfirst = True)\n",
    "df1m['REASON'] = df1m['REASON'].str.lower()"
   ]
  },
  {
   "cell_type": "code",
   "execution_count": null,
   "metadata": {},
   "outputs": [],
   "source": [
    "df1m.head()"
   ]
  },
  {
   "cell_type": "code",
   "execution_count": null,
   "metadata": {},
   "outputs": [],
   "source": [
    "df_combo = pd.concat([df2, df1m])"
   ]
  },
  {
   "cell_type": "code",
   "execution_count": null,
   "metadata": {},
   "outputs": [],
   "source": [
    "df_combo.head()"
   ]
  },
  {
   "cell_type": "code",
   "execution_count": null,
   "metadata": {},
   "outputs": [],
   "source": [
    "df_combo1 = df_combo.sort_values(by='FILE_DATE', \n",
    "                      ascending = False).groupby(['DATE', 'STAFF_GROUP','REASON']).first().reset_index()"
   ]
  },
  {
   "cell_type": "code",
   "execution_count": null,
   "metadata": {},
   "outputs": [],
   "source": [
    "df_combo1.head()"
   ]
  },
  {
   "cell_type": "code",
   "execution_count": null,
   "metadata": {},
   "outputs": [],
   "source": [
    "df_combo1.to_csv('../sickness_reasons.csv', index = False)"
   ]
  },
  {
   "cell_type": "code",
   "execution_count": null,
   "metadata": {},
   "outputs": [],
   "source": [
    "df_r2 = pd.read_csv('../../03_dashboard/data/sickness_reasons.csv')\n",
    "df_r2.rename(columns=str.lower,inplace=True)\n",
    "df_r2['date'] = pd.to_datetime(df_r2['date'])"
   ]
  },
  {
   "cell_type": "code",
   "execution_count": null,
   "metadata": {},
   "outputs": [],
   "source": [
    "df_r2.head()"
   ]
  },
  {
   "cell_type": "code",
   "execution_count": null,
   "metadata": {},
   "outputs": [],
   "source": [
    "staff_group_list = sorted(df_r2['staff_group'].unique())\n",
    "sickness_reason_list = sorted(df_r2['reason'].unique())"
   ]
  },
  {
   "cell_type": "code",
   "execution_count": null,
   "metadata": {},
   "outputs": [],
   "source": [
    "sickness_reason_list"
   ]
  },
  {
   "cell_type": "code",
   "execution_count": null,
   "metadata": {},
   "outputs": [],
   "source": [
    "import re\n",
    "[x for x in sickness_reason_list if re.search(r'^s[0-9]+', x)]"
   ]
  },
  {
   "cell_type": "code",
   "execution_count": null,
   "metadata": {},
   "outputs": [],
   "source": [
    "\n",
    "df1 = df_r2[(df_r2['staff_group'].isin([\"Nurses & health visitors\"])) & (df_r2['reason'].isin([\"s12 other musculoskeletal problems\"]))]\n",
    "df1['total_days_lost'] = df1.groupby(['date','reason'])['fte_days_lost'].transform('sum')"
   ]
  },
  {
   "cell_type": "code",
   "execution_count": null,
   "metadata": {},
   "outputs": [],
   "source": [
    "df1.head()"
   ]
  }
 ],
 "metadata": {
  "kernelspec": {
   "display_name": "pythondev",
   "language": "python",
   "name": "python3"
  },
  "language_info": {
   "codemirror_mode": {
    "name": "ipython",
    "version": 3
   },
   "file_extension": ".py",
   "mimetype": "text/x-python",
   "name": "python",
   "nbconvert_exporter": "python",
   "pygments_lexer": "ipython3",
   "version": "3.9.19"
  }
 },
 "nbformat": 4,
 "nbformat_minor": 2
}
