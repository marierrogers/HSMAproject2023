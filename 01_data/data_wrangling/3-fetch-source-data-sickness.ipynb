{
 "cells": [
  {
   "cell_type": "markdown",
   "metadata": {},
   "source": [
    "### Script to scrape published data from NHSD webpages and output a compiled and procesed CSV of FTE days available and FTE days lost by staff group and organisation"
   ]
  },
  {
   "cell_type": "code",
   "execution_count": null,
   "metadata": {},
   "outputs": [],
   "source": [
    "import requests, os\n",
    "from bs4 import BeautifulSoup\n",
    "import re"
   ]
  },
  {
   "cell_type": "code",
   "execution_count": null,
   "metadata": {},
   "outputs": [],
   "source": [
    "check_url = 'https://digital.nhs.uk/data-and-information/publications/statistical/nhs-sickness-absence-rates/'\n",
    "file_source_url = 'https://digital.nhs.uk'\n",
    "\n",
    "response = requests.get(check_url)\n",
    "\n",
    "soup = BeautifulSoup(response.content, 'html.parser')\n",
    "past_links = soup.find( id=\"past-publications\").find_all(href=re.compile(\"publications/statistical/nhs-sickness-absence-rates/\"))\n",
    "latest_link = soup.find( id=\"latest-statistics\").find_all(href=re.compile(\"publications/statistical/nhs-sickness-absence-rates/\"))"
   ]
  },
  {
   "cell_type": "code",
   "execution_count": null,
   "metadata": {},
   "outputs": [],
   "source": [
    "#past_links[0:10]"
   ]
  },
  {
   "cell_type": "code",
   "execution_count": null,
   "metadata": {},
   "outputs": [],
   "source": [
    "from datetime import datetime"
   ]
  },
  {
   "cell_type": "code",
   "execution_count": null,
   "metadata": {},
   "outputs": [],
   "source": [
    "def retrieve_sub_url(url_string, file_source_url, data_type):\n",
    "\n",
    "    full_url = file_source_url+url_string\n",
    "    #print(full_url)\n",
    "    response = requests.get(full_url)\n",
    "    soup = BeautifulSoup(response.content, 'html.parser')\n",
    "    csv_search = soup.find_all(href=re.compile(\"\\.csv$\"))\n",
    "    xls_search = soup.find_all(href=re.compile(\"\\.xlsx$\"))\n",
    "    result = [x['href'] for x in csv_search if data_type in x['href'].lower()]\n",
    "    if len(result) == 0:\n",
    "        result = [x['href'] for x in xls_search if data_type in x['href'].lower()]\n",
    "    try:\n",
    "        return(result[0])\n",
    "    except:\n",
    "        pass"
   ]
  },
  {
   "cell_type": "code",
   "execution_count": null,
   "metadata": {},
   "outputs": [],
   "source": [
    "def retrieve_stats_urls(url_string, file_source_url, data_type):\n",
    "    x = url_string.split('/')\n",
    "    #print(x[-1])\n",
    "    date_string = x[-1]\n",
    "    regex_date_string = [m.group() for m in re.finditer(\"((january|february|march|april|may|june|july|august|september|october|november|december)-\\d{4})\", date_string)]\n",
    "    #print(regex_date_string)\n",
    "\n",
    "    try:\n",
    "        # Retrieve find date, which takes account of URLs with a date range within\n",
    "        formatted_date = datetime.strptime(regex_date_string[-1], \"%B-%Y\")\n",
    "        #print(formatted_date)\n",
    "        sub_url = retrieve_sub_url(url_string, file_source_url, data_type)\n",
    "\n",
    "        return {\n",
    "            'type': data_type,\n",
    "            'file_url': sub_url,\n",
    "            'the_date': formatted_date\n",
    "        }\n",
    "    except:\n",
    "        print('Could not format date')\n",
    "        pass"
   ]
  },
  {
   "cell_type": "code",
   "execution_count": null,
   "metadata": {},
   "outputs": [],
   "source": [
    "reason_stats_urls_list = []\n",
    "\n",
    "for link in past_links:\n",
    "    print(link['href'])\n",
    "    get_url = retrieve_stats_urls(link['href'], file_source_url, \"reason\")\n",
    "    if get_url is not None:\n",
    "        reason_stats_urls_list.append(get_url)"
   ]
  },
  {
   "cell_type": "code",
   "execution_count": null,
   "metadata": {},
   "outputs": [],
   "source": [
    "len(reason_stats_urls_list)"
   ]
  },
  {
   "cell_type": "code",
   "execution_count": null,
   "metadata": {},
   "outputs": [],
   "source": [
    "reason_stats_urls_list"
   ]
  }
 ],
 "metadata": {
  "kernelspec": {
   "display_name": "prophet",
   "language": "python",
   "name": "python3"
  },
  "language_info": {
   "codemirror_mode": {
    "name": "ipython",
    "version": 3
   },
   "file_extension": ".py",
   "mimetype": "text/x-python",
   "name": "python",
   "nbconvert_exporter": "python",
   "pygments_lexer": "ipython3",
   "version": "3.9.6"
  },
  "orig_nbformat": 4
 },
 "nbformat": 4,
 "nbformat_minor": 2
}
