{
 "cells": [
  {
   "cell_type": "code",
   "execution_count": 10,
   "metadata": {},
   "outputs": [],
   "source": [
    "import pandas as pd\n",
    "import os, re\n",
    "import json\n",
    "import ast\n",
    "from datetime import datetime"
   ]
  },
  {
   "cell_type": "code",
   "execution_count": 11,
   "metadata": {},
   "outputs": [
    {
     "data": {
      "text/plain": [
       "['Annual turnover from organisation benchmarking source data, February 2023.csv',\n",
       " 'inactive_organisations.txt',\n",
       " 'Monthly turnover from organisation benchmarking source data, February 2023.csv',\n",
       " 'turnover.zip']"
      ]
     },
     "execution_count": 11,
     "metadata": {},
     "output_type": "execute_result"
    }
   ],
   "source": [
    "os.listdir(\"./tempdir\")"
   ]
  },
  {
   "cell_type": "code",
   "execution_count": 12,
   "metadata": {},
   "outputs": [],
   "source": [
    "annual_csv = [f for f in os.listdir('./tempdir') if re.match(r\"(?i)^annual\", f)]\n",
    "monthly_csv = [f for f in os.listdir('./tempdir') if re.match(r\"(?i)^monthly\", f)]"
   ]
  },
  {
   "cell_type": "code",
   "execution_count": 13,
   "metadata": {},
   "outputs": [
    {
     "data": {
      "text/plain": [
       "['Annual turnover from organisation benchmarking source data, February 2023.csv']"
      ]
     },
     "execution_count": 13,
     "metadata": {},
     "output_type": "execute_result"
    }
   ],
   "source": [
    "annual_csv"
   ]
  },
  {
   "cell_type": "code",
   "execution_count": 14,
   "metadata": {},
   "outputs": [
    {
     "data": {
      "text/plain": [
       "['Monthly turnover from organisation benchmarking source data, February 2023.csv']"
      ]
     },
     "execution_count": 14,
     "metadata": {},
     "output_type": "execute_result"
    }
   ],
   "source": [
    "monthly_csv"
   ]
  },
  {
   "cell_type": "code",
   "execution_count": 15,
   "metadata": {},
   "outputs": [],
   "source": [
    "with open('./tempdir/inactive_organisations.txt', 'r') as file:\n",
    "    # Read the contents of the file\n",
    "    data = json.load(file)\n",
    "    js_df = converted_dict = {row['org_id']: row['name'] for row in data}\n",
    "\n",
    "file.close()\n"
   ]
  },
  {
   "cell_type": "code",
   "execution_count": 16,
   "metadata": {},
   "outputs": [],
   "source": [
    "annual_df = pd.read_csv(f\"./tempdir/{annual_csv[0]}\")\n",
    "monthly_df = pd.read_csv(f\"./tempdir/{monthly_csv[0]}\")"
   ]
  },
  {
   "cell_type": "code",
   "execution_count": 17,
   "metadata": {},
   "outputs": [
    {
     "data": {
      "text/html": [
       "<div>\n",
       "<style scoped>\n",
       "    .dataframe tbody tr th:only-of-type {\n",
       "        vertical-align: middle;\n",
       "    }\n",
       "\n",
       "    .dataframe tbody tr th {\n",
       "        vertical-align: top;\n",
       "    }\n",
       "\n",
       "    .dataframe thead th {\n",
       "        text-align: right;\n",
       "    }\n",
       "</style>\n",
       "<table border=\"1\" class=\"dataframe\">\n",
       "  <thead>\n",
       "    <tr style=\"text-align: right;\">\n",
       "      <th></th>\n",
       "      <th>Period</th>\n",
       "      <th>Type</th>\n",
       "      <th>Org code</th>\n",
       "      <th>Org name</th>\n",
       "      <th>NHSE region code</th>\n",
       "      <th>NHSE region name</th>\n",
       "      <th>ICS code</th>\n",
       "      <th>ICS name</th>\n",
       "      <th>Cluster group</th>\n",
       "      <th>Benchmark group</th>\n",
       "      <th>Staff group</th>\n",
       "      <th>HC</th>\n",
       "      <th>FTE</th>\n",
       "    </tr>\n",
       "  </thead>\n",
       "  <tbody>\n",
       "    <tr>\n",
       "      <th>0</th>\n",
       "      <td>31/01/2022</td>\n",
       "      <td>Denoms</td>\n",
       "      <td>00Q</td>\n",
       "      <td>NHS Blackburn with Darwen CCG</td>\n",
       "      <td>Y62</td>\n",
       "      <td>North West</td>\n",
       "      <td>QE1</td>\n",
       "      <td>Lancashire and South Cumbria</td>\n",
       "      <td>Clinical Commissioning Group</td>\n",
       "      <td>Clinical Commissioning Group</td>\n",
       "      <td>Nurses &amp; health visitors</td>\n",
       "      <td>4</td>\n",
       "      <td>3.10000</td>\n",
       "    </tr>\n",
       "    <tr>\n",
       "      <th>1</th>\n",
       "      <td>31/01/2022</td>\n",
       "      <td>Denoms</td>\n",
       "      <td>00Q</td>\n",
       "      <td>NHS Blackburn with Darwen CCG</td>\n",
       "      <td>Y62</td>\n",
       "      <td>North West</td>\n",
       "      <td>QE1</td>\n",
       "      <td>Lancashire and South Cumbria</td>\n",
       "      <td>Clinical Commissioning Group</td>\n",
       "      <td>Clinical Commissioning Group</td>\n",
       "      <td>Scientific, therapeutic &amp; technical staff</td>\n",
       "      <td>6</td>\n",
       "      <td>5.33334</td>\n",
       "    </tr>\n",
       "    <tr>\n",
       "      <th>2</th>\n",
       "      <td>31/01/2022</td>\n",
       "      <td>Denoms</td>\n",
       "      <td>00Q</td>\n",
       "      <td>NHS Blackburn with Darwen CCG</td>\n",
       "      <td>Y62</td>\n",
       "      <td>North West</td>\n",
       "      <td>QE1</td>\n",
       "      <td>Lancashire and South Cumbria</td>\n",
       "      <td>Clinical Commissioning Group</td>\n",
       "      <td>Clinical Commissioning Group</td>\n",
       "      <td>Senior managers</td>\n",
       "      <td>11</td>\n",
       "      <td>7.07254</td>\n",
       "    </tr>\n",
       "    <tr>\n",
       "      <th>3</th>\n",
       "      <td>31/01/2022</td>\n",
       "      <td>Denoms</td>\n",
       "      <td>00R</td>\n",
       "      <td>NHS Blackpool CCG</td>\n",
       "      <td>Y62</td>\n",
       "      <td>North West</td>\n",
       "      <td>QE1</td>\n",
       "      <td>Lancashire and South Cumbria</td>\n",
       "      <td>Clinical Commissioning Group</td>\n",
       "      <td>Clinical Commissioning Group</td>\n",
       "      <td>Managers</td>\n",
       "      <td>24</td>\n",
       "      <td>22.18000</td>\n",
       "    </tr>\n",
       "    <tr>\n",
       "      <th>4</th>\n",
       "      <td>31/01/2022</td>\n",
       "      <td>Denoms</td>\n",
       "      <td>00T</td>\n",
       "      <td>NHS Bolton CCG</td>\n",
       "      <td>Y62</td>\n",
       "      <td>North West</td>\n",
       "      <td>QOP</td>\n",
       "      <td>Greater Manchester</td>\n",
       "      <td>Clinical Commissioning Group</td>\n",
       "      <td>Clinical Commissioning Group</td>\n",
       "      <td>Nurses &amp; health visitors</td>\n",
       "      <td>16</td>\n",
       "      <td>14.55333</td>\n",
       "    </tr>\n",
       "  </tbody>\n",
       "</table>\n",
       "</div>"
      ],
      "text/plain": [
       "       Period    Type Org code                       Org name  \\\n",
       "0  31/01/2022  Denoms      00Q  NHS Blackburn with Darwen CCG   \n",
       "1  31/01/2022  Denoms      00Q  NHS Blackburn with Darwen CCG   \n",
       "2  31/01/2022  Denoms      00Q  NHS Blackburn with Darwen CCG   \n",
       "3  31/01/2022  Denoms      00R              NHS Blackpool CCG   \n",
       "4  31/01/2022  Denoms      00T                 NHS Bolton CCG   \n",
       "\n",
       "  NHSE region code NHSE region name ICS code                      ICS name  \\\n",
       "0              Y62       North West      QE1  Lancashire and South Cumbria   \n",
       "1              Y62       North West      QE1  Lancashire and South Cumbria   \n",
       "2              Y62       North West      QE1  Lancashire and South Cumbria   \n",
       "3              Y62       North West      QE1  Lancashire and South Cumbria   \n",
       "4              Y62       North West      QOP            Greater Manchester   \n",
       "\n",
       "                  Cluster group               Benchmark group  \\\n",
       "0  Clinical Commissioning Group  Clinical Commissioning Group   \n",
       "1  Clinical Commissioning Group  Clinical Commissioning Group   \n",
       "2  Clinical Commissioning Group  Clinical Commissioning Group   \n",
       "3  Clinical Commissioning Group  Clinical Commissioning Group   \n",
       "4  Clinical Commissioning Group  Clinical Commissioning Group   \n",
       "\n",
       "                                 Staff group  HC       FTE  \n",
       "0                   Nurses & health visitors   4   3.10000  \n",
       "1  Scientific, therapeutic & technical staff   6   5.33334  \n",
       "2                            Senior managers  11   7.07254  \n",
       "3                                   Managers  24  22.18000  \n",
       "4                   Nurses & health visitors  16  14.55333  "
      ]
     },
     "execution_count": 17,
     "metadata": {},
     "output_type": "execute_result"
    }
   ],
   "source": [
    "annual_df.head()"
   ]
  },
  {
   "cell_type": "code",
   "execution_count": 18,
   "metadata": {},
   "outputs": [
    {
     "data": {
      "text/html": [
       "<div>\n",
       "<style scoped>\n",
       "    .dataframe tbody tr th:only-of-type {\n",
       "        vertical-align: middle;\n",
       "    }\n",
       "\n",
       "    .dataframe tbody tr th {\n",
       "        vertical-align: top;\n",
       "    }\n",
       "\n",
       "    .dataframe thead th {\n",
       "        text-align: right;\n",
       "    }\n",
       "</style>\n",
       "<table border=\"1\" class=\"dataframe\">\n",
       "  <thead>\n",
       "    <tr style=\"text-align: right;\">\n",
       "      <th></th>\n",
       "      <th>Period</th>\n",
       "      <th>Type</th>\n",
       "      <th>Org code</th>\n",
       "      <th>Org name</th>\n",
       "      <th>NHSE region code</th>\n",
       "      <th>NHSE region name</th>\n",
       "      <th>ICS code</th>\n",
       "      <th>ICS name</th>\n",
       "      <th>Cluster group</th>\n",
       "      <th>Benchmark group</th>\n",
       "      <th>Staff group</th>\n",
       "      <th>HC</th>\n",
       "      <th>FTE</th>\n",
       "    </tr>\n",
       "  </thead>\n",
       "  <tbody>\n",
       "    <tr>\n",
       "      <th>0</th>\n",
       "      <td>202112 to 202201</td>\n",
       "      <td>Leavers</td>\n",
       "      <td>RXX</td>\n",
       "      <td>Surrey and Borders Partnership NHS Foundation ...</td>\n",
       "      <td>Y59</td>\n",
       "      <td>South East</td>\n",
       "      <td>QXU</td>\n",
       "      <td>Surrey Heartlands</td>\n",
       "      <td>Mental Health</td>\n",
       "      <td>Mental Health and Learning Disability</td>\n",
       "      <td>All staff groups</td>\n",
       "      <td>46</td>\n",
       "      <td>41.09334</td>\n",
       "    </tr>\n",
       "    <tr>\n",
       "      <th>1</th>\n",
       "      <td>202112 to 202201</td>\n",
       "      <td>Leavers</td>\n",
       "      <td>RJ2</td>\n",
       "      <td>Lewisham and Greenwich NHS Trust</td>\n",
       "      <td>Y56</td>\n",
       "      <td>London</td>\n",
       "      <td>QKK</td>\n",
       "      <td>South East London</td>\n",
       "      <td>Acute</td>\n",
       "      <td>Acute - Large</td>\n",
       "      <td>All staff groups</td>\n",
       "      <td>112</td>\n",
       "      <td>101.00739</td>\n",
       "    </tr>\n",
       "    <tr>\n",
       "      <th>2</th>\n",
       "      <td>202112 to 202201</td>\n",
       "      <td>Leavers</td>\n",
       "      <td>RDR</td>\n",
       "      <td>Sussex Community NHS Foundation Trust</td>\n",
       "      <td>Y59</td>\n",
       "      <td>South East</td>\n",
       "      <td>QNX</td>\n",
       "      <td>Sussex</td>\n",
       "      <td>Community Provider Trust</td>\n",
       "      <td>Community Provider Trust</td>\n",
       "      <td>All staff groups</td>\n",
       "      <td>86</td>\n",
       "      <td>67.40329</td>\n",
       "    </tr>\n",
       "    <tr>\n",
       "      <th>3</th>\n",
       "      <td>202112 to 202201</td>\n",
       "      <td>Leavers</td>\n",
       "      <td>26A</td>\n",
       "      <td>NHS Norfolk and Waveney CCG</td>\n",
       "      <td>Y61</td>\n",
       "      <td>East of England</td>\n",
       "      <td>QMM</td>\n",
       "      <td>Norfolk and Waveney</td>\n",
       "      <td>Clinical Commissioning Group</td>\n",
       "      <td>Clinical Commissioning Group</td>\n",
       "      <td>All staff groups</td>\n",
       "      <td>9</td>\n",
       "      <td>8.20000</td>\n",
       "    </tr>\n",
       "    <tr>\n",
       "      <th>4</th>\n",
       "      <td>202112 to 202201</td>\n",
       "      <td>Leavers</td>\n",
       "      <td>RWX</td>\n",
       "      <td>Berkshire Healthcare NHS Foundation Trust</td>\n",
       "      <td>Y59</td>\n",
       "      <td>South East</td>\n",
       "      <td>QNQ</td>\n",
       "      <td>Frimley</td>\n",
       "      <td>Mental Health</td>\n",
       "      <td>Mental Health and Learning Disability</td>\n",
       "      <td>All staff groups</td>\n",
       "      <td>73</td>\n",
       "      <td>60.87147</td>\n",
       "    </tr>\n",
       "  </tbody>\n",
       "</table>\n",
       "</div>"
      ],
      "text/plain": [
       "             Period     Type Org code  \\\n",
       "0  202112 to 202201  Leavers      RXX   \n",
       "1  202112 to 202201  Leavers      RJ2   \n",
       "2  202112 to 202201  Leavers      RDR   \n",
       "3  202112 to 202201  Leavers      26A   \n",
       "4  202112 to 202201  Leavers      RWX   \n",
       "\n",
       "                                            Org name NHSE region code  \\\n",
       "0  Surrey and Borders Partnership NHS Foundation ...              Y59   \n",
       "1                   Lewisham and Greenwich NHS Trust              Y56   \n",
       "2              Sussex Community NHS Foundation Trust              Y59   \n",
       "3                        NHS Norfolk and Waveney CCG              Y61   \n",
       "4          Berkshire Healthcare NHS Foundation Trust              Y59   \n",
       "\n",
       "  NHSE region name ICS code             ICS name  \\\n",
       "0       South East      QXU    Surrey Heartlands   \n",
       "1           London      QKK    South East London   \n",
       "2       South East      QNX               Sussex   \n",
       "3  East of England      QMM  Norfolk and Waveney   \n",
       "4       South East      QNQ              Frimley   \n",
       "\n",
       "                  Cluster group                        Benchmark group  \\\n",
       "0                 Mental Health  Mental Health and Learning Disability   \n",
       "1                         Acute                          Acute - Large   \n",
       "2      Community Provider Trust               Community Provider Trust   \n",
       "3  Clinical Commissioning Group           Clinical Commissioning Group   \n",
       "4                 Mental Health  Mental Health and Learning Disability   \n",
       "\n",
       "        Staff group   HC        FTE  \n",
       "0  All staff groups   46   41.09334  \n",
       "1  All staff groups  112  101.00739  \n",
       "2  All staff groups   86   67.40329  \n",
       "3  All staff groups    9    8.20000  \n",
       "4  All staff groups   73   60.87147  "
      ]
     },
     "execution_count": 18,
     "metadata": {},
     "output_type": "execute_result"
    }
   ],
   "source": [
    "monthly_df.head()"
   ]
  },
  {
   "cell_type": "code",
   "execution_count": 19,
   "metadata": {},
   "outputs": [],
   "source": [
    "def process_turnover_df(df):\n",
    "    df1 = pd.DataFrame(df)\n",
    "    \n",
    "    # df1['date_string'] = df1['Period'].apply(lambda x: x.split(' to ')[-1]+'01' if x.endswith(('Leavers', 'Joiners')) else ('01/'+x[3:10] if x.startswith('Denoms') else None))\n",
    "    #df1['thedate'] = pd.to_datetime(datetime.now())\n",
    "\n",
    "    df1['thedate'] = df1.apply(lambda x: datetime.strptime(x['Period'].split(' to ')[0]+'01', '%Y%m%d') if x['Type'] in ('Leavers', 'Joiners') else (datetime.strptime('01/'+x['Period'][3:10], '%d/%m/%Y') if x['Type'] == 'Denoms' else None), axis = 1)   \n",
    "    \n",
    "    df2 = df1.groupby(['Org code', 'Staff group', 'thedate']).apply(lambda x: \n",
    "        pd.Series({\n",
    "        'n': x.shape[0],\n",
    "        'join_HC': x.loc[x['Type'].str.contains('Joiners'), 'HC'].values[0] if any(x['Type'] == 'Joiners') else None,\n",
    "        'join_FTE': x.loc[x['Type'] == 'Joiners', 'FTE'].values[0] if any(x['Type'] == 'Joiners') else None,\n",
    "        'leave_HC': x.loc[x['Type'] == 'Leavers', 'HC'].values[0] if any(x['Type'] == 'Leavers') else None,\n",
    "        'leave_FTE': x.loc[x['Type'] == 'Leavers', 'FTE'].values[0] if any(x['Type'] == 'Leavers') else None,\n",
    "        'denom_HC': x.loc[x['Type'] == 'Denoms', 'HC'].values[0] if any(x['Type'] == 'Denoms') else None,\n",
    "        'denom_FTE': x.loc[x['Type'] == 'Denoms', 'FTE'].values[0] if any(x['Type'] == 'Denoms') else None,\n",
    "    })).reset_index().rename(columns={\n",
    "        'Org code': 'org_code',\n",
    "        'Staff group': 'staff_group',\n",
    "        'thedate': 'month_year'\n",
    "    }).drop_duplicates()\n",
    "\n",
    "    return df2\n"
   ]
  },
  {
   "cell_type": "code",
   "execution_count": 20,
   "metadata": {},
   "outputs": [
    {
     "data": {
      "text/plain": [
       "246144"
      ]
     },
     "execution_count": 20,
     "metadata": {},
     "output_type": "execute_result"
    }
   ],
   "source": [
    "processed_annual_df = process_turnover_df(annual_df) \n",
    "processed_annual_df.shape[0]"
   ]
  },
  {
   "cell_type": "code",
   "execution_count": 21,
   "metadata": {},
   "outputs": [
    {
     "data": {
      "text/html": [
       "<div>\n",
       "<style scoped>\n",
       "    .dataframe tbody tr th:only-of-type {\n",
       "        vertical-align: middle;\n",
       "    }\n",
       "\n",
       "    .dataframe tbody tr th {\n",
       "        vertical-align: top;\n",
       "    }\n",
       "\n",
       "    .dataframe thead th {\n",
       "        text-align: right;\n",
       "    }\n",
       "</style>\n",
       "<table border=\"1\" class=\"dataframe\">\n",
       "  <thead>\n",
       "    <tr style=\"text-align: right;\">\n",
       "      <th></th>\n",
       "      <th>org_code</th>\n",
       "      <th>staff_group</th>\n",
       "      <th>month_year</th>\n",
       "      <th>n</th>\n",
       "      <th>join_HC</th>\n",
       "      <th>join_FTE</th>\n",
       "      <th>leave_HC</th>\n",
       "      <th>leave_FTE</th>\n",
       "      <th>denom_HC</th>\n",
       "      <th>denom_FTE</th>\n",
       "    </tr>\n",
       "  </thead>\n",
       "  <tbody>\n",
       "    <tr>\n",
       "      <th>0</th>\n",
       "      <td>00D</td>\n",
       "      <td>All staff groups</td>\n",
       "      <td>2017-08-01</td>\n",
       "      <td>2.0</td>\n",
       "      <td>NaN</td>\n",
       "      <td>NaN</td>\n",
       "      <td>1.0</td>\n",
       "      <td>0.1</td>\n",
       "      <td>1.0</td>\n",
       "      <td>0.1</td>\n",
       "    </tr>\n",
       "    <tr>\n",
       "      <th>1</th>\n",
       "      <td>00D</td>\n",
       "      <td>All staff groups</td>\n",
       "      <td>2017-09-01</td>\n",
       "      <td>2.0</td>\n",
       "      <td>NaN</td>\n",
       "      <td>NaN</td>\n",
       "      <td>1.0</td>\n",
       "      <td>0.1</td>\n",
       "      <td>1.0</td>\n",
       "      <td>0.1</td>\n",
       "    </tr>\n",
       "    <tr>\n",
       "      <th>2</th>\n",
       "      <td>00D</td>\n",
       "      <td>All staff groups</td>\n",
       "      <td>2017-10-01</td>\n",
       "      <td>2.0</td>\n",
       "      <td>NaN</td>\n",
       "      <td>NaN</td>\n",
       "      <td>1.0</td>\n",
       "      <td>0.1</td>\n",
       "      <td>1.0</td>\n",
       "      <td>0.1</td>\n",
       "    </tr>\n",
       "    <tr>\n",
       "      <th>3</th>\n",
       "      <td>00D</td>\n",
       "      <td>All staff groups</td>\n",
       "      <td>2017-11-01</td>\n",
       "      <td>2.0</td>\n",
       "      <td>NaN</td>\n",
       "      <td>NaN</td>\n",
       "      <td>1.0</td>\n",
       "      <td>0.1</td>\n",
       "      <td>1.0</td>\n",
       "      <td>0.1</td>\n",
       "    </tr>\n",
       "    <tr>\n",
       "      <th>4</th>\n",
       "      <td>00D</td>\n",
       "      <td>All staff groups</td>\n",
       "      <td>2017-12-01</td>\n",
       "      <td>2.0</td>\n",
       "      <td>NaN</td>\n",
       "      <td>NaN</td>\n",
       "      <td>1.0</td>\n",
       "      <td>0.1</td>\n",
       "      <td>1.0</td>\n",
       "      <td>0.1</td>\n",
       "    </tr>\n",
       "  </tbody>\n",
       "</table>\n",
       "</div>"
      ],
      "text/plain": [
       "  org_code       staff_group month_year    n  join_HC  join_FTE  leave_HC  \\\n",
       "0      00D  All staff groups 2017-08-01  2.0      NaN       NaN       1.0   \n",
       "1      00D  All staff groups 2017-09-01  2.0      NaN       NaN       1.0   \n",
       "2      00D  All staff groups 2017-10-01  2.0      NaN       NaN       1.0   \n",
       "3      00D  All staff groups 2017-11-01  2.0      NaN       NaN       1.0   \n",
       "4      00D  All staff groups 2017-12-01  2.0      NaN       NaN       1.0   \n",
       "\n",
       "   leave_FTE  denom_HC  denom_FTE  \n",
       "0        0.1       1.0        0.1  \n",
       "1        0.1       1.0        0.1  \n",
       "2        0.1       1.0        0.1  \n",
       "3        0.1       1.0        0.1  \n",
       "4        0.1       1.0        0.1  "
      ]
     },
     "execution_count": 21,
     "metadata": {},
     "output_type": "execute_result"
    }
   ],
   "source": [
    "processed_annual_df.head()\n"
   ]
  },
  {
   "cell_type": "code",
   "execution_count": 22,
   "metadata": {},
   "outputs": [
    {
     "data": {
      "text/html": [
       "<div>\n",
       "<style scoped>\n",
       "    .dataframe tbody tr th:only-of-type {\n",
       "        vertical-align: middle;\n",
       "    }\n",
       "\n",
       "    .dataframe tbody tr th {\n",
       "        vertical-align: top;\n",
       "    }\n",
       "\n",
       "    .dataframe thead th {\n",
       "        text-align: right;\n",
       "    }\n",
       "</style>\n",
       "<table border=\"1\" class=\"dataframe\">\n",
       "  <thead>\n",
       "    <tr style=\"text-align: right;\">\n",
       "      <th></th>\n",
       "      <th>org_code</th>\n",
       "      <th>staff_group</th>\n",
       "      <th>month_year</th>\n",
       "      <th>n</th>\n",
       "      <th>join_HC</th>\n",
       "      <th>join_FTE</th>\n",
       "      <th>leave_HC</th>\n",
       "      <th>leave_FTE</th>\n",
       "      <th>denom_HC</th>\n",
       "      <th>denom_FTE</th>\n",
       "    </tr>\n",
       "  </thead>\n",
       "  <tbody>\n",
       "    <tr>\n",
       "      <th>635</th>\n",
       "      <td>00Q</td>\n",
       "      <td>All staff groups</td>\n",
       "      <td>2021-05-01</td>\n",
       "      <td>3.0</td>\n",
       "      <td>2.0</td>\n",
       "      <td>2.0</td>\n",
       "      <td>6.0</td>\n",
       "      <td>5.69334</td>\n",
       "      <td>46.0</td>\n",
       "      <td>31.76955</td>\n",
       "    </tr>\n",
       "    <tr>\n",
       "      <th>693</th>\n",
       "      <td>00Q</td>\n",
       "      <td>Central functions</td>\n",
       "      <td>2021-05-01</td>\n",
       "      <td>3.0</td>\n",
       "      <td>1.0</td>\n",
       "      <td>1.0</td>\n",
       "      <td>2.0</td>\n",
       "      <td>1.86667</td>\n",
       "      <td>6.0</td>\n",
       "      <td>5.02667</td>\n",
       "    </tr>\n",
       "    <tr>\n",
       "      <th>969</th>\n",
       "      <td>00Q</td>\n",
       "      <td>Scientific, therapeutic &amp; technical staff</td>\n",
       "      <td>2021-05-01</td>\n",
       "      <td>3.0</td>\n",
       "      <td>1.0</td>\n",
       "      <td>1.0</td>\n",
       "      <td>2.0</td>\n",
       "      <td>1.82667</td>\n",
       "      <td>6.0</td>\n",
       "      <td>5.33334</td>\n",
       "    </tr>\n",
       "    <tr>\n",
       "      <th>634</th>\n",
       "      <td>00Q</td>\n",
       "      <td>All staff groups</td>\n",
       "      <td>2021-04-01</td>\n",
       "      <td>3.0</td>\n",
       "      <td>2.0</td>\n",
       "      <td>2.0</td>\n",
       "      <td>6.0</td>\n",
       "      <td>6.29334</td>\n",
       "      <td>47.0</td>\n",
       "      <td>32.66952</td>\n",
       "    </tr>\n",
       "    <tr>\n",
       "      <th>692</th>\n",
       "      <td>00Q</td>\n",
       "      <td>Central functions</td>\n",
       "      <td>2021-04-01</td>\n",
       "      <td>3.0</td>\n",
       "      <td>1.0</td>\n",
       "      <td>1.0</td>\n",
       "      <td>2.0</td>\n",
       "      <td>1.86667</td>\n",
       "      <td>6.0</td>\n",
       "      <td>5.02667</td>\n",
       "    </tr>\n",
       "  </tbody>\n",
       "</table>\n",
       "</div>"
      ],
      "text/plain": [
       "    org_code                                staff_group month_year    n  \\\n",
       "635      00Q                           All staff groups 2021-05-01  3.0   \n",
       "693      00Q                          Central functions 2021-05-01  3.0   \n",
       "969      00Q  Scientific, therapeutic & technical staff 2021-05-01  3.0   \n",
       "634      00Q                           All staff groups 2021-04-01  3.0   \n",
       "692      00Q                          Central functions 2021-04-01  3.0   \n",
       "\n",
       "     join_HC  join_FTE  leave_HC  leave_FTE  denom_HC  denom_FTE  \n",
       "635      2.0       2.0       6.0    5.69334      46.0   31.76955  \n",
       "693      1.0       1.0       2.0    1.86667       6.0    5.02667  \n",
       "969      1.0       1.0       2.0    1.82667       6.0    5.33334  \n",
       "634      2.0       2.0       6.0    6.29334      47.0   32.66952  \n",
       "692      1.0       1.0       2.0    1.86667       6.0    5.02667  "
      ]
     },
     "execution_count": 22,
     "metadata": {},
     "output_type": "execute_result"
    }
   ],
   "source": [
    "processed_annual_df.loc[processed_annual_df['org_code'] == '00Q'].sort_values(by=['n', 'month_year'], ascending=False).head()\n"
   ]
  },
  {
   "cell_type": "code",
   "execution_count": 23,
   "metadata": {},
   "outputs": [
    {
     "data": {
      "text/plain": [
       "193650"
      ]
     },
     "execution_count": 23,
     "metadata": {},
     "output_type": "execute_result"
    }
   ],
   "source": [
    "processed_monthly_df = process_turnover_df(monthly_df) \n",
    "processed_monthly_df.shape[0]"
   ]
  },
  {
   "cell_type": "code",
   "execution_count": 24,
   "metadata": {},
   "outputs": [],
   "source": [
    "processed_annual_df.to_csv('./tempdir/processed_annual_data.csv', index=False)\n",
    "processed_monthly_df.to_csv('./tempdir/processed_monthly_data.csv', index=False)"
   ]
  },
  {
   "cell_type": "code",
   "execution_count": 58,
   "metadata": {},
   "outputs": [
    {
     "ename": "OSError",
     "evalue": "Cannot save file into a non-existent directory: '..\\01_data'",
     "output_type": "error",
     "traceback": [
      "\u001b[1;31m---------------------------------------------------------------------------\u001b[0m",
      "\u001b[1;31mOSError\u001b[0m                                   Traceback (most recent call last)",
      "Cell \u001b[1;32mIn[58], line 2\u001b[0m\n\u001b[0;32m      1\u001b[0m \u001b[39m#data_dir = \u001b[39;00m\n\u001b[1;32m----> 2\u001b[0m processed_monthly_df\u001b[39m.\u001b[39;49mto_csv(\u001b[39m'\u001b[39;49m\u001b[39m../01_data/processed_monthly_turnover.csv\u001b[39;49m\u001b[39m'\u001b[39;49m, index\u001b[39m=\u001b[39;49m\u001b[39mFalse\u001b[39;49;00m)\n",
      "File \u001b[1;32m~\\AppData\\Roaming\\Python\\Python39\\site-packages\\pandas\\core\\generic.py:3772\u001b[0m, in \u001b[0;36mNDFrame.to_csv\u001b[1;34m(self, path_or_buf, sep, na_rep, float_format, columns, header, index, index_label, mode, encoding, compression, quoting, quotechar, lineterminator, chunksize, date_format, doublequote, escapechar, decimal, errors, storage_options)\u001b[0m\n\u001b[0;32m   3761\u001b[0m df \u001b[39m=\u001b[39m \u001b[39mself\u001b[39m \u001b[39mif\u001b[39;00m \u001b[39misinstance\u001b[39m(\u001b[39mself\u001b[39m, ABCDataFrame) \u001b[39melse\u001b[39;00m \u001b[39mself\u001b[39m\u001b[39m.\u001b[39mto_frame()\n\u001b[0;32m   3763\u001b[0m formatter \u001b[39m=\u001b[39m DataFrameFormatter(\n\u001b[0;32m   3764\u001b[0m     frame\u001b[39m=\u001b[39mdf,\n\u001b[0;32m   3765\u001b[0m     header\u001b[39m=\u001b[39mheader,\n\u001b[1;32m   (...)\u001b[0m\n\u001b[0;32m   3769\u001b[0m     decimal\u001b[39m=\u001b[39mdecimal,\n\u001b[0;32m   3770\u001b[0m )\n\u001b[1;32m-> 3772\u001b[0m \u001b[39mreturn\u001b[39;00m DataFrameRenderer(formatter)\u001b[39m.\u001b[39;49mto_csv(\n\u001b[0;32m   3773\u001b[0m     path_or_buf,\n\u001b[0;32m   3774\u001b[0m     lineterminator\u001b[39m=\u001b[39;49mlineterminator,\n\u001b[0;32m   3775\u001b[0m     sep\u001b[39m=\u001b[39;49msep,\n\u001b[0;32m   3776\u001b[0m     encoding\u001b[39m=\u001b[39;49mencoding,\n\u001b[0;32m   3777\u001b[0m     errors\u001b[39m=\u001b[39;49merrors,\n\u001b[0;32m   3778\u001b[0m     compression\u001b[39m=\u001b[39;49mcompression,\n\u001b[0;32m   3779\u001b[0m     quoting\u001b[39m=\u001b[39;49mquoting,\n\u001b[0;32m   3780\u001b[0m     columns\u001b[39m=\u001b[39;49mcolumns,\n\u001b[0;32m   3781\u001b[0m     index_label\u001b[39m=\u001b[39;49mindex_label,\n\u001b[0;32m   3782\u001b[0m     mode\u001b[39m=\u001b[39;49mmode,\n\u001b[0;32m   3783\u001b[0m     chunksize\u001b[39m=\u001b[39;49mchunksize,\n\u001b[0;32m   3784\u001b[0m     quotechar\u001b[39m=\u001b[39;49mquotechar,\n\u001b[0;32m   3785\u001b[0m     date_format\u001b[39m=\u001b[39;49mdate_format,\n\u001b[0;32m   3786\u001b[0m     doublequote\u001b[39m=\u001b[39;49mdoublequote,\n\u001b[0;32m   3787\u001b[0m     escapechar\u001b[39m=\u001b[39;49mescapechar,\n\u001b[0;32m   3788\u001b[0m     storage_options\u001b[39m=\u001b[39;49mstorage_options,\n\u001b[0;32m   3789\u001b[0m )\n",
      "File \u001b[1;32m~\\AppData\\Roaming\\Python\\Python39\\site-packages\\pandas\\io\\formats\\format.py:1186\u001b[0m, in \u001b[0;36mDataFrameRenderer.to_csv\u001b[1;34m(self, path_or_buf, encoding, sep, columns, index_label, mode, compression, quoting, quotechar, lineterminator, chunksize, date_format, doublequote, escapechar, errors, storage_options)\u001b[0m\n\u001b[0;32m   1165\u001b[0m     created_buffer \u001b[39m=\u001b[39m \u001b[39mFalse\u001b[39;00m\n\u001b[0;32m   1167\u001b[0m csv_formatter \u001b[39m=\u001b[39m CSVFormatter(\n\u001b[0;32m   1168\u001b[0m     path_or_buf\u001b[39m=\u001b[39mpath_or_buf,\n\u001b[0;32m   1169\u001b[0m     lineterminator\u001b[39m=\u001b[39mlineterminator,\n\u001b[1;32m   (...)\u001b[0m\n\u001b[0;32m   1184\u001b[0m     formatter\u001b[39m=\u001b[39m\u001b[39mself\u001b[39m\u001b[39m.\u001b[39mfmt,\n\u001b[0;32m   1185\u001b[0m )\n\u001b[1;32m-> 1186\u001b[0m csv_formatter\u001b[39m.\u001b[39;49msave()\n\u001b[0;32m   1188\u001b[0m \u001b[39mif\u001b[39;00m created_buffer:\n\u001b[0;32m   1189\u001b[0m     \u001b[39massert\u001b[39;00m \u001b[39misinstance\u001b[39m(path_or_buf, StringIO)\n",
      "File \u001b[1;32m~\\AppData\\Roaming\\Python\\Python39\\site-packages\\pandas\\io\\formats\\csvs.py:240\u001b[0m, in \u001b[0;36mCSVFormatter.save\u001b[1;34m(self)\u001b[0m\n\u001b[0;32m    236\u001b[0m \u001b[39m\u001b[39m\u001b[39m\"\"\"\u001b[39;00m\n\u001b[0;32m    237\u001b[0m \u001b[39mCreate the writer & save.\u001b[39;00m\n\u001b[0;32m    238\u001b[0m \u001b[39m\"\"\"\u001b[39;00m\n\u001b[0;32m    239\u001b[0m \u001b[39m# apply compression and byte/text conversion\u001b[39;00m\n\u001b[1;32m--> 240\u001b[0m \u001b[39mwith\u001b[39;00m get_handle(\n\u001b[0;32m    241\u001b[0m     \u001b[39mself\u001b[39;49m\u001b[39m.\u001b[39;49mfilepath_or_buffer,\n\u001b[0;32m    242\u001b[0m     \u001b[39mself\u001b[39;49m\u001b[39m.\u001b[39;49mmode,\n\u001b[0;32m    243\u001b[0m     encoding\u001b[39m=\u001b[39;49m\u001b[39mself\u001b[39;49m\u001b[39m.\u001b[39;49mencoding,\n\u001b[0;32m    244\u001b[0m     errors\u001b[39m=\u001b[39;49m\u001b[39mself\u001b[39;49m\u001b[39m.\u001b[39;49merrors,\n\u001b[0;32m    245\u001b[0m     compression\u001b[39m=\u001b[39;49m\u001b[39mself\u001b[39;49m\u001b[39m.\u001b[39;49mcompression,\n\u001b[0;32m    246\u001b[0m     storage_options\u001b[39m=\u001b[39;49m\u001b[39mself\u001b[39;49m\u001b[39m.\u001b[39;49mstorage_options,\n\u001b[0;32m    247\u001b[0m ) \u001b[39mas\u001b[39;00m handles:\n\u001b[0;32m    248\u001b[0m     \u001b[39m# Note: self.encoding is irrelevant here\u001b[39;00m\n\u001b[0;32m    249\u001b[0m     \u001b[39mself\u001b[39m\u001b[39m.\u001b[39mwriter \u001b[39m=\u001b[39m csvlib\u001b[39m.\u001b[39mwriter(\n\u001b[0;32m    250\u001b[0m         handles\u001b[39m.\u001b[39mhandle,\n\u001b[0;32m    251\u001b[0m         lineterminator\u001b[39m=\u001b[39m\u001b[39mself\u001b[39m\u001b[39m.\u001b[39mlineterminator,\n\u001b[1;32m   (...)\u001b[0m\n\u001b[0;32m    256\u001b[0m         quotechar\u001b[39m=\u001b[39m\u001b[39mself\u001b[39m\u001b[39m.\u001b[39mquotechar,\n\u001b[0;32m    257\u001b[0m     )\n\u001b[0;32m    259\u001b[0m     \u001b[39mself\u001b[39m\u001b[39m.\u001b[39m_save()\n",
      "File \u001b[1;32m~\\AppData\\Roaming\\Python\\Python39\\site-packages\\pandas\\io\\common.py:737\u001b[0m, in \u001b[0;36mget_handle\u001b[1;34m(path_or_buf, mode, encoding, compression, memory_map, is_text, errors, storage_options)\u001b[0m\n\u001b[0;32m    735\u001b[0m \u001b[39m# Only for write methods\u001b[39;00m\n\u001b[0;32m    736\u001b[0m \u001b[39mif\u001b[39;00m \u001b[39m\"\u001b[39m\u001b[39mr\u001b[39m\u001b[39m\"\u001b[39m \u001b[39mnot\u001b[39;00m \u001b[39min\u001b[39;00m mode \u001b[39mand\u001b[39;00m is_path:\n\u001b[1;32m--> 737\u001b[0m     check_parent_directory(\u001b[39mstr\u001b[39;49m(handle))\n\u001b[0;32m    739\u001b[0m \u001b[39mif\u001b[39;00m compression:\n\u001b[0;32m    740\u001b[0m     \u001b[39mif\u001b[39;00m compression \u001b[39m!=\u001b[39m \u001b[39m\"\u001b[39m\u001b[39mzstd\u001b[39m\u001b[39m\"\u001b[39m:\n\u001b[0;32m    741\u001b[0m         \u001b[39m# compression libraries do not like an explicit text-mode\u001b[39;00m\n",
      "File \u001b[1;32m~\\AppData\\Roaming\\Python\\Python39\\site-packages\\pandas\\io\\common.py:600\u001b[0m, in \u001b[0;36mcheck_parent_directory\u001b[1;34m(path)\u001b[0m\n\u001b[0;32m    598\u001b[0m parent \u001b[39m=\u001b[39m Path(path)\u001b[39m.\u001b[39mparent\n\u001b[0;32m    599\u001b[0m \u001b[39mif\u001b[39;00m \u001b[39mnot\u001b[39;00m parent\u001b[39m.\u001b[39mis_dir():\n\u001b[1;32m--> 600\u001b[0m     \u001b[39mraise\u001b[39;00m \u001b[39mOSError\u001b[39;00m(\u001b[39mrf\u001b[39m\u001b[39m\"\u001b[39m\u001b[39mCannot save file into a non-existent directory: \u001b[39m\u001b[39m'\u001b[39m\u001b[39m{\u001b[39;00mparent\u001b[39m}\u001b[39;00m\u001b[39m'\u001b[39m\u001b[39m\"\u001b[39m)\n",
      "\u001b[1;31mOSError\u001b[0m: Cannot save file into a non-existent directory: '..\\01_data'"
     ]
    }
   ],
   "source": [
    "#data_dir = \n",
    "processed_monthly_df.to_csv('../01_data/processed_monthly_turnover.csv', index=False)"
   ]
  },
  {
   "cell_type": "code",
   "execution_count": 26,
   "metadata": {},
   "outputs": [],
   "source": [
    "'03_data_wrangling'('python_data_wrangling'(file))"
   ]
  },
  {
   "cell_type": "code",
   "execution_count": 56,
   "metadata": {},
   "outputs": [
    {
     "ename": "TypeError",
     "evalue": "abspath() missing 1 required positional argument: 'path'",
     "output_type": "error",
     "traceback": [
      "\u001b[1;31m---------------------------------------------------------------------------\u001b[0m",
      "\u001b[1;31mTypeError\u001b[0m                                 Traceback (most recent call last)",
      "Cell \u001b[1;32mIn[56], line 2\u001b[0m\n\u001b[0;32m      1\u001b[0m \u001b[39m#os.path.abspath(os.path.join(os.path.dirname('./python_data_wrangling'),\"..\"))\u001b[39;00m\n\u001b[1;32m----> 2\u001b[0m path \u001b[39m=\u001b[39m os\u001b[39m.\u001b[39;49mpath\u001b[39m.\u001b[39;49mabspath()\n",
      "\u001b[1;31mTypeError\u001b[0m: abspath() missing 1 required positional argument: 'path'"
     ]
    }
   ],
   "source": [
    "#os.path.abspath(os.path.join(os.path.dirname('./python_data_wrangling'),\"..\"))\n",
    "path = os.path.abspath('python')\n"
   ]
  },
  {
   "cell_type": "code",
   "execution_count": 57,
   "metadata": {},
   "outputs": [
    {
     "data": {
      "text/plain": [
       "'c:\\\\Users\\\\MarieRogers\\\\NHS England\\\\Workforce Insights and Analytics - General\\\\Working_Folders\\\\Marie R\\\\HSMAproject2023\\\\03_data_wrangling\\\\python_data_wrangling'"
      ]
     },
     "execution_count": 57,
     "metadata": {},
     "output_type": "execute_result"
    }
   ],
   "source": [
    "os.getcwd()"
   ]
  },
  {
   "cell_type": "code",
   "execution_count": 55,
   "metadata": {},
   "outputs": [
    {
     "data": {
      "text/plain": [
       "'c:\\\\Users\\\\MarieRogers\\\\NHS England\\\\Workforce Insights and Analytics - General\\\\Working_Folders\\\\Marie R\\\\HSMAproject2023\\\\03_data_wrangling\\\\03_data_wrangling'"
      ]
     },
     "execution_count": 55,
     "metadata": {},
     "output_type": "execute_result"
    }
   ],
   "source": [
    "path"
   ]
  }
 ],
 "metadata": {
  "kernelspec": {
   "display_name": "Python 3",
   "language": "python",
   "name": "python3"
  },
  "language_info": {
   "codemirror_mode": {
    "name": "ipython",
    "version": 3
   },
   "file_extension": ".py",
   "mimetype": "text/x-python",
   "name": "python",
   "nbconvert_exporter": "python",
   "pygments_lexer": "ipython3",
   "version": "3.9.0"
  },
  "orig_nbformat": 4
 },
 "nbformat": 4,
 "nbformat_minor": 2
}
