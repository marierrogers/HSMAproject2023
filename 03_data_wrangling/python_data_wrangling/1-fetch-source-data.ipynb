{
 "cells": [
  {
   "cell_type": "code",
   "execution_count": null,
   "metadata": {},
   "outputs": [],
   "source": [
    "import requests, os\n",
    "from bs4 import BeautifulSoup\n",
    "import re"
   ]
  },
  {
   "cell_type": "code",
   "execution_count": null,
   "metadata": {},
   "outputs": [],
   "source": [
    "%pwd"
   ]
  },
  {
   "cell_type": "code",
   "execution_count": null,
   "metadata": {},
   "outputs": [],
   "source": [
    "check_url = 'https://digital.nhs.uk/data-and-information/publications/statistical/nhs-workforce-statistics'\n",
    "file_source_url = 'https://digital.nhs.uk'\n",
    "\n",
    "response = requests.get(check_url)\n",
    "\n",
    "soup = BeautifulSoup(response.content, 'html.parser')\n",
    "links = soup.find( id=\"past-publications\").find_all(href=re.compile(\"publications/statistical/nhs-workforce-statistics\"))"
   ]
  },
  {
   "cell_type": "code",
   "execution_count": null,
   "metadata": {},
   "outputs": [],
   "source": [
    "from datetime import datetime"
   ]
  },
  {
   "cell_type": "code",
   "execution_count": null,
   "metadata": {},
   "outputs": [],
   "source": [
    "def retrieve_stats_urls(url_string, base_url_string = \"publications/statistical/nhs-workforce-statistics\"):\n",
    "    x = url_string.split('/')\n",
    "    #print(x[-1])\n",
    "    date_string = x[-1]\n",
    "    try:\n",
    "        formatted_date = datetime.strptime(date_string, \"%B-%Y\")\n",
    "        #print(formatted_date)\n",
    "        return {\n",
    "            'orig_url': url_string,\n",
    "            'the_date': formatted_date\n",
    "        }\n",
    "    except:\n",
    "        #print('Could not format date')\n",
    "        pass"
   ]
  },
  {
   "cell_type": "code",
   "execution_count": null,
   "metadata": {},
   "outputs": [],
   "source": [
    "stats_urls_list = []\n",
    "\n",
    "for link in links:\n",
    "    #print(link['href'])\n",
    "    get_url = retrieve_stats_urls(link['href'])\n",
    "    if get_url is not None:\n",
    "        stats_urls_list.append(get_url)"
   ]
  },
  {
   "cell_type": "code",
   "execution_count": null,
   "metadata": {},
   "outputs": [],
   "source": [
    "stats_urls_list"
   ]
  },
  {
   "cell_type": "code",
   "execution_count": null,
   "metadata": {},
   "outputs": [],
   "source": [
    "most_recent = datetime.strptime(\"January-2000\", \"%B-%Y\")\n",
    "most_recent_url = \"\"\n",
    "for u in stats_urls_list:\n",
    "    if u['the_date'] > most_recent:\n",
    "        print(f\"{u['the_date']} is greater than {most_recent}\")\n",
    "        most_recent = u['the_date']\n",
    "        most_recent_url = u['orig_url']\n",
    "    # else:\n",
    "    #     print(f\"{u['the_date']} is not greater than {most_recent}\")\n",
    "        "
   ]
  },
  {
   "cell_type": "code",
   "execution_count": null,
   "metadata": {},
   "outputs": [],
   "source": [
    "web_page_for_data = file_source_url + most_recent_url\n",
    "\n",
    "print(web_page_for_data)\n",
    "\n",
    "#fetch_zip_urls <- read_html(web_page_for_data) %>% html_elements('a') %>% html_attr('href')"
   ]
  },
  {
   "cell_type": "code",
   "execution_count": null,
   "metadata": {},
   "outputs": [],
   "source": [
    "def fetch_zip_url(url):\n",
    "    # Iterate through URLs as latest may not have any zip files\n",
    "    response = requests.get(url)\n",
    "    soup = BeautifulSoup(response.content, 'html.parser')\n",
    "    return(soup.find(href=re.compile(\"(?i).*turnover.*\\.zip\")))"
   ]
  },
  {
   "cell_type": "code",
   "execution_count": null,
   "metadata": {},
   "outputs": [],
   "source": [
    "a = fetch_zip_url(web_page_for_data)"
   ]
  },
  {
   "cell_type": "code",
   "execution_count": null,
   "metadata": {},
   "outputs": [],
   "source": [
    "a['href']"
   ]
  },
  {
   "cell_type": "code",
   "execution_count": null,
   "metadata": {},
   "outputs": [],
   "source": [
    "from pathlib import Path\n",
    "\n",
    "for filename in Path(\"./tempdir\").glob(\"*.*\"):\n",
    "    filename.unlink()"
   ]
  },
  {
   "cell_type": "code",
   "execution_count": null,
   "metadata": {},
   "outputs": [],
   "source": [
    "resp = requests.get(a['href']) # making requests to server\n",
    "\n",
    "# Check whether the specified path exists or not\n",
    "isExist = os.path.exists(\"./tempdir/\")\n",
    "if not isExist:\n",
    "   # Create a new directory because it does not exist\n",
    "   os.makedirs(\"./tempdir/\")\n",
    "   \n",
    "with open(\"./tempdir/turnover.zip\", \"wb\") as f: # opening a file handler to create new file \n",
    "    f.write(resp.content) # writing content to file\n",
    "    f.close()"
   ]
  },
  {
   "cell_type": "code",
   "execution_count": null,
   "metadata": {},
   "outputs": [],
   "source": [
    "import zipfile\n",
    "with zipfile.ZipFile(\"./tempdir/turnover.zip\", 'r') as zip_ref:\n",
    "    zip_ref.extractall(\"./tempdir\")"
   ]
  },
  {
   "cell_type": "code",
   "execution_count": null,
   "metadata": {},
   "outputs": [],
   "source": [
    "from urllib.request import urlopen\n",
    "  \n",
    "# import json\n",
    "import json\n",
    "# store the URL in url as \n",
    "# parameter for urlopen\n",
    "url = \"https://directory.spineservices.nhs.uk/ORD/2-0-0/organisations?Status=Inactive&Roles=RO197,RO98&Limit=1000\"\n",
    "  \n",
    "# store the response of URL\n",
    "response = urlopen(url)\n",
    "  \n",
    "# storing the JSON response \n",
    "# from url in data\n",
    "data_json = json.loads(response.read())\n",
    "  \n",
    "# print the json response\n",
    "#print(data_json)"
   ]
  },
  {
   "cell_type": "code",
   "execution_count": 95,
   "metadata": {},
   "outputs": [],
   "source": [
    "inactive_orgs = []\n",
    "\n",
    "for q in data_json['Organisations']:\n",
    "    inactive_orgs.append({\n",
    "        \"name\": q['Name'],\n",
    "        \"org_id\" : q['OrgId']\n",
    "    })"
   ]
  },
  {
   "cell_type": "code",
   "execution_count": 96,
   "metadata": {},
   "outputs": [
    {
     "data": {
      "text/plain": [
       "463"
      ]
     },
     "execution_count": 96,
     "metadata": {},
     "output_type": "execute_result"
    }
   ],
   "source": [
    "len(inactive_orgs)"
   ]
  },
  {
   "cell_type": "code",
   "execution_count": 102,
   "metadata": {},
   "outputs": [],
   "source": [
    "with open(\"./tempdir/inactive_organisations.txt\", 'w') as f:\n",
    "    json.dump(inactive_orgs, f)\n",
    "f.close()"
   ]
  }
 ],
 "metadata": {
  "kernelspec": {
   "display_name": "prophet",
   "language": "python",
   "name": "python3"
  },
  "language_info": {
   "codemirror_mode": {
    "name": "ipython",
    "version": 3
   },
   "file_extension": ".py",
   "mimetype": "text/x-python",
   "name": "python",
   "nbconvert_exporter": "python",
   "pygments_lexer": "ipython3",
   "version": "3.9.13"
  },
  "orig_nbformat": 4
 },
 "nbformat": 4,
 "nbformat_minor": 2
}
