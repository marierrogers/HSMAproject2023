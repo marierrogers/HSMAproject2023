{
 "cells": [
  {
   "cell_type": "code",
   "execution_count": 1,
   "metadata": {},
   "outputs": [],
   "source": [
    "import requests, os\n",
    "from bs4 import BeautifulSoup\n",
    "import re"
   ]
  },
  {
   "cell_type": "code",
   "execution_count": 2,
   "metadata": {},
   "outputs": [
    {
     "data": {
      "text/plain": [
       "'/Users/tricky999/Dropbox/1-Research/HSMAproject2023/03_data_wrangling/python_data_wrangling'"
      ]
     },
     "execution_count": 2,
     "metadata": {},
     "output_type": "execute_result"
    }
   ],
   "source": [
    "%pwd"
   ]
  },
  {
   "cell_type": "code",
   "execution_count": 3,
   "metadata": {},
   "outputs": [],
   "source": [
    "check_url = 'https://digital.nhs.uk/data-and-information/publications/statistical/nhs-workforce-statistics'\n",
    "file_source_url = 'https://digital.nhs.uk'\n",
    "\n",
    "response = requests.get(check_url)\n",
    "\n",
    "soup = BeautifulSoup(response.content, 'html.parser')\n",
    "links = soup.find( id=\"past-publications\").find_all(href=re.compile(\"publications/statistical/nhs-workforce-statistics\"))"
   ]
  },
  {
   "cell_type": "code",
   "execution_count": 4,
   "metadata": {},
   "outputs": [],
   "source": [
    "from datetime import datetime"
   ]
  },
  {
   "cell_type": "code",
   "execution_count": 5,
   "metadata": {},
   "outputs": [],
   "source": [
    "def retrieve_stats_urls(url_string, base_url_string = \"publications/statistical/nhs-workforce-statistics\"):\n",
    "    x = url_string.split('/')\n",
    "    #print(x[-1])\n",
    "    date_string = x[-1]\n",
    "    try:\n",
    "        formatted_date = datetime.strptime(date_string, \"%B-%Y\")\n",
    "        #print(formatted_date)\n",
    "        return {\n",
    "            'orig_url': url_string,\n",
    "            'the_date': formatted_date\n",
    "        }\n",
    "    except:\n",
    "        #print('Could not format date')\n",
    "        pass"
   ]
  },
  {
   "cell_type": "code",
   "execution_count": 6,
   "metadata": {},
   "outputs": [],
   "source": [
    "stats_urls_list = []\n",
    "\n",
    "for link in links:\n",
    "    #print(link['href'])\n",
    "    get_url = retrieve_stats_urls(link['href'])\n",
    "    if get_url is not None:\n",
    "        stats_urls_list.append(get_url)"
   ]
  },
  {
   "cell_type": "code",
   "execution_count": 7,
   "metadata": {},
   "outputs": [
    {
     "data": {
      "text/plain": [
       "[{'orig_url': '/data-and-information/publications/statistical/nhs-workforce-statistics/january-2023',\n",
       "  'the_date': datetime.datetime(2023, 1, 1, 0, 0)},\n",
       " {'orig_url': '/data-and-information/publications/statistical/nhs-workforce-statistics/december-2022',\n",
       "  'the_date': datetime.datetime(2022, 12, 1, 0, 0)},\n",
       " {'orig_url': '/data-and-information/publications/statistical/nhs-workforce-statistics/november-2022',\n",
       "  'the_date': datetime.datetime(2022, 11, 1, 0, 0)},\n",
       " {'orig_url': '/data-and-information/publications/statistical/nhs-workforce-statistics/october-2022',\n",
       "  'the_date': datetime.datetime(2022, 10, 1, 0, 0)},\n",
       " {'orig_url': '/data-and-information/publications/statistical/nhs-workforce-statistics/september-2022',\n",
       "  'the_date': datetime.datetime(2022, 9, 1, 0, 0)},\n",
       " {'orig_url': '/data-and-information/publications/statistical/nhs-workforce-statistics/august-2022',\n",
       "  'the_date': datetime.datetime(2022, 8, 1, 0, 0)},\n",
       " {'orig_url': '/data-and-information/publications/statistical/nhs-workforce-statistics/july-2022',\n",
       "  'the_date': datetime.datetime(2022, 7, 1, 0, 0)},\n",
       " {'orig_url': '/data-and-information/publications/statistical/nhs-workforce-statistics/june-2022',\n",
       "  'the_date': datetime.datetime(2022, 6, 1, 0, 0)},\n",
       " {'orig_url': '/data-and-information/publications/statistical/nhs-workforce-statistics/may-2022',\n",
       "  'the_date': datetime.datetime(2022, 5, 1, 0, 0)},\n",
       " {'orig_url': '/data-and-information/publications/statistical/nhs-workforce-statistics/april-2022',\n",
       "  'the_date': datetime.datetime(2022, 4, 1, 0, 0)},\n",
       " {'orig_url': '/data-and-information/publications/statistical/nhs-workforce-statistics/march-2022',\n",
       "  'the_date': datetime.datetime(2022, 3, 1, 0, 0)},\n",
       " {'orig_url': '/data-and-information/publications/statistical/nhs-workforce-statistics/february-2022',\n",
       "  'the_date': datetime.datetime(2022, 2, 1, 0, 0)},\n",
       " {'orig_url': '/data-and-information/publications/statistical/nhs-workforce-statistics/january-2022',\n",
       "  'the_date': datetime.datetime(2022, 1, 1, 0, 0)},\n",
       " {'orig_url': '/data-and-information/publications/statistical/nhs-workforce-statistics/december-2021',\n",
       "  'the_date': datetime.datetime(2021, 12, 1, 0, 0)},\n",
       " {'orig_url': '/data-and-information/publications/statistical/nhs-workforce-statistics/november-2021',\n",
       "  'the_date': datetime.datetime(2021, 11, 1, 0, 0)},\n",
       " {'orig_url': '/data-and-information/publications/statistical/nhs-workforce-statistics/october-2021',\n",
       "  'the_date': datetime.datetime(2021, 10, 1, 0, 0)},\n",
       " {'orig_url': '/data-and-information/publications/statistical/nhs-workforce-statistics/september-2021',\n",
       "  'the_date': datetime.datetime(2021, 9, 1, 0, 0)},\n",
       " {'orig_url': '/data-and-information/publications/statistical/nhs-workforce-statistics/august-2021',\n",
       "  'the_date': datetime.datetime(2021, 8, 1, 0, 0)},\n",
       " {'orig_url': '/data-and-information/publications/statistical/nhs-workforce-statistics/july-2021',\n",
       "  'the_date': datetime.datetime(2021, 7, 1, 0, 0)},\n",
       " {'orig_url': '/data-and-information/publications/statistical/nhs-workforce-statistics/june-2021',\n",
       "  'the_date': datetime.datetime(2021, 6, 1, 0, 0)},\n",
       " {'orig_url': '/data-and-information/publications/statistical/nhs-workforce-statistics/may-2021',\n",
       "  'the_date': datetime.datetime(2021, 5, 1, 0, 0)},\n",
       " {'orig_url': '/data-and-information/publications/statistical/nhs-workforce-statistics/april-2021',\n",
       "  'the_date': datetime.datetime(2021, 4, 1, 0, 0)},\n",
       " {'orig_url': '/data-and-information/publications/statistical/nhs-workforce-statistics/march-2021',\n",
       "  'the_date': datetime.datetime(2021, 3, 1, 0, 0)},\n",
       " {'orig_url': '/data-and-information/publications/statistical/nhs-workforce-statistics/february-2021',\n",
       "  'the_date': datetime.datetime(2021, 2, 1, 0, 0)},\n",
       " {'orig_url': '/data-and-information/publications/statistical/nhs-workforce-statistics/january-2021',\n",
       "  'the_date': datetime.datetime(2021, 1, 1, 0, 0)},\n",
       " {'orig_url': '/data-and-information/publications/statistical/nhs-workforce-statistics/december-2020',\n",
       "  'the_date': datetime.datetime(2020, 12, 1, 0, 0)},\n",
       " {'orig_url': '/data-and-information/publications/statistical/nhs-workforce-statistics/november-2020',\n",
       "  'the_date': datetime.datetime(2020, 11, 1, 0, 0)},\n",
       " {'orig_url': '/data-and-information/publications/statistical/nhs-workforce-statistics/october-2020',\n",
       "  'the_date': datetime.datetime(2020, 10, 1, 0, 0)},\n",
       " {'orig_url': '/data-and-information/publications/statistical/nhs-workforce-statistics/september-2020',\n",
       "  'the_date': datetime.datetime(2020, 9, 1, 0, 0)},\n",
       " {'orig_url': '/data-and-information/publications/statistical/nhs-workforce-statistics/august-2020',\n",
       "  'the_date': datetime.datetime(2020, 8, 1, 0, 0)},\n",
       " {'orig_url': '/data-and-information/publications/statistical/nhs-workforce-statistics/july-2020',\n",
       "  'the_date': datetime.datetime(2020, 7, 1, 0, 0)},\n",
       " {'orig_url': '/data-and-information/publications/statistical/nhs-workforce-statistics/june-2020',\n",
       "  'the_date': datetime.datetime(2020, 6, 1, 0, 0)},\n",
       " {'orig_url': '/data-and-information/publications/statistical/nhs-workforce-statistics/may-2020',\n",
       "  'the_date': datetime.datetime(2020, 5, 1, 0, 0)},\n",
       " {'orig_url': '/data-and-information/publications/statistical/nhs-workforce-statistics/april-2020',\n",
       "  'the_date': datetime.datetime(2020, 4, 1, 0, 0)},\n",
       " {'orig_url': '/data-and-information/publications/statistical/nhs-workforce-statistics/march-2020',\n",
       "  'the_date': datetime.datetime(2020, 3, 1, 0, 0)},\n",
       " {'orig_url': '/data-and-information/publications/statistical/nhs-workforce-statistics/february-2020',\n",
       "  'the_date': datetime.datetime(2020, 2, 1, 0, 0)},\n",
       " {'orig_url': '/data-and-information/publications/statistical/nhs-workforce-statistics/january-2020',\n",
       "  'the_date': datetime.datetime(2020, 1, 1, 0, 0)},\n",
       " {'orig_url': '/data-and-information/publications/statistical/nhs-workforce-statistics/december-2019',\n",
       "  'the_date': datetime.datetime(2019, 12, 1, 0, 0)},\n",
       " {'orig_url': '/data-and-information/publications/statistical/nhs-workforce-statistics/november-2019',\n",
       "  'the_date': datetime.datetime(2019, 11, 1, 0, 0)},\n",
       " {'orig_url': '/data-and-information/publications/statistical/nhs-workforce-statistics/october-2019',\n",
       "  'the_date': datetime.datetime(2019, 10, 1, 0, 0)},\n",
       " {'orig_url': '/data-and-information/publications/statistical/nhs-workforce-statistics/september-2019',\n",
       "  'the_date': datetime.datetime(2019, 9, 1, 0, 0)},\n",
       " {'orig_url': '/data-and-information/publications/statistical/nhs-workforce-statistics/august-2019',\n",
       "  'the_date': datetime.datetime(2019, 8, 1, 0, 0)},\n",
       " {'orig_url': '/data-and-information/publications/statistical/nhs-workforce-statistics/july-2019',\n",
       "  'the_date': datetime.datetime(2019, 7, 1, 0, 0)},\n",
       " {'orig_url': '/data-and-information/publications/statistical/nhs-workforce-statistics/june-2019',\n",
       "  'the_date': datetime.datetime(2019, 6, 1, 0, 0)},\n",
       " {'orig_url': '/data-and-information/publications/statistical/nhs-workforce-statistics/may-2019',\n",
       "  'the_date': datetime.datetime(2019, 5, 1, 0, 0)},\n",
       " {'orig_url': '/data-and-information/publications/statistical/nhs-workforce-statistics/april-2019',\n",
       "  'the_date': datetime.datetime(2019, 4, 1, 0, 0)},\n",
       " {'orig_url': '/data-and-information/publications/statistical/nhs-workforce-statistics/february-2019',\n",
       "  'the_date': datetime.datetime(2019, 2, 1, 0, 0)},\n",
       " {'orig_url': '/data-and-information/publications/statistical/nhs-workforce-statistics/january-2019',\n",
       "  'the_date': datetime.datetime(2019, 1, 1, 0, 0)},\n",
       " {'orig_url': '/data-and-information/publications/statistical/nhs-workforce-statistics/december-2018',\n",
       "  'the_date': datetime.datetime(2018, 12, 1, 0, 0)},\n",
       " {'orig_url': '/data-and-information/publications/statistical/nhs-workforce-statistics/november-2018',\n",
       "  'the_date': datetime.datetime(2018, 11, 1, 0, 0)},\n",
       " {'orig_url': '/data-and-information/publications/statistical/nhs-workforce-statistics/october-2018',\n",
       "  'the_date': datetime.datetime(2018, 10, 1, 0, 0)},\n",
       " {'orig_url': '/data-and-information/publications/statistical/nhs-workforce-statistics/september-2018',\n",
       "  'the_date': datetime.datetime(2018, 9, 1, 0, 0)},\n",
       " {'orig_url': '/data-and-information/publications/statistical/nhs-workforce-statistics/august-2018',\n",
       "  'the_date': datetime.datetime(2018, 8, 1, 0, 0)},\n",
       " {'orig_url': '/data-and-information/publications/statistical/nhs-workforce-statistics/july-2018',\n",
       "  'the_date': datetime.datetime(2018, 7, 1, 0, 0)},\n",
       " {'orig_url': '/data-and-information/publications/statistical/nhs-workforce-statistics/june-2018',\n",
       "  'the_date': datetime.datetime(2018, 6, 1, 0, 0)},\n",
       " {'orig_url': '/data-and-information/publications/statistical/nhs-workforce-statistics/may-2018',\n",
       "  'the_date': datetime.datetime(2018, 5, 1, 0, 0)}]"
      ]
     },
     "execution_count": 7,
     "metadata": {},
     "output_type": "execute_result"
    }
   ],
   "source": [
    "stats_urls_list"
   ]
  },
  {
   "cell_type": "code",
   "execution_count": 8,
   "metadata": {},
   "outputs": [],
   "source": [
    "stats_urls_list.sort(key = lambda x:x['the_date'], reverse=True)"
   ]
  },
  {
   "cell_type": "code",
   "execution_count": 9,
   "metadata": {},
   "outputs": [
    {
     "name": "stdout",
     "output_type": "stream",
     "text": [
      "https://digital.nhs.uk/data-and-information/publications/statistical/nhs-workforce-statistics/december-2022\n"
     ]
    }
   ],
   "source": [
    "web_page_for_data = file_source_url + stats_urls_list[1]['orig_url']\n",
    "\n",
    "print(web_page_for_data)\n",
    "\n",
    "#fetch_zip_urls <- read_html(web_page_for_data) %>% html_elements('a') %>% html_attr('href')"
   ]
  },
  {
   "cell_type": "code",
   "execution_count": 10,
   "metadata": {},
   "outputs": [
    {
     "data": {
      "text/plain": [
       "'https://files.digital.nhs.uk/6D/D87D0D/HCHS%20staff%20in%20NHS%20Trusts%20and%20core%20orgs%20December%202022%20-%20Turnover%20tables.xlsx'"
      ]
     },
     "execution_count": 10,
     "metadata": {},
     "output_type": "execute_result"
    }
   ],
   "source": [
    "response2 = requests.get(\"https://digital.nhs.uk/data-and-information/publications/statistical/nhs-workforce-statistics/december-2022\")\n",
    "\n",
    "soup2 = BeautifulSoup(response2.content, 'html.parser')\n",
    "links2 = soup2.find('a', href=re.compile(\"Turnover\"))['href']\n",
    "links2"
   ]
  },
  {
   "cell_type": "code",
   "execution_count": 11,
   "metadata": {},
   "outputs": [],
   "source": [
    "def fetch_zip_url(url):\n",
    "    # Iterate through URLs as latest may not have any zip files\n",
    "    response = requests.get(url)\n",
    "    soup = BeautifulSoup(response.content, 'html.parser')\n",
    "    return(soup.find(href=re.compile(\".zip\")))"
   ]
  },
  {
   "cell_type": "code",
   "execution_count": 12,
   "metadata": {},
   "outputs": [],
   "source": [
    "a = fetch_zip_url(\"https://digital.nhs.uk/data-and-information/publications/statistical/nhs-workforce-statistics/december-2022\")"
   ]
  },
  {
   "cell_type": "code",
   "execution_count": 13,
   "metadata": {},
   "outputs": [
    {
     "data": {
      "text/plain": [
       "'https://files.digital.nhs.uk/D4/51C872/NHS%20Workforce%20Statistics%2C%20December%202022%20csv%20files.zip'"
      ]
     },
     "execution_count": 13,
     "metadata": {},
     "output_type": "execute_result"
    }
   ],
   "source": [
    "a['href']"
   ]
  },
  {
   "cell_type": "code",
   "execution_count": 14,
   "metadata": {},
   "outputs": [],
   "source": [
    "from pathlib import Path\n",
    "\n",
    "for filename in Path(\"./tempdir\").glob(\"*.*\"):\n",
    "    filename.unlink()"
   ]
  },
  {
   "cell_type": "code",
   "execution_count": 16,
   "metadata": {},
   "outputs": [],
   "source": [
    "resp = requests.get(a['href']) # making requests to server\n",
    "\n",
    "# Check whether the specified path exists or not\n",
    "isExist = os.path.exists(\"./tempdir/\")\n",
    "if not isExist:\n",
    "   # Create a new directory because it does not exist\n",
    "   os.makedirs(\"./tempdir/\")\n",
    "   \n",
    "with open(\"./tempdir/turnover.zip\", \"wb\") as f: # opening a file handler to create new file \n",
    "    f.write(resp.content) # writing content to file\n",
    "    f.close()"
   ]
  },
  {
   "cell_type": "code",
   "execution_count": 18,
   "metadata": {},
   "outputs": [],
   "source": [
    "import zipfile\n",
    "with zipfile.ZipFile(\"./tempdir/turnover.zip\", 'r') as zip_ref:\n",
    "    zip_ref.extractall(\"./tempdir\")"
   ]
  },
  {
   "cell_type": "code",
   "execution_count": 19,
   "metadata": {},
   "outputs": [],
   "source": [
    "from urllib.request import urlopen\n",
    "  \n",
    "# import json\n",
    "import json\n",
    "# store the URL in url as \n",
    "# parameter for urlopen\n",
    "url = \"https://directory.spineservices.nhs.uk/ORD/2-0-0/organisations?Status=Inactive&Roles=RO197,RO98&Limit=1000\"\n",
    "  \n",
    "# store the response of URL\n",
    "response = urlopen(url)\n",
    "  \n",
    "# storing the JSON response \n",
    "# from url in data\n",
    "data_json = json.loads(response.read())\n",
    "  \n",
    "# print the json response\n",
    "#print(data_json)"
   ]
  },
  {
   "cell_type": "code",
   "execution_count": 20,
   "metadata": {},
   "outputs": [],
   "source": [
    "inactive_orgs = []\n",
    "\n",
    "for q in data_json['Organisations']:\n",
    "    inactive_orgs.append({\n",
    "        'name': q['Name'],\n",
    "        'org_id' : q['OrgId']\n",
    "    })"
   ]
  },
  {
   "cell_type": "code",
   "execution_count": 21,
   "metadata": {},
   "outputs": [
    {
     "data": {
      "text/plain": [
       "463"
      ]
     },
     "execution_count": 21,
     "metadata": {},
     "output_type": "execute_result"
    }
   ],
   "source": [
    "len(inactive_orgs)"
   ]
  },
  {
   "cell_type": "code",
   "execution_count": 22,
   "metadata": {},
   "outputs": [],
   "source": [
    "with open(\"./tempdir/inactive_organisations.txt\", 'w') as f:\n",
    "    for i in inactive_orgs:\n",
    "        f.write(f\"{i}\\n\")"
   ]
  }
 ],
 "metadata": {
  "kernelspec": {
   "display_name": "prophet",
   "language": "python",
   "name": "python3"
  },
  "language_info": {
   "codemirror_mode": {
    "name": "ipython",
    "version": 3
   },
   "file_extension": ".py",
   "mimetype": "text/x-python",
   "name": "python",
   "nbconvert_exporter": "python",
   "pygments_lexer": "ipython3",
   "version": "3.9.16"
  },
  "orig_nbformat": 4
 },
 "nbformat": 4,
 "nbformat_minor": 2
}
